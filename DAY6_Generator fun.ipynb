{
 "cells": [
  {
   "cell_type": "code",
   "execution_count": 1,
   "id": "1d630def-f718-41b7-9c2d-dc27ea9638f4",
   "metadata": {},
   "outputs": [
    {
     "data": {
      "text/plain": [
       "range(1, 10)"
      ]
     },
     "execution_count": 1,
     "metadata": {},
     "output_type": "execute_result"
    }
   ],
   "source": [
    "range(1,10)"
   ]
  },
  {
   "cell_type": "code",
   "execution_count": 2,
   "id": "4d5de7b4-e912-4ab7-8df7-48de10e46112",
   "metadata": {},
   "outputs": [
    {
     "name": "stdout",
     "output_type": "stream",
     "text": [
      "1\n",
      "2\n",
      "3\n",
      "4\n",
      "5\n",
      "6\n",
      "7\n",
      "8\n",
      "9\n"
     ]
    }
   ],
   "source": [
    "for i in range(1,10):\n",
    "    print(i)"
   ]
  },
  {
   "cell_type": "code",
   "execution_count": 3,
   "id": "056a0a8c-ff9f-43c4-a613-84124ddb846e",
   "metadata": {},
   "outputs": [],
   "source": [
    "l=[1,2,3,3,4,5,5,6,7,\"sudh\",\"pwskills\"]"
   ]
  },
  {
   "cell_type": "code",
   "execution_count": 5,
   "id": "7292eb9d-f45e-4bb0-a7ca-db3a97c62469",
   "metadata": {},
   "outputs": [],
   "source": [
    "def test(a):\n",
    "    n=[]\n",
    "    for i in a:\n",
    "        if type(i)==int:\n",
    "            n.append(i)\n",
    "    return n       "
   ]
  },
  {
   "cell_type": "code",
   "execution_count": 6,
   "id": "966fbf9a-2a80-4ced-adca-86ee5d156912",
   "metadata": {},
   "outputs": [
    {
     "data": {
      "text/plain": [
       "[1, 2, 3, 3, 4, 5, 5, 6, 7]"
      ]
     },
     "execution_count": 6,
     "metadata": {},
     "output_type": "execute_result"
    }
   ],
   "source": [
    "test(l)"
   ]
  },
  {
   "cell_type": "code",
   "execution_count": 7,
   "id": "b02beb34-c251-4e2f-83a7-d49edcc685fc",
   "metadata": {},
   "outputs": [],
   "source": [
    "## Fibonacci series 0,1,1,2,3,5,8,13,21,34,.. "
   ]
  },
  {
   "cell_type": "code",
   "execution_count": 8,
   "id": "cb955cf4-9605-4dd4-8b6d-3e8397a34be9",
   "metadata": {},
   "outputs": [],
   "source": [
    "def test_fib(n):\n",
    "    a,b=0,1\n",
    "    for i in range(n):\n",
    "        yield a\n",
    "        a,b=b,a+b"
   ]
  },
  {
   "cell_type": "code",
   "execution_count": 10,
   "id": "3429189f-43b3-4e46-8a37-1ce37f616fa1",
   "metadata": {},
   "outputs": [
    {
     "data": {
      "text/plain": [
       "<generator object test_fib at 0x7f8b65ce5540>"
      ]
     },
     "execution_count": 10,
     "metadata": {},
     "output_type": "execute_result"
    }
   ],
   "source": [
    "test_fib(10)"
   ]
  },
  {
   "cell_type": "code",
   "execution_count": 11,
   "id": "d31169f6-a9c3-44b9-ba99-81b90935bfe4",
   "metadata": {},
   "outputs": [
    {
     "name": "stdout",
     "output_type": "stream",
     "text": [
      "0\n",
      "1\n",
      "1\n",
      "2\n",
      "3\n",
      "5\n",
      "8\n",
      "13\n",
      "21\n",
      "34\n"
     ]
    }
   ],
   "source": [
    "for i in test_fib(10):\n",
    "    print(i)"
   ]
  },
  {
   "cell_type": "code",
   "execution_count": null,
   "id": "136ebd10-bb16-4b53-bc08-b8a5de7ae6cb",
   "metadata": {},
   "outputs": [],
   "source": []
  }
 ],
 "metadata": {
  "kernelspec": {
   "display_name": "Python 3 (ipykernel)",
   "language": "python",
   "name": "python3"
  },
  "language_info": {
   "codemirror_mode": {
    "name": "ipython",
    "version": 3
   },
   "file_extension": ".py",
   "mimetype": "text/x-python",
   "name": "python",
   "nbconvert_exporter": "python",
   "pygments_lexer": "ipython3",
   "version": "3.10.8"
  }
 },
 "nbformat": 4,
 "nbformat_minor": 5
}
