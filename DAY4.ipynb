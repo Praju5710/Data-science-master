{
 "cells": [
  {
   "cell_type": "code",
   "execution_count": 1,
   "id": "233118f1-e4da-4cc1-9efe-62f40c90eb77",
   "metadata": {},
   "outputs": [],
   "source": [
    "name=\"data science\""
   ]
  },
  {
   "cell_type": "code",
   "execution_count": 2,
   "id": "5a516c1d-3098-4513-a455-a427f0441674",
   "metadata": {},
   "outputs": [
    {
     "data": {
      "text/plain": [
       "'DATA SCIENCE'"
      ]
     },
     "execution_count": 2,
     "metadata": {},
     "output_type": "execute_result"
    }
   ],
   "source": [
    "name.swapcase()"
   ]
  },
  {
   "cell_type": "code",
   "execution_count": 3,
   "id": "9f1f0657-a6a2-451c-a6cf-55b5d1009ebb",
   "metadata": {},
   "outputs": [
    {
     "data": {
      "text/plain": [
       "'Data Science'"
      ]
     },
     "execution_count": 3,
     "metadata": {},
     "output_type": "execute_result"
    }
   ],
   "source": [
    "name.title()"
   ]
  },
  {
   "cell_type": "code",
   "execution_count": 4,
   "id": "c53c8b44-2723-4264-b90d-4213abe50456",
   "metadata": {},
   "outputs": [
    {
     "data": {
      "text/plain": [
       "'Data science'"
      ]
     },
     "execution_count": 4,
     "metadata": {},
     "output_type": "execute_result"
    }
   ],
   "source": [
    "name.capitalize()"
   ]
  },
  {
   "cell_type": "markdown",
   "id": "383b82c5-c737-4362-8663-4c568e91a747",
   "metadata": {},
   "source": [
    "## Reversing a string"
   ]
  },
  {
   "cell_type": "code",
   "execution_count": 5,
   "id": "345ff40b-9207-41f4-a3c1-a5b2649f638e",
   "metadata": {},
   "outputs": [
    {
     "data": {
      "text/plain": [
       "'ecneics atad'"
      ]
     },
     "execution_count": 5,
     "metadata": {},
     "output_type": "execute_result"
    }
   ],
   "source": [
    "name[::-1]"
   ]
  },
  {
   "cell_type": "code",
   "execution_count": 6,
   "id": "7b08bba6-8985-444e-a67d-819c36377c5c",
   "metadata": {},
   "outputs": [
    {
     "data": {
      "text/plain": [
       "<reversed at 0x7f01902477f0>"
      ]
     },
     "execution_count": 6,
     "metadata": {},
     "output_type": "execute_result"
    }
   ],
   "source": [
    "reversed(name)"
   ]
  },
  {
   "cell_type": "code",
   "execution_count": 9,
   "id": "88865ce4-17f2-4e8e-9d04-024e774427dd",
   "metadata": {},
   "outputs": [
    {
     "data": {
      "text/plain": [
       "'e c n e i c s   a t a d'"
      ]
     },
     "execution_count": 9,
     "metadata": {},
     "output_type": "execute_result"
    }
   ],
   "source": [
    "' '.join(reversed(name))"
   ]
  },
  {
   "cell_type": "code",
   "execution_count": 10,
   "id": "f753c32a-4fb7-4569-a836-0b8caee0161c",
   "metadata": {},
   "outputs": [
    {
     "data": {
      "text/plain": [
       "'a b c d'"
      ]
     },
     "execution_count": 10,
     "metadata": {},
     "output_type": "execute_result"
    }
   ],
   "source": [
    "\" \".join(\"abcd\")"
   ]
  },
  {
   "cell_type": "code",
   "execution_count": 11,
   "id": "e298cfac-39ff-446f-a63d-16ddbb57de47",
   "metadata": {},
   "outputs": [
    {
     "data": {
      "text/plain": [
       "'d c b a'"
      ]
     },
     "execution_count": 11,
     "metadata": {},
     "output_type": "execute_result"
    }
   ],
   "source": [
    "\" \".join(reversed(\"abcd\"))"
   ]
  },
  {
   "cell_type": "code",
   "execution_count": 12,
   "id": "1421de15-c78d-49da-94f0-49489d363c12",
   "metadata": {},
   "outputs": [
    {
     "data": {
      "text/plain": [
       "'dcba'"
      ]
     },
     "execution_count": 12,
     "metadata": {},
     "output_type": "execute_result"
    }
   ],
   "source": [
    "\"\".join(reversed(\"abcd\"))"
   ]
  },
  {
   "cell_type": "code",
   "execution_count": 13,
   "id": "86301015-6018-4aeb-a4a8-7ccea1752d83",
   "metadata": {},
   "outputs": [
    {
     "data": {
      "text/plain": [
       "'dpwskillscpwskillsbpwskillsa'"
      ]
     },
     "execution_count": 13,
     "metadata": {},
     "output_type": "execute_result"
    }
   ],
   "source": [
    "\"pwskills\".join(reversed(\"abcd\"))"
   ]
  },
  {
   "cell_type": "code",
   "execution_count": 14,
   "id": "e631dd49-8cb9-4cfe-9ca3-fe749c5451a4",
   "metadata": {},
   "outputs": [
    {
     "data": {
      "text/plain": [
       "'d pwskills c pwskills b pwskills a'"
      ]
     },
     "execution_count": 14,
     "metadata": {},
     "output_type": "execute_result"
    }
   ],
   "source": [
    "\" pwskills \".join(reversed(\"abcd\"))"
   ]
  },
  {
   "cell_type": "code",
   "execution_count": 15,
   "id": "c1f73f74-e048-4f5d-875d-f98ceb3dd22d",
   "metadata": {},
   "outputs": [
    {
     "data": {
      "text/plain": [
       "['c', 'b', 'a']"
      ]
     },
     "execution_count": 15,
     "metadata": {},
     "output_type": "execute_result"
    }
   ],
   "source": [
    "list(reversed(\"abc\"))"
   ]
  },
  {
   "cell_type": "code",
   "execution_count": 16,
   "id": "ac61d2f4-42aa-4d0f-ba16-a231589ba611",
   "metadata": {},
   "outputs": [],
   "source": [
    "str=\"PW is a good company\""
   ]
  },
  {
   "cell_type": "code",
   "execution_count": 17,
   "id": "1bfbf711-e1bb-452c-a3f9-5fb0aacfbd0f",
   "metadata": {},
   "outputs": [
    {
     "data": {
      "text/plain": [
       "'P skill W skill   skill i skill s skill   skill a skill   skill g skill o skill o skill d skill   skill c skill o skill m skill p skill a skill n skill y'"
      ]
     },
     "execution_count": 17,
     "metadata": {},
     "output_type": "execute_result"
    }
   ],
   "source": [
    "\" skill \".join(str)"
   ]
  },
  {
   "cell_type": "code",
   "execution_count": 18,
   "id": "05c43acb-3770-4c78-af57-ad7e0ecabc1d",
   "metadata": {},
   "outputs": [
    {
     "data": {
      "text/plain": [
       "'PskillWskill skilliskillsskill skillaskill skillgskilloskilloskilldskill skillcskilloskillmskillpskillaskillnskilly'"
      ]
     },
     "execution_count": 18,
     "metadata": {},
     "output_type": "execute_result"
    }
   ],
   "source": [
    "\"skill\".join(str)"
   ]
  },
  {
   "cell_type": "code",
   "execution_count": 24,
   "id": "2255281e-d416-4026-b458-2395e9c315fa",
   "metadata": {},
   "outputs": [
    {
     "name": "stdout",
     "output_type": "stream",
     "text": [
      "ecneics atad"
     ]
    }
   ],
   "source": [
    "for i in list(reversed(name)):\n",
    "     print(i,end='')"
   ]
  },
  {
   "cell_type": "markdown",
   "id": "2da7fbe8-133c-41c2-834a-e3af28939d00",
   "metadata": {},
   "source": [
    "#### removing character from the end of string"
   ]
  },
  {
   "cell_type": "code",
   "execution_count": 22,
   "id": "5f6d0233-7edc-49b1-b3b0-c8e97efe25ea",
   "metadata": {},
   "outputs": [],
   "source": [
    "str1=\" pwskills \""
   ]
  },
  {
   "cell_type": "code",
   "execution_count": 23,
   "id": "452bea37-b83b-400e-8088-6bcee842c26f",
   "metadata": {},
   "outputs": [
    {
     "data": {
      "text/plain": [
       "'pwskills'"
      ]
     },
     "execution_count": 23,
     "metadata": {},
     "output_type": "execute_result"
    }
   ],
   "source": [
    "str1.strip(\" \")"
   ]
  },
  {
   "cell_type": "code",
   "execution_count": 27,
   "id": "153d2b14-4dcb-45f5-857a-191a514b1198",
   "metadata": {},
   "outputs": [
    {
     "data": {
      "text/plain": [
       "'pwskills '"
      ]
     },
     "execution_count": 27,
     "metadata": {},
     "output_type": "execute_result"
    }
   ],
   "source": [
    "str1.lstrip(\" \")"
   ]
  },
  {
   "cell_type": "code",
   "execution_count": 28,
   "id": "288c2757-0676-45a9-b3ce-53ae5437a69b",
   "metadata": {},
   "outputs": [
    {
     "data": {
      "text/plain": [
       "' pwskills'"
      ]
     },
     "execution_count": 28,
     "metadata": {},
     "output_type": "execute_result"
    }
   ],
   "source": [
    "str1.rstrip(\" \")"
   ]
  },
  {
   "cell_type": "code",
   "execution_count": 3,
   "id": "ed9c6416-55fb-49d8-88e5-11e6295b80d1",
   "metadata": {},
   "outputs": [],
   "source": [
    "str2=\"Greeting to Pwskills\""
   ]
  },
  {
   "cell_type": "code",
   "execution_count": 4,
   "id": "7fe227e1-ba79-4a9a-ad45-cd1c70901933",
   "metadata": {},
   "outputs": [
    {
     "data": {
      "text/plain": [
       "'Greeting from Pwskills'"
      ]
     },
     "execution_count": 4,
     "metadata": {},
     "output_type": "execute_result"
    }
   ],
   "source": [
    "str2.replace(\"to\",\"from\")"
   ]
  },
  {
   "cell_type": "code",
   "execution_count": 5,
   "id": "4f9cae95-c39e-4d27-97a2-791b72015053",
   "metadata": {},
   "outputs": [],
   "source": [
    "v=str2.replace(\"G\",\"T\")"
   ]
  },
  {
   "cell_type": "code",
   "execution_count": 6,
   "id": "0cf72741-49c9-469f-b89e-c39bd4df7026",
   "metadata": {},
   "outputs": [
    {
     "data": {
      "text/plain": [
       "'Treeting to Pwskills'"
      ]
     },
     "execution_count": 6,
     "metadata": {},
     "output_type": "execute_result"
    }
   ],
   "source": [
    "v"
   ]
  },
  {
   "cell_type": "code",
   "execution_count": 9,
   "id": "8c5d4bec-fb77-45a4-803c-eed361f161f2",
   "metadata": {},
   "outputs": [
    {
     "name": "stdout",
     "output_type": "stream",
     "text": [
      "140163349479088\n",
      "140163349920336\n"
     ]
    }
   ],
   "source": [
    "print(id(str2))\n",
    "print(id(v))"
   ]
  },
  {
   "cell_type": "markdown",
   "id": "8e8a6480-f81c-482c-8bfa-3b3222502524",
   "metadata": {},
   "source": [
    "#### strings are immutable"
   ]
  },
  {
   "cell_type": "code",
   "execution_count": 11,
   "id": "2efbc243-efd5-4280-8c05-0e4e03cfcabf",
   "metadata": {},
   "outputs": [
    {
     "data": {
      "text/plain": [
       "'test gmail.com'"
      ]
     },
     "execution_count": 11,
     "metadata": {},
     "output_type": "execute_result"
    }
   ],
   "source": [
    "string=\"test@gmail.com\"\n",
    "string.replace(\"@\",\" \")"
   ]
  },
  {
   "cell_type": "code",
   "execution_count": 12,
   "id": "091ecf44-87f3-401c-b00f-ca065c113c78",
   "metadata": {},
   "outputs": [
    {
     "data": {
      "text/plain": [
       "'hello \\nworld'"
      ]
     },
     "execution_count": 12,
     "metadata": {},
     "output_type": "execute_result"
    }
   ],
   "source": [
    "'hello \\nworld'"
   ]
  },
  {
   "cell_type": "code",
   "execution_count": 13,
   "id": "dcb94b48-5443-4f60-b522-ade7533f5803",
   "metadata": {},
   "outputs": [
    {
     "data": {
      "text/plain": [
       "'hello   world'"
      ]
     },
     "execution_count": 13,
     "metadata": {},
     "output_type": "execute_result"
    }
   ],
   "source": [
    "'hello \\tworld'.expandtabs()"
   ]
  },
  {
   "cell_type": "code",
   "execution_count": 14,
   "id": "b327b32e-cd1b-4cac-9aa1-1e41aa023ba7",
   "metadata": {},
   "outputs": [],
   "source": [
    "str1=\"welcome to pw skills.Welcome to Dat cience masters\" "
   ]
  },
  {
   "cell_type": "code",
   "execution_count": 17,
   "id": "0933738a-e9ad-4b9f-b221-abe80b3525b0",
   "metadata": {},
   "outputs": [
    {
     "data": {
      "text/plain": [
       "'welcome to pw skills.Welcome to data science masters'"
      ]
     },
     "execution_count": 17,
     "metadata": {},
     "output_type": "execute_result"
    }
   ],
   "source": [
    "str1.replace(\"Dat cience\",\"data science\")"
   ]
  },
  {
   "cell_type": "code",
   "execution_count": 19,
   "id": "0ea0b543-5971-44b7-b847-fbc49ff315cb",
   "metadata": {},
   "outputs": [
    {
     "data": {
      "text/plain": [
       "'welcome to pw skills.Welcome to data science masters'"
      ]
     },
     "execution_count": 19,
     "metadata": {},
     "output_type": "execute_result"
    }
   ],
   "source": [
    "str1.replace(\"Dat\",\"data\").replace(\"cience\",\"science\")"
   ]
  },
  {
   "cell_type": "code",
   "execution_count": 20,
   "id": "072f9d2c-e23c-4837-8b6f-844c98c3318a",
   "metadata": {},
   "outputs": [
    {
     "data": {
      "text/plain": [
       "False"
      ]
     },
     "execution_count": 20,
     "metadata": {},
     "output_type": "execute_result"
    }
   ],
   "source": [
    "str1.isupper()"
   ]
  },
  {
   "cell_type": "code",
   "execution_count": 21,
   "id": "2ed8af31-0319-4ddf-98f7-e1d5adf28871",
   "metadata": {},
   "outputs": [
    {
     "data": {
      "text/plain": [
       "True"
      ]
     },
     "execution_count": 21,
     "metadata": {},
     "output_type": "execute_result"
    }
   ],
   "source": [
    "a=\"KRISH\"\n",
    "a.isupper()"
   ]
  },
  {
   "cell_type": "code",
   "execution_count": 22,
   "id": "9b479e86-dc79-4205-bb9d-a16136aa683e",
   "metadata": {},
   "outputs": [
    {
     "data": {
      "text/plain": [
       "False"
      ]
     },
     "execution_count": 22,
     "metadata": {},
     "output_type": "execute_result"
    }
   ],
   "source": [
    "a.islower()"
   ]
  },
  {
   "cell_type": "code",
   "execution_count": 25,
   "id": "749db939-42fa-4515-96d8-4c7e7f6e407b",
   "metadata": {},
   "outputs": [
    {
     "data": {
      "text/plain": [
       "False"
      ]
     },
     "execution_count": 25,
     "metadata": {},
     "output_type": "execute_result"
    }
   ],
   "source": [
    "str1.isspace()"
   ]
  },
  {
   "cell_type": "code",
   "execution_count": 26,
   "id": "6b87e1fc-c857-4b31-9569-ed460194efda",
   "metadata": {},
   "outputs": [
    {
     "data": {
      "text/plain": [
       "True"
      ]
     },
     "execution_count": 26,
     "metadata": {},
     "output_type": "execute_result"
    }
   ],
   "source": [
    "' '.isspace()"
   ]
  },
  {
   "cell_type": "code",
   "execution_count": 27,
   "id": "ec22e762-b0fb-4ee8-82fa-4b0c727bfcdf",
   "metadata": {},
   "outputs": [
    {
     "name": "stdout",
     "output_type": "stream",
     "text": [
      "hello\n"
     ]
    }
   ],
   "source": [
    "if \" \".isspace():\n",
    "    print('hello')"
   ]
  },
  {
   "cell_type": "code",
   "execution_count": 28,
   "id": "dc303c3a-96c9-4baa-86f2-e17d02b4878f",
   "metadata": {},
   "outputs": [],
   "source": [
    "if \"a\".isspace():\n",
    "    print('hello')"
   ]
  },
  {
   "cell_type": "code",
   "execution_count": 17,
   "id": "8fe11a65-99f7-4450-b292-12a2246d7214",
   "metadata": {},
   "outputs": [],
   "source": [
    "str2=\"pwskills\""
   ]
  },
  {
   "cell_type": "code",
   "execution_count": 18,
   "id": "a7101f99-0625-40d8-a92d-664e47fadc21",
   "metadata": {},
   "outputs": [
    {
     "data": {
      "text/plain": [
       "True"
      ]
     },
     "execution_count": 18,
     "metadata": {},
     "output_type": "execute_result"
    }
   ],
   "source": [
    "str2.endswith('s')"
   ]
  },
  {
   "cell_type": "code",
   "execution_count": 19,
   "id": "f3ebdfa1-9374-49d7-a24d-b4e7ae2d4f96",
   "metadata": {},
   "outputs": [
    {
     "data": {
      "text/plain": [
       "True"
      ]
     },
     "execution_count": 19,
     "metadata": {},
     "output_type": "execute_result"
    }
   ],
   "source": [
    "str2.startswith('p')"
   ]
  },
  {
   "cell_type": "code",
   "execution_count": 20,
   "id": "82c7a4fd-f4f1-478d-9016-55422345eb66",
   "metadata": {},
   "outputs": [
    {
     "data": {
      "text/plain": [
       "True"
      ]
     },
     "execution_count": 20,
     "metadata": {},
     "output_type": "execute_result"
    }
   ],
   "source": [
    "##  to check character in string are alphanumeric\n",
    "a=\"abcd1234\"\n",
    "a.isalnum()"
   ]
  },
  {
   "cell_type": "code",
   "execution_count": 21,
   "id": "57cd3da8-ec9c-4b46-be05-f5e1fe7b0999",
   "metadata": {},
   "outputs": [],
   "source": [
    "## to count no of character in strings "
   ]
  },
  {
   "cell_type": "code",
   "execution_count": 22,
   "id": "2547a024-d568-43af-992a-a7d69154d932",
   "metadata": {},
   "outputs": [
    {
     "name": "stdout",
     "output_type": "stream",
     "text": [
      "8\n"
     ]
    }
   ],
   "source": [
    "count=0\n",
    "for i in str2:\n",
    "    count=count+1\n",
    "    \n",
    "print(count)   "
   ]
  },
  {
   "cell_type": "code",
   "execution_count": 23,
   "id": "c21d8cab-9f02-4f9f-8b97-9a4adbb614d6",
   "metadata": {},
   "outputs": [
    {
     "data": {
      "text/plain": [
       "8"
      ]
     },
     "execution_count": 23,
     "metadata": {},
     "output_type": "execute_result"
    }
   ],
   "source": [
    "len(str2)"
   ]
  },
  {
   "cell_type": "code",
   "execution_count": 24,
   "id": "6dd575c7-2069-4c58-b7b9-bdad5d5e2b0e",
   "metadata": {},
   "outputs": [
    {
     "data": {
      "text/plain": [
       "'pwskills'"
      ]
     },
     "execution_count": 24,
     "metadata": {},
     "output_type": "execute_result"
    }
   ],
   "source": [
    "str2"
   ]
  },
  {
   "cell_type": "code",
   "execution_count": 25,
   "id": "61cd2109-0690-4a9c-9e72-549ba45db433",
   "metadata": {},
   "outputs": [
    {
     "name": "stdout",
     "output_type": "stream",
     "text": [
      "p\n",
      "w\n",
      "s\n",
      "k\n",
      "i\n",
      "l\n",
      "l\n",
      "s\n"
     ]
    }
   ],
   "source": [
    "for i in str2:\n",
    "    print(i)"
   ]
  },
  {
   "cell_type": "code",
   "execution_count": 26,
   "id": "05867044-8aee-4812-9cf4-6ef870303561",
   "metadata": {},
   "outputs": [
    {
     "data": {
      "text/plain": [
       "range(0, 8)"
      ]
     },
     "execution_count": 26,
     "metadata": {},
     "output_type": "execute_result"
    }
   ],
   "source": [
    "range(len(str2))"
   ]
  },
  {
   "cell_type": "code",
   "execution_count": 27,
   "id": "3437866b-0202-4121-b887-ee99f971ba2b",
   "metadata": {},
   "outputs": [
    {
     "name": "stdout",
     "output_type": "stream",
     "text": [
      "p\n",
      "w\n",
      "s\n",
      "k\n",
      "i\n",
      "l\n",
      "l\n",
      "s\n"
     ]
    }
   ],
   "source": [
    "for i in range(len(str2)):\n",
    "    print(str2[i])"
   ]
  },
  {
   "cell_type": "code",
   "execution_count": 28,
   "id": "ebbe96c9-df87-43f6-8791-f587fc5b01a8",
   "metadata": {},
   "outputs": [
    {
     "name": "stdout",
     "output_type": "stream",
     "text": [
      "0 = p\n",
      "1 = w\n",
      "2 = s\n",
      "3 = k\n",
      "4 = i\n",
      "5 = l\n",
      "6 = l\n",
      "7 = s\n"
     ]
    }
   ],
   "source": [
    "for i in range(len(str2)):\n",
    "    print(i,\"=\",str2[i])"
   ]
  },
  {
   "cell_type": "code",
   "execution_count": 29,
   "id": "05723ddf-50d2-4357-95c5-99f2f96a0098",
   "metadata": {},
   "outputs": [],
   "source": [
    "### we can use index to iterate string reverse functio n"
   ]
  },
  {
   "cell_type": "code",
   "execution_count": 33,
   "id": "08b6b6eb-0db0-4d1c-9b87-9b60742911e7",
   "metadata": {},
   "outputs": [
    {
     "name": "stdout",
     "output_type": "stream",
     "text": [
      "7 = s\n",
      "6 = l\n",
      "5 = l\n",
      "4 = i\n",
      "3 = k\n",
      "2 = s\n",
      "1 = w\n",
      "0 = p\n"
     ]
    }
   ],
   "source": [
    "for i in range(len(str2)-1,-1,-1):\n",
    "    print(i,\"=\",str2[i])"
   ]
  },
  {
   "cell_type": "code",
   "execution_count": 34,
   "id": "2bf5a750-f954-414b-89d1-339a9b8de7dd",
   "metadata": {},
   "outputs": [
    {
     "name": "stdout",
     "output_type": "stream",
     "text": [
      "7 = s\n",
      "5 = l\n",
      "3 = k\n",
      "1 = w\n"
     ]
    }
   ],
   "source": [
    "for i in range(len(str2)-1,-1,-2):\n",
    "    print(i,\"=\",str2[i])"
   ]
  },
  {
   "cell_type": "code",
   "execution_count": 37,
   "id": "785e7f9f-ca66-4229-af04-55719f53d480",
   "metadata": {},
   "outputs": [
    {
     "name": "stdout",
     "output_type": "stream",
     "text": [
      "s\n",
      "l\n",
      "l\n",
      "i\n",
      "k\n",
      "s\n",
      "w\n",
      "p\n"
     ]
    }
   ],
   "source": [
    "str=\"pwskills\"\n",
    "ch=len(str)-1\n",
    "while ch>=0:\n",
    "    print(str[ch])\n",
    "    ch=ch-1"
   ]
  },
  {
   "cell_type": "code",
   "execution_count": 37,
   "id": "b105cf35-4321-4825-899e-5efc22ba45b2",
   "metadata": {},
   "outputs": [
    {
     "name": "stdout",
     "output_type": "stream",
     "text": [
      "s\n",
      "l\n",
      "l\n",
      "i\n",
      "k\n",
      "s\n",
      "w\n",
      "p\n"
     ]
    }
   ],
   "source": [
    "str=\"pwskills\"\n",
    "ch=len(str)-1\n",
    "while ch>=0:\n",
    "    print(str[ch])\n",
    "    ch=ch-1"
   ]
  },
  {
   "cell_type": "code",
   "execution_count": 3,
   "id": "c693d8cc-685e-47b4-9236-a424d9a4d59e",
   "metadata": {},
   "outputs": [
    {
     "data": {
      "text/plain": [
       "8"
      ]
     },
     "execution_count": 3,
     "metadata": {},
     "output_type": "execute_result"
    }
   ],
   "source": [
    "str1=\"pwskills\"\n",
    "ch=len(str1)\n",
    "ch"
   ]
  },
  {
   "cell_type": "code",
   "execution_count": 4,
   "id": "b9886b03-f112-4685-af19-6b54b0c0758c",
   "metadata": {},
   "outputs": [
    {
     "data": {
      "text/plain": [
       "('s', 'l')"
      ]
     },
     "execution_count": 4,
     "metadata": {},
     "output_type": "execute_result"
    }
   ],
   "source": [
    "str1[7],str1[6]"
   ]
  },
  {
   "cell_type": "code",
   "execution_count": 5,
   "id": "a107c393-3694-48db-8b6d-59c5f285ba70",
   "metadata": {},
   "outputs": [
    {
     "name": "stdout",
     "output_type": "stream",
     "text": [
      "sllikswp"
     ]
    }
   ],
   "source": [
    "for i in range(len(str1)):\n",
    "    print(str1[len(str1)-(i+1)],end=\"\")"
   ]
  },
  {
   "cell_type": "code",
   "execution_count": 6,
   "id": "d3a2390e-df84-401d-93ce-2a9b148a997b",
   "metadata": {},
   "outputs": [
    {
     "name": "stdout",
     "output_type": "stream",
     "text": [
      "s\n",
      "l\n",
      "l\n",
      "i\n",
      "k\n",
      "s\n",
      "w\n",
      "p\n"
     ]
    }
   ],
   "source": [
    "for i in range(len(str1)):\n",
    "    print(str1[len(str1)-(i+1)])"
   ]
  },
  {
   "cell_type": "code",
   "execution_count": 16,
   "id": "76cad9cc-6823-46b5-9bf1-95d730544cda",
   "metadata": {},
   "outputs": [],
   "source": [
    "name=\"pwskills\"\n",
    "vowels=\"aecvcoiuptf\""
   ]
  },
  {
   "cell_type": "code",
   "execution_count": 17,
   "id": "354c6305-9d75-483a-a75d-f30c875df02f",
   "metadata": {},
   "outputs": [
    {
     "name": "stdout",
     "output_type": "stream",
     "text": [
      "p is a vowel\n",
      "w is not a vowel\n",
      "s is not a vowel\n",
      "k is not a vowel\n",
      "i is a vowel\n",
      "l is not a vowel\n",
      "l is not a vowel\n",
      "s is not a vowel\n"
     ]
    }
   ],
   "source": [
    "for ch in name:\n",
    "    if ch in vowels:\n",
    "        print(\"{} is a vowel\".format(ch))\n",
    "    else:\n",
    "        print(\"{} is not a vowel\".format(ch))   "
   ]
  },
  {
   "cell_type": "markdown",
   "id": "f1edd00b-a926-421b-9f7d-6614ae52abb7",
   "metadata": {},
   "source": [
    "## List"
   ]
  },
  {
   "cell_type": "code",
   "execution_count": 19,
   "id": "122580ac-e983-4f6a-83dd-8e92fa8f30fa",
   "metadata": {},
   "outputs": [
    {
     "data": {
      "text/plain": [
       "list"
      ]
     },
     "execution_count": 19,
     "metadata": {},
     "output_type": "execute_result"
    }
   ],
   "source": [
    "type([])"
   ]
  },
  {
   "cell_type": "code",
   "execution_count": 20,
   "id": "c8122113-a8ae-4411-879f-635fbd0d944f",
   "metadata": {},
   "outputs": [
    {
     "data": {
      "text/plain": [
       "[1, 2, 3, 4, 5]"
      ]
     },
     "execution_count": 20,
     "metadata": {},
     "output_type": "execute_result"
    }
   ],
   "source": [
    "list([1,2,3,4,5])"
   ]
  },
  {
   "cell_type": "code",
   "execution_count": 21,
   "id": "e53d5c61-d293-4385-8935-dbc0da4dd26d",
   "metadata": {},
   "outputs": [
    {
     "data": {
      "text/plain": [
       "['krish', 'naik', 22]"
      ]
     },
     "execution_count": 21,
     "metadata": {},
     "output_type": "execute_result"
    }
   ],
   "source": [
    "list([\"krish\",\"naik\",22])"
   ]
  },
  {
   "cell_type": "code",
   "execution_count": 22,
   "id": "c0958a6b-ba18-4d36-9111-966123a3e837",
   "metadata": {},
   "outputs": [
    {
     "data": {
      "text/plain": [
       "'pwskills'"
      ]
     },
     "execution_count": 22,
     "metadata": {},
     "output_type": "execute_result"
    }
   ],
   "source": [
    "str1"
   ]
  },
  {
   "cell_type": "code",
   "execution_count": 24,
   "id": "6807a25c-f5aa-4732-8645-d9991a52ac04",
   "metadata": {},
   "outputs": [
    {
     "data": {
      "text/plain": [
       "['p', 'w', 's', 'k', 'i', 'l', 'l', 's']"
      ]
     },
     "execution_count": 24,
     "metadata": {},
     "output_type": "execute_result"
    }
   ],
   "source": [
    "list(str1)"
   ]
  },
  {
   "cell_type": "code",
   "execution_count": 25,
   "id": "8bc69420-c544-4641-a6e9-aa7a5148747e",
   "metadata": {},
   "outputs": [],
   "source": [
    "str=\"pw skills data science masters\""
   ]
  },
  {
   "cell_type": "code",
   "execution_count": 28,
   "id": "05be22f5-54e6-4638-aa29-988cf288672d",
   "metadata": {},
   "outputs": [],
   "source": [
    "lst1=str.split(\" \")"
   ]
  },
  {
   "cell_type": "code",
   "execution_count": 30,
   "id": "8870cadb-74c1-4ba7-9e0d-d45e4d1e81d3",
   "metadata": {},
   "outputs": [
    {
     "data": {
      "text/plain": [
       "'skills'"
      ]
     },
     "execution_count": 30,
     "metadata": {},
     "output_type": "execute_result"
    }
   ],
   "source": [
    "lst1[1]"
   ]
  },
  {
   "cell_type": "code",
   "execution_count": 32,
   "id": "f968b8e4-ee96-4b4b-8148-8e6b6be0e2df",
   "metadata": {},
   "outputs": [
    {
     "data": {
      "text/plain": [
       "['skills', 'data', 'science', 'masters']"
      ]
     },
     "execution_count": 32,
     "metadata": {},
     "output_type": "execute_result"
    }
   ],
   "source": [
    "lst1[1:]"
   ]
  },
  {
   "cell_type": "code",
   "execution_count": 33,
   "id": "971311cd-8187-481e-98b8-880c69725ccd",
   "metadata": {},
   "outputs": [],
   "source": [
    "lst1[2]=\"datas\""
   ]
  },
  {
   "cell_type": "code",
   "execution_count": 34,
   "id": "3a99b6f6-3b12-4d29-bffc-80348ef4e461",
   "metadata": {},
   "outputs": [
    {
     "data": {
      "text/plain": [
       "['pw', 'skills', 'datas', 'science', 'masters']"
      ]
     },
     "execution_count": 34,
     "metadata": {},
     "output_type": "execute_result"
    }
   ],
   "source": [
    "lst1"
   ]
  },
  {
   "cell_type": "code",
   "execution_count": 35,
   "id": "26692d45-1c0b-48ba-bd28-7bebbc8da8d8",
   "metadata": {},
   "outputs": [
    {
     "data": {
      "text/plain": [
       "['masters', 'datas', 'pw']"
      ]
     },
     "execution_count": 35,
     "metadata": {},
     "output_type": "execute_result"
    }
   ],
   "source": [
    "lst1[::-2]"
   ]
  },
  {
   "cell_type": "code",
   "execution_count": 36,
   "id": "6d5746b7-34da-4bc4-8042-bba2220201df",
   "metadata": {},
   "outputs": [
    {
     "data": {
      "text/plain": [
       "['pw']"
      ]
     },
     "execution_count": 36,
     "metadata": {},
     "output_type": "execute_result"
    }
   ],
   "source": [
    "lst1[-5::-2]"
   ]
  },
  {
   "cell_type": "code",
   "execution_count": 42,
   "id": "3996be1f-cab1-467d-9aef-5ed15869194c",
   "metadata": {},
   "outputs": [
    {
     "data": {
      "text/plain": [
       "['skills', 'datas', 'science', 'masters']"
      ]
     },
     "execution_count": 42,
     "metadata": {},
     "output_type": "execute_result"
    }
   ],
   "source": [
    "lst1[-4::]"
   ]
  },
  {
   "cell_type": "code",
   "execution_count": 51,
   "id": "b2b09de4-a3b0-4790-873a-7c5253a4b73e",
   "metadata": {},
   "outputs": [
    {
     "data": {
      "text/plain": [
       "['masters', 'pw']"
      ]
     },
     "execution_count": 51,
     "metadata": {},
     "output_type": "execute_result"
    }
   ],
   "source": [
    "lst1[::-4]"
   ]
  },
  {
   "cell_type": "code",
   "execution_count": 38,
   "id": "fd6335e9-5468-4490-b091-ab507a02ba43",
   "metadata": {},
   "outputs": [
    {
     "data": {
      "text/plain": [
       "['pw']"
      ]
     },
     "execution_count": 38,
     "metadata": {},
     "output_type": "execute_result"
    }
   ],
   "source": [
    "lst1[-5::-1]"
   ]
  },
  {
   "cell_type": "code",
   "execution_count": 39,
   "id": "0325b43a-21a9-4e35-94b9-c3fdd2adfb0d",
   "metadata": {},
   "outputs": [
    {
     "data": {
      "text/plain": [
       "['skills', 'pw']"
      ]
     },
     "execution_count": 39,
     "metadata": {},
     "output_type": "execute_result"
    }
   ],
   "source": [
    "lst1[-4::-1]"
   ]
  },
  {
   "cell_type": "code",
   "execution_count": 50,
   "id": "19f4bb11-dfa9-4aaf-a40f-3e4ed16f40ec",
   "metadata": {},
   "outputs": [
    {
     "data": {
      "text/plain": [
       "['masters', 'science', 'datas', 'skills', 'pw']"
      ]
     },
     "execution_count": 50,
     "metadata": {},
     "output_type": "execute_result"
    }
   ],
   "source": [
    "lst1[4::-1]"
   ]
  },
  {
   "cell_type": "code",
   "execution_count": 52,
   "id": "3ae9ab4c-020c-4e17-a9fc-b297c8820211",
   "metadata": {},
   "outputs": [
    {
     "data": {
      "text/plain": [
       "['science', 'datas', 'skills', 'pw']"
      ]
     },
     "execution_count": 52,
     "metadata": {},
     "output_type": "execute_result"
    }
   ],
   "source": [
    "lst1[3::-1]"
   ]
  },
  {
   "cell_type": "code",
   "execution_count": 53,
   "id": "f160e60c-1048-4f41-90cb-b84775ebd218",
   "metadata": {},
   "outputs": [
    {
     "data": {
      "text/plain": [
       "['pw', 'skills', 'datas', 'science', 'masters']"
      ]
     },
     "execution_count": 53,
     "metadata": {},
     "output_type": "execute_result"
    }
   ],
   "source": [
    "lst1"
   ]
  },
  {
   "cell_type": "code",
   "execution_count": 60,
   "id": "c5ff1dbe-7243-4d50-9242-b5363573863e",
   "metadata": {},
   "outputs": [
    {
     "ename": "TypeError",
     "evalue": "can only concatenate list (not \"int\") to list",
     "output_type": "error",
     "traceback": [
      "\u001b[0;31m---------------------------------------------------------------------------\u001b[0m",
      "\u001b[0;31mTypeError\u001b[0m                                 Traceback (most recent call last)",
      "Cell \u001b[0;32mIn[60], line 2\u001b[0m\n\u001b[1;32m      1\u001b[0m \u001b[38;5;66;03m#3 concatenation \u001b[39;00m\n\u001b[0;32m----> 2\u001b[0m \u001b[43mlst1\u001b[49m\u001b[43m \u001b[49m\u001b[38;5;241;43m+\u001b[39;49m\u001b[43m \u001b[49m\u001b[38;5;241;43m1\u001b[39;49m\n",
      "\u001b[0;31mTypeError\u001b[0m: can only concatenate list (not \"int\") to list"
     ]
    }
   ],
   "source": [
    "#3 concatenation \n",
    "lst1 + 1"
   ]
  },
  {
   "cell_type": "code",
   "execution_count": 61,
   "id": "081a413e-f411-4557-a80e-6fea70a044da",
   "metadata": {},
   "outputs": [
    {
     "data": {
      "text/plain": [
       "['pw', 'skills', 'datas', 'science', 'masters', 'new', 1]"
      ]
     },
     "execution_count": 61,
     "metadata": {},
     "output_type": "execute_result"
    }
   ],
   "source": [
    "lst1 + [\"new\",1]"
   ]
  },
  {
   "cell_type": "code",
   "execution_count": 62,
   "id": "14a65986-b781-48d5-885c-03504c07cec1",
   "metadata": {},
   "outputs": [
    {
     "data": {
      "text/plain": [
       "['pw', 'skills', 'datas', 'science', 'masters', ['new', 1]]"
      ]
     },
     "execution_count": 62,
     "metadata": {},
     "output_type": "execute_result"
    }
   ],
   "source": [
    "lst2=lst1 + [[\"new\",1]]\n",
    "lst2"
   ]
  },
  {
   "cell_type": "code",
   "execution_count": 63,
   "id": "f33b5d9c-2995-4670-9498-20750fdadb67",
   "metadata": {},
   "outputs": [
    {
     "data": {
      "text/plain": [
       "['new', 1]"
      ]
     },
     "execution_count": 63,
     "metadata": {},
     "output_type": "execute_result"
    }
   ],
   "source": [
    "lst2[-1]"
   ]
  },
  {
   "cell_type": "code",
   "execution_count": 64,
   "id": "ae29488e-ed26-43da-9d4a-fb915ad32175",
   "metadata": {},
   "outputs": [
    {
     "data": {
      "text/plain": [
       "'new'"
      ]
     },
     "execution_count": 64,
     "metadata": {},
     "output_type": "execute_result"
    }
   ],
   "source": [
    "lst2[-1][0]"
   ]
  },
  {
   "cell_type": "code",
   "execution_count": 65,
   "id": "75cfca59-7da6-4040-9a08-8c20a4203861",
   "metadata": {},
   "outputs": [
    {
     "data": {
      "text/plain": [
       "['pw',\n",
       " 'skills',\n",
       " 'datas',\n",
       " 'science',\n",
       " 'masters',\n",
       " ['new', 1],\n",
       " 'pw',\n",
       " 'skills',\n",
       " 'datas',\n",
       " 'science',\n",
       " 'masters',\n",
       " ['new', 1]]"
      ]
     },
     "execution_count": 65,
     "metadata": {},
     "output_type": "execute_result"
    }
   ],
   "source": [
    "lst2*2"
   ]
  },
  {
   "cell_type": "code",
   "execution_count": 66,
   "id": "6077d0f9-e864-4357-8c55-e9ec281c5480",
   "metadata": {},
   "outputs": [
    {
     "data": {
      "text/plain": [
       "['pw', 'skills', 'datas', 'science', 'masters']"
      ]
     },
     "execution_count": 66,
     "metadata": {},
     "output_type": "execute_result"
    }
   ],
   "source": [
    "lst1"
   ]
  },
  {
   "cell_type": "code",
   "execution_count": 67,
   "id": "b2ae82e4-1233-47ec-a3ec-5f095e46cdab",
   "metadata": {},
   "outputs": [
    {
     "name": "stdout",
     "output_type": "stream",
     "text": [
      "pw\n",
      "skills\n",
      "datas\n",
      "science\n",
      "masters\n"
     ]
    }
   ],
   "source": [
    "for element in lst1:\n",
    "    print(element)"
   ]
  },
  {
   "cell_type": "code",
   "execution_count": 71,
   "id": "079003a9-75af-4a2a-9cd4-0d094cbed281",
   "metadata": {},
   "outputs": [
    {
     "name": "stdout",
     "output_type": "stream",
     "text": [
      "present\n"
     ]
    }
   ],
   "source": [
    "if \"science\" in lst1:\n",
    "        print(\"present\")"
   ]
  },
  {
   "cell_type": "code",
   "execution_count": 72,
   "id": "4f358523-13a2-41c3-937d-0e498068b0b1",
   "metadata": {},
   "outputs": [
    {
     "name": "stdout",
     "output_type": "stream",
     "text": [
      "science\n"
     ]
    }
   ],
   "source": [
    "for elements in lst1:\n",
    "    if elements==\"science\":\n",
    "        print(elements)\n",
    "    "
   ]
  },
  {
   "cell_type": "code",
   "execution_count": 75,
   "id": "36032840-ad3d-4b44-af26-3b321269e6f8",
   "metadata": {},
   "outputs": [
    {
     "name": "stdout",
     "output_type": "stream",
     "text": [
      "science\n"
     ]
    }
   ],
   "source": [
    "for elements in lst1:\n",
    "    if elements==\"science\":\n",
    "        print(elements)\n",
    "        break"
   ]
  },
  {
   "cell_type": "code",
   "execution_count": 73,
   "id": "578e7327-d485-4b18-a864-6c204ff923a3",
   "metadata": {},
   "outputs": [
    {
     "data": {
      "text/plain": [
       "True"
      ]
     },
     "execution_count": 73,
     "metadata": {},
     "output_type": "execute_result"
    }
   ],
   "source": [
    "lst=[1,3,4]\n",
    "4 in lst"
   ]
  },
  {
   "cell_type": "code",
   "execution_count": 76,
   "id": "e91a3934-c9c8-4008-81a8-831d3cb6012f",
   "metadata": {},
   "outputs": [
    {
     "data": {
      "text/plain": [
       "True"
      ]
     },
     "execution_count": 76,
     "metadata": {},
     "output_type": "execute_result"
    }
   ],
   "source": [
    "3.0 in lst"
   ]
  },
  {
   "cell_type": "code",
   "execution_count": 95,
   "id": "f91beba1-a7ac-4de7-8d55-ef576f499926",
   "metadata": {},
   "outputs": [],
   "source": [
    "lst1=[\"monkey\",\"donkey\",\"lion\"]\n",
    "lst2=[1,2,3,8,5,6,4]"
   ]
  },
  {
   "cell_type": "code",
   "execution_count": 80,
   "id": "50c093d9-3239-4d98-a6fe-b5594905cdf4",
   "metadata": {},
   "outputs": [
    {
     "name": "stdout",
     "output_type": "stream",
     "text": [
      "monkey\n"
     ]
    }
   ],
   "source": [
    "print(max(lst1))"
   ]
  },
  {
   "cell_type": "code",
   "execution_count": 81,
   "id": "3bcac202-624e-406e-b307-bb46d1bad65c",
   "metadata": {},
   "outputs": [
    {
     "data": {
      "text/plain": [
       "8"
      ]
     },
     "execution_count": 81,
     "metadata": {},
     "output_type": "execute_result"
    }
   ],
   "source": [
    "max(lst2)"
   ]
  },
  {
   "cell_type": "code",
   "execution_count": 82,
   "id": "48f7907c-901c-4f88-9127-61a6e6cb7c00",
   "metadata": {},
   "outputs": [
    {
     "data": {
      "text/plain": [
       "1"
      ]
     },
     "execution_count": 82,
     "metadata": {},
     "output_type": "execute_result"
    }
   ],
   "source": [
    "min(lst2)"
   ]
  },
  {
   "cell_type": "code",
   "execution_count": 83,
   "id": "08332deb-2954-49df-abed-19c8bfd6c0e9",
   "metadata": {},
   "outputs": [],
   "source": [
    "## Append "
   ]
  },
  {
   "cell_type": "code",
   "execution_count": 84,
   "id": "e11cf8de-2692-439a-bf89-0d5efba35db6",
   "metadata": {},
   "outputs": [],
   "source": [
    "lst=[1,2,3,4,5,6]"
   ]
  },
  {
   "cell_type": "code",
   "execution_count": 87,
   "id": "025a1799-4405-448b-9c07-72a2648f2e37",
   "metadata": {},
   "outputs": [
    {
     "data": {
      "text/plain": [
       "[1, 2, 3, 4, 5, 6]"
      ]
     },
     "execution_count": 87,
     "metadata": {},
     "output_type": "execute_result"
    }
   ],
   "source": [
    "lst"
   ]
  },
  {
   "cell_type": "code",
   "execution_count": 88,
   "id": "097542c9-d643-457e-bf16-72f3ba837656",
   "metadata": {},
   "outputs": [],
   "source": [
    "lst.append(\"pw\")"
   ]
  },
  {
   "cell_type": "code",
   "execution_count": 89,
   "id": "abe1085e-ba98-4382-a68e-f2d54c6bb375",
   "metadata": {},
   "outputs": [
    {
     "data": {
      "text/plain": [
       "[1, 2, 3, 4, 5, 6, 'pw']"
      ]
     },
     "execution_count": 89,
     "metadata": {},
     "output_type": "execute_result"
    }
   ],
   "source": [
    "lst"
   ]
  },
  {
   "cell_type": "code",
   "execution_count": 90,
   "id": "61a9df90-3964-4ba7-a32f-a4443b224a74",
   "metadata": {},
   "outputs": [],
   "source": [
    "lst.append([\"data\",\"science\",\"masters\"])"
   ]
  },
  {
   "cell_type": "code",
   "execution_count": 91,
   "id": "afcabe38-cd60-4242-bbac-eba5a7a1967d",
   "metadata": {},
   "outputs": [
    {
     "data": {
      "text/plain": [
       "[1, 2, 3, 4, 5, 6, 'pw', ['data', 'science', 'masters']]"
      ]
     },
     "execution_count": 91,
     "metadata": {},
     "output_type": "execute_result"
    }
   ],
   "source": [
    "lst"
   ]
  },
  {
   "cell_type": "code",
   "execution_count": 96,
   "id": "d5130149-80ad-435f-a173-520d261a2d94",
   "metadata": {},
   "outputs": [
    {
     "data": {
      "text/plain": [
       "['monkey', 'donkey', 'lion']"
      ]
     },
     "execution_count": 96,
     "metadata": {},
     "output_type": "execute_result"
    }
   ],
   "source": [
    "lst1"
   ]
  },
  {
   "cell_type": "code",
   "execution_count": 97,
   "id": "e38db378-5f0a-4c88-9e5e-fcbac5852f48",
   "metadata": {},
   "outputs": [
    {
     "data": {
      "text/plain": [
       "'lion'"
      ]
     },
     "execution_count": 97,
     "metadata": {},
     "output_type": "execute_result"
    }
   ],
   "source": [
    "lst1.pop()"
   ]
  },
  {
   "cell_type": "code",
   "execution_count": 98,
   "id": "037c382c-f0af-429f-9cb3-8a1a7577a48d",
   "metadata": {},
   "outputs": [
    {
     "data": {
      "text/plain": [
       "['monkey', 'donkey']"
      ]
     },
     "execution_count": 98,
     "metadata": {},
     "output_type": "execute_result"
    }
   ],
   "source": [
    "lst1"
   ]
  },
  {
   "cell_type": "code",
   "execution_count": null,
   "id": "a982e342-49d3-4479-9f8e-335af57c633a",
   "metadata": {},
   "outputs": [],
   "source": [
    "lst=[\"zebra\",\"monkey\",\"donkey\",\"lion\"]"
   ]
  },
  {
   "cell_type": "code",
   "execution_count": 103,
   "id": "a5aaf27a-5012-4d48-a244-1b39ff8f54a2",
   "metadata": {},
   "outputs": [
    {
     "data": {
      "text/plain": [
       "'zebra'"
      ]
     },
     "execution_count": 103,
     "metadata": {},
     "output_type": "execute_result"
    }
   ],
   "source": [
    "remove_element=lst.pop(0)\n",
    "remove_element"
   ]
  },
  {
   "cell_type": "code",
   "execution_count": 106,
   "id": "7bd785c6-6ca2-40f9-ba24-d882868d4121",
   "metadata": {},
   "outputs": [],
   "source": [
    "### sorting and reverse method in list"
   ]
  },
  {
   "cell_type": "code",
   "execution_count": 128,
   "id": "fd20a55b-ec0f-48d2-a28a-2176f1c2456f",
   "metadata": {},
   "outputs": [
    {
     "data": {
      "text/plain": [
       "['q', 'd', 'e', 'k']"
      ]
     },
     "execution_count": 128,
     "metadata": {},
     "output_type": "execute_result"
    }
   ],
   "source": [
    "new_list=[\"q\",\"d\",\"e\",\"k\"]\n",
    "new_list"
   ]
  },
  {
   "cell_type": "code",
   "execution_count": 129,
   "id": "8213e152-fc1e-4f7c-9e87-bec3944740f9",
   "metadata": {},
   "outputs": [
    {
     "data": {
      "text/plain": [
       "['k', 'e', 'd', 'q']"
      ]
     },
     "execution_count": 129,
     "metadata": {},
     "output_type": "execute_result"
    }
   ],
   "source": [
    "new_list[::-1]"
   ]
  },
  {
   "cell_type": "code",
   "execution_count": 130,
   "id": "8ae342fb-987e-480f-a6be-7ff9a6487db7",
   "metadata": {},
   "outputs": [
    {
     "data": {
      "text/plain": [
       "['k', 'e', 'd', 'q']"
      ]
     },
     "execution_count": 130,
     "metadata": {},
     "output_type": "execute_result"
    }
   ],
   "source": [
    "new_list.reverse()\n",
    "new_list"
   ]
  },
  {
   "cell_type": "code",
   "execution_count": 131,
   "id": "c4265541-ad0c-4079-9665-3cc6db94edaa",
   "metadata": {},
   "outputs": [],
   "source": [
    "new_list.sort()"
   ]
  },
  {
   "cell_type": "code",
   "execution_count": 132,
   "id": "c882fb41-de24-453d-b522-7f4235424eca",
   "metadata": {},
   "outputs": [
    {
     "data": {
      "text/plain": [
       "['d', 'e', 'k', 'q']"
      ]
     },
     "execution_count": 132,
     "metadata": {},
     "output_type": "execute_result"
    }
   ],
   "source": [
    "new_list"
   ]
  },
  {
   "cell_type": "code",
   "execution_count": 136,
   "id": "1793adf2-88d6-4655-a452-333da5ca8e3d",
   "metadata": {},
   "outputs": [],
   "source": [
    "new_list.sort(reverse=True)"
   ]
  },
  {
   "cell_type": "code",
   "execution_count": 137,
   "id": "82e316b1-fba4-4399-b442-7af08ad87d29",
   "metadata": {},
   "outputs": [
    {
     "data": {
      "text/plain": [
       "['q', 'k', 'e', 'd']"
      ]
     },
     "execution_count": 137,
     "metadata": {},
     "output_type": "execute_result"
    }
   ],
   "source": [
    "new_list"
   ]
  },
  {
   "cell_type": "code",
   "execution_count": 153,
   "id": "57965447-6517-4297-a9ec-f2dfd12407f5",
   "metadata": {},
   "outputs": [],
   "source": [
    "lst=[1,2,3,4]\n",
    "lst.append(10)"
   ]
  },
  {
   "cell_type": "code",
   "execution_count": 154,
   "id": "eeb29315-7dc9-42d5-9b93-7763a0fe3faa",
   "metadata": {},
   "outputs": [
    {
     "data": {
      "text/plain": [
       "[1, 2, 3, 4, 10]"
      ]
     },
     "execution_count": 154,
     "metadata": {},
     "output_type": "execute_result"
    }
   ],
   "source": [
    "lst"
   ]
  },
  {
   "cell_type": "code",
   "execution_count": 152,
   "id": "ea816e70-63ed-44ee-87ee-960c41b52b8e",
   "metadata": {},
   "outputs": [
    {
     "data": {
      "text/plain": [
       "[1, 2, 3, 4, 10, ['pw', 'skill']]"
      ]
     },
     "execution_count": 152,
     "metadata": {},
     "output_type": "execute_result"
    }
   ],
   "source": [
    "lst.append([\"pw\",\"skill\"])\n",
    "lst"
   ]
  },
  {
   "cell_type": "code",
   "execution_count": 155,
   "id": "a4c63aed-8f1e-4e13-979c-8abd0677971a",
   "metadata": {},
   "outputs": [],
   "source": [
    "lst.extend([\"pw\",\"skill\"])"
   ]
  },
  {
   "cell_type": "code",
   "execution_count": 156,
   "id": "9157dfe5-8f07-4c52-a751-0881c86a5682",
   "metadata": {},
   "outputs": [
    {
     "data": {
      "text/plain": [
       "[1, 2, 3, 4, 10, 'pw', 'skill']"
      ]
     },
     "execution_count": 156,
     "metadata": {},
     "output_type": "execute_result"
    }
   ],
   "source": [
    "lst"
   ]
  },
  {
   "cell_type": "markdown",
   "id": "5d7c81d7-2e38-491a-b2c2-febf31bfcdac",
   "metadata": {},
   "source": [
    "## nested list"
   ]
  },
  {
   "cell_type": "code",
   "execution_count": 157,
   "id": "78c5ca15-d828-4a75-9a43-dcfbbff52dcf",
   "metadata": {
    "tags": []
   },
   "outputs": [],
   "source": [
    "## Lets make 3 lists\n",
    "lst1=[1,2,3]\n",
    "lst2=[4,5,6]\n",
    "lst3=[7,8,9]\n",
    "\n",
    "\n",
    "##  make a list of list to form a matrix\n",
    "matrix=[lst1,lst2,lst3]"
   ]
  },
  {
   "cell_type": "code",
   "execution_count": 158,
   "id": "35371afb-a264-4db6-ae7e-3dfec9113aba",
   "metadata": {},
   "outputs": [
    {
     "data": {
      "text/plain": [
       "[[1, 2, 3], [4, 5, 6], [7, 8, 9]]"
      ]
     },
     "execution_count": 158,
     "metadata": {},
     "output_type": "execute_result"
    }
   ],
   "source": [
    "matrix"
   ]
  },
  {
   "cell_type": "code",
   "execution_count": 159,
   "id": "29d9b344-20d9-443a-8daa-37173b2b81cd",
   "metadata": {},
   "outputs": [
    {
     "data": {
      "text/plain": [
       "[4, 5, 6]"
      ]
     },
     "execution_count": 159,
     "metadata": {},
     "output_type": "execute_result"
    }
   ],
   "source": [
    "matrix[1]"
   ]
  },
  {
   "cell_type": "code",
   "execution_count": 160,
   "id": "019ed777-bd04-4fff-a62c-c7734ffae966",
   "metadata": {},
   "outputs": [
    {
     "data": {
      "text/plain": [
       "6"
      ]
     },
     "execution_count": 160,
     "metadata": {},
     "output_type": "execute_result"
    }
   ],
   "source": [
    "matrix[1][2]"
   ]
  },
  {
   "cell_type": "code",
   "execution_count": 162,
   "id": "14b65cf5-6137-475c-a872-7b631cda1a46",
   "metadata": {},
   "outputs": [
    {
     "data": {
      "text/plain": [
       "[8, 9]"
      ]
     },
     "execution_count": 162,
     "metadata": {},
     "output_type": "execute_result"
    }
   ],
   "source": [
    "matrix[2][1:]"
   ]
  },
  {
   "cell_type": "code",
   "execution_count": 169,
   "id": "691fca3f-d047-45c3-a59b-ca08cafb844c",
   "metadata": {},
   "outputs": [
    {
     "data": {
      "text/plain": [
       "[0, 1, 2, 3, 4, 5, 6, 7, 8, 9, 10, 11, 12, 13, 14, 15, 16, 17, 18, 19]"
      ]
     },
     "execution_count": 169,
     "metadata": {},
     "output_type": "execute_result"
    }
   ],
   "source": [
    "## list comprehension\n",
    "[i for i in range(20)]"
   ]
  },
  {
   "cell_type": "code",
   "execution_count": 170,
   "id": "097e10ba-efc4-406d-b574-11ea835bf084",
   "metadata": {},
   "outputs": [
    {
     "data": {
      "text/plain": [
       "[0,\n",
       " 'ODD',\n",
       " 2,\n",
       " 'ODD',\n",
       " 4,\n",
       " 'ODD',\n",
       " 6,\n",
       " 'ODD',\n",
       " 8,\n",
       " 'ODD',\n",
       " 10,\n",
       " 'ODD',\n",
       " 12,\n",
       " 'ODD',\n",
       " 14,\n",
       " 'ODD',\n",
       " 16,\n",
       " 'ODD',\n",
       " 18,\n",
       " 'ODD']"
      ]
     },
     "execution_count": 170,
     "metadata": {},
     "output_type": "execute_result"
    }
   ],
   "source": [
    "## even no\n",
    "[i if i%2==0 else \"ODD\"  for i in range(20)]"
   ]
  },
  {
   "cell_type": "code",
   "execution_count": 173,
   "id": "4729bbcf-f925-4118-874d-bc40f0132c94",
   "metadata": {},
   "outputs": [
    {
     "data": {
      "text/plain": [
       "['even',\n",
       " 1,\n",
       " 'even',\n",
       " 3,\n",
       " 'even',\n",
       " 5,\n",
       " 'even',\n",
       " 7,\n",
       " 'even',\n",
       " 9,\n",
       " 'even',\n",
       " 11,\n",
       " 'even',\n",
       " 13,\n",
       " 'even',\n",
       " 15,\n",
       " 'even',\n",
       " 17,\n",
       " 'even',\n",
       " 19]"
      ]
     },
     "execution_count": 173,
     "metadata": {},
     "output_type": "execute_result"
    }
   ],
   "source": [
    "## odd no\n",
    "[i if i%2!=0 else \"even\"  for i in range(20)]"
   ]
  },
  {
   "cell_type": "code",
   "execution_count": 174,
   "id": "52c42a0c-80b4-44af-95ca-9650c8e14531",
   "metadata": {},
   "outputs": [
    {
     "data": {
      "text/plain": [
       "['', 1, '', 3, '', 5, '', 7, '', 9, '', 11, '', 13, '', 15, '', 17, '', 19]"
      ]
     },
     "execution_count": 174,
     "metadata": {},
     "output_type": "execute_result"
    }
   ],
   "source": [
    "[i if i%2!=0 else \"\"  for i in range(20)]"
   ]
  },
  {
   "cell_type": "code",
   "execution_count": 176,
   "id": "060ee937-d0a6-4e0e-ae4f-ab84f1ddb27e",
   "metadata": {},
   "outputs": [
    {
     "data": {
      "text/plain": [
       "[0, '', 2, '', 4, '', 6, '', 8, '', 10, '', 12, '', 14, '', 16, '', 18, '']"
      ]
     },
     "execution_count": 176,
     "metadata": {},
     "output_type": "execute_result"
    }
   ],
   "source": [
    "[i if i%2==0 else \"\"  for i in range(0,20)]"
   ]
  },
  {
   "cell_type": "code",
   "execution_count": 195,
   "id": "a92bc59a-6c19-4896-9d4d-bb75cc035db3",
   "metadata": {},
   "outputs": [
    {
     "name": "stdout",
     "output_type": "stream",
     "text": [
      "20\n",
      "16\n"
     ]
    }
   ],
   "source": [
    "lst=[1,2,3,4,5,6,7,8]\n",
    "\n",
    "even_sum=0\n",
    "odd_sum=0\n",
    "for i in lst:\n",
    "    if i%2==0:\n",
    "        even_sum +=i\n",
    "    else:\n",
    "        odd_sum +=i\n",
    "        \n",
    "print(even_sum)  \n",
    "print(odd_sum)\n",
    "        "
   ]
  },
  {
   "cell_type": "code",
   "execution_count": 196,
   "id": "6bcffab9-6c6b-40b5-ac4a-088b5db2200a",
   "metadata": {},
   "outputs": [
    {
     "data": {
      "text/plain": [
       "[1, 2, 3, 4, 5, 6, 7, 8]"
      ]
     },
     "execution_count": 196,
     "metadata": {},
     "output_type": "execute_result"
    }
   ],
   "source": [
    "[ num for num in lst]"
   ]
  },
  {
   "cell_type": "code",
   "execution_count": 197,
   "id": "b6d72102-c4e8-4350-b150-e931d10939f0",
   "metadata": {},
   "outputs": [
    {
     "data": {
      "text/plain": [
       "[2, 4, 6, 8]"
      ]
     },
     "execution_count": 197,
     "metadata": {},
     "output_type": "execute_result"
    }
   ],
   "source": [
    "[ num for num in lst if num%2==0]"
   ]
  },
  {
   "cell_type": "code",
   "execution_count": 198,
   "id": "87db1f80-d084-40a1-a134-4d85acef4505",
   "metadata": {},
   "outputs": [
    {
     "data": {
      "text/plain": [
       "20"
      ]
     },
     "execution_count": 198,
     "metadata": {},
     "output_type": "execute_result"
    }
   ],
   "source": [
    "even_sum=sum([ num for num in lst if num%2==0])\n",
    "even_sum"
   ]
  },
  {
   "cell_type": "code",
   "execution_count": 199,
   "id": "80a97e2f-1c71-4031-932c-8b7fbf8cb0c1",
   "metadata": {},
   "outputs": [
    {
     "data": {
      "text/plain": [
       "16"
      ]
     },
     "execution_count": 199,
     "metadata": {},
     "output_type": "execute_result"
    }
   ],
   "source": [
    "odd_sum=sum([ num for num in lst if num%2!=0])\n",
    "odd_sum"
   ]
  },
  {
   "cell_type": "code",
   "execution_count": 200,
   "id": "a923e66b-5dd0-4eee-bede-a36267ad6843",
   "metadata": {},
   "outputs": [
    {
     "data": {
      "text/plain": [
       "[1, 4, 9, 16, 25, 36, 49, 64, 81, 100]"
      ]
     },
     "execution_count": 200,
     "metadata": {},
     "output_type": "execute_result"
    }
   ],
   "source": [
    "## for square\n",
    "lst=[1,2,3,4,5,6,7,8,9,10]\n",
    "sq=[num**2 for num in lst]\n",
    "sq"
   ]
  },
  {
   "cell_type": "code",
   "execution_count": 203,
   "id": "9c3e6486-848a-49ae-8702-7694c378006e",
   "metadata": {},
   "outputs": [
    {
     "data": {
      "text/plain": [
       "[1, 2, 3, 4]"
      ]
     },
     "execution_count": 203,
     "metadata": {},
     "output_type": "execute_result"
    }
   ],
   "source": [
    "## create list of only positive no\n",
    "num1=[-2,-1,0,1,2,3,4]\n",
    "p=[num for num in num1 if num>0]\n",
    "p"
   ]
  },
  {
   "cell_type": "code",
   "execution_count": 205,
   "id": "bcfb8599-e7a8-4057-b09f-0d32952acb4a",
   "metadata": {},
   "outputs": [
    {
     "data": {
      "text/plain": [
       "['a', 'b', 'c']"
      ]
     },
     "execution_count": 205,
     "metadata": {},
     "output_type": "execute_result"
    }
   ],
   "source": [
    "## create list of only first letter of words in list\n",
    "words=[\"apple\",\"banana\",\"cherry\"]\n",
    "[word[0] for word in words]"
   ]
  },
  {
   "cell_type": "code",
   "execution_count": 206,
   "id": "d6a4791a-9dc6-4931-8355-48044e702e03",
   "metadata": {},
   "outputs": [],
   "source": [
    "#9/5*temp+32"
   ]
  },
  {
   "cell_type": "code",
   "execution_count": 207,
   "id": "505def3f-7ab7-4069-885b-2a40a7e38cf8",
   "metadata": {},
   "outputs": [
    {
     "data": {
      "text/plain": [
       "[32.0, 50.0, 68.0, 86.0, 104.0, 122.0]"
      ]
     },
     "execution_count": 207,
     "metadata": {},
     "output_type": "execute_result"
    }
   ],
   "source": [
    "#3 construct list of temp from celsius to fahrenheit using list comprehension\n",
    "celsius_temp=[0,10,20,30,40,50]\n",
    "[9/5*temp+32 for temp in celsius_temp]"
   ]
  },
  {
   "cell_type": "code",
   "execution_count": 208,
   "id": "e141fb7f-732c-4d68-9d71-7676f185521d",
   "metadata": {},
   "outputs": [],
   "source": [
    "## flatten a list of lists into single list\n",
    "lists=[[1,2,3],[4,5,6],[7,8,9]]"
   ]
  },
  {
   "cell_type": "code",
   "execution_count": 210,
   "id": "29083436-dc90-46a1-b52c-7aa3ba3a776c",
   "metadata": {},
   "outputs": [
    {
     "data": {
      "text/plain": [
       "[1, 2, 3, 4, 5, 6, 7, 8, 9]"
      ]
     },
     "execution_count": 210,
     "metadata": {},
     "output_type": "execute_result"
    }
   ],
   "source": [
    "[ l for k  in lists for l in k]"
   ]
  },
  {
   "cell_type": "code",
   "execution_count": 211,
   "id": "447cb25b-4f6a-468e-ae27-de47634c8917",
   "metadata": {},
   "outputs": [],
   "source": [
    "## Assignment\n",
    "# using both code and list comprehension \n",
    "# create a list of only prime no from given list \n",
    "no=[1,2,3,4,5,6,7,8,9,10]\n"
   ]
  },
  {
   "cell_type": "code",
   "execution_count": 212,
   "id": "ee581fd0-bc04-40a9-9898-358496b7524d",
   "metadata": {},
   "outputs": [],
   "source": [
    "# create all possible combinations of 2 elements from alist\n",
    "num=[1,2,3,4,5]"
   ]
  },
  {
   "cell_type": "code",
   "execution_count": null,
   "id": "794f1039-9c17-4436-965e-1746ab2d3ca0",
   "metadata": {},
   "outputs": [],
   "source": []
  },
  {
   "cell_type": "code",
   "execution_count": null,
   "id": "36d71be7-962a-4cb5-ae92-c8229775763f",
   "metadata": {},
   "outputs": [],
   "source": []
  }
 ],
 "metadata": {
  "kernelspec": {
   "display_name": "Python 3 (ipykernel)",
   "language": "python",
   "name": "python3"
  },
  "language_info": {
   "codemirror_mode": {
    "name": "ipython",
    "version": 3
   },
   "file_extension": ".py",
   "mimetype": "text/x-python",
   "name": "python",
   "nbconvert_exporter": "python",
   "pygments_lexer": "ipython3",
   "version": "3.10.8"
  }
 },
 "nbformat": 4,
 "nbformat_minor": 5
}
