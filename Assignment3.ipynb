{
 "cells": [
  {
   "cell_type": "markdown",
   "id": "9a910f9c-df2d-46f3-99ac-54fbdf199f9f",
   "metadata": {},
   "source": [
    " #### 1) Yes. Tuple is immutable. \n"
   ]
  },
  {
   "cell_type": "markdown",
   "id": "58e29200-c80e-42b2-b859-cece876fae17",
   "metadata": {},
   "source": [
    "Characteristics of the tuples :-\n",
    "\n",
    "Immutable: Tuples are immutable, meaning their elements cannot be modified once the tuple is created. We cannot add, remove, or modify elements in a tuple. However, if the elements are mutable objects (e.g., lists), the objects themselves can be modified.\n",
    "\n",
    "Ordered: Tuples are ordered collections, which means the elements have a specific order that is maintained. The order in which the elements are added to the tuple is preserved.\n",
    "\n",
    "Indexing and Slicing: We can access individual elements of a tuple using indexing (e.g., my_tuple[index]) and retrieve sub-tuples using slicing (e.g., my_tuple[start:end])."
   ]
  },
  {
   "cell_type": "markdown",
   "id": "df1a2d3f-a36f-4c72-9420-34ed26239b61",
   "metadata": {},
   "source": [
    "#### 2) In Python, tuples have two built-in methods: count() and index(). Here are examples of each method:"
   ]
  },
  {
   "cell_type": "code",
   "execution_count": 33,
   "id": "15c988b8-f40b-4664-85f4-19fa02ae218b",
   "metadata": {},
   "outputs": [
    {
     "name": "stdout",
     "output_type": "stream",
     "text": [
      "2\n"
     ]
    }
   ],
   "source": [
    "## count() method :-\n",
    "t= (1,4,5,6,5,7,4)\n",
    "count=t.count(5)\n",
    "print(count)"
   ]
  },
  {
   "cell_type": "code",
   "execution_count": 34,
   "id": "856d2855-d9bf-4428-8e51-47d9b87d767b",
   "metadata": {},
   "outputs": [
    {
     "name": "stdout",
     "output_type": "stream",
     "text": [
      "1\n"
     ]
    }
   ],
   "source": [
    "## index() method :-\n",
    "t1=(\"apple\",\"banana\",\"orange\",\"banana\")\n",
    "index=t1.index(\"banana\")\n",
    "print(index)"
   ]
  },
  {
   "cell_type": "markdown",
   "id": "6fca0318-32ba-471a-92ba-73d17fd7d100",
   "metadata": {},
   "source": [
    "Reason :- Tuples have only two built-in methods compared to lists because tuples are designed to be immutable, and their primary purpose is to represent collections of related, immutable values. The limited number of methods is intentional to maintain the simplicity and efficiency of tuples."
   ]
  },
  {
   "cell_type": "markdown",
   "id": "bd19596d-6daf-423f-b950-3da97d6c2c19",
   "metadata": {},
   "source": [
    "#### 3) In Python, the collection datatype that does not allow duplicate items is the set. \n",
    "Sets are unordered collections of unique elements, meaning that each element can only appear once in a set."
   ]
  },
  {
   "cell_type": "code",
   "execution_count": 35,
   "id": "71b44039-07bc-4d3e-b605-320fe9521e20",
   "metadata": {},
   "outputs": [
    {
     "name": "stdout",
     "output_type": "stream",
     "text": [
      "[1, 2, 3, 4]\n"
     ]
    }
   ],
   "source": [
    "lst=[1, 1, 1, 2, 1, 3, 1, 4, 2, 1, 2, 2, 2, 3, 2, 4, 3, 1, 3, 2, 3, 3, 3, 4, 4, 1, 4, 2, 4, 3, 4, 4]\n",
    "unique=set(lst)\n",
    "new_lst=list(unique)\n",
    "print(new_lst)"
   ]
  },
  {
   "cell_type": "markdown",
   "id": "2e099426-eb76-4b7f-af88-55c19c1fd9bb",
   "metadata": {},
   "source": [
    "#### 4) The key difference between union() and update() is that union() returns a new set without modifying the original sets, while update() modifies the set on which it is called by adding elements from another set or iterable."
   ]
  },
  {
   "cell_type": "code",
   "execution_count": 36,
   "id": "71462bb1-aa57-4236-97b5-0d8824cbeb57",
   "metadata": {},
   "outputs": [],
   "source": [
    "set1={1,2,3}\n",
    "set2={3,4,5}"
   ]
  },
  {
   "cell_type": "code",
   "execution_count": 37,
   "id": "bb11edd5-31df-4ec1-ad74-98c88321de21",
   "metadata": {},
   "outputs": [
    {
     "name": "stdout",
     "output_type": "stream",
     "text": [
      "{1, 2, 3, 4, 5}\n"
     ]
    }
   ],
   "source": [
    "union=set1.union(set2)\n",
    "print(union)"
   ]
  },
  {
   "cell_type": "markdown",
   "id": "1a5f1689-6e1d-4e77-bfc8-d8b8d2cf74ac",
   "metadata": {},
   "source": [
    "The union() method is called on set1 with set2 as the argument. It returns a new set union_set that contains all the unique elements from both set1 and set2. The original sets, set1 and set2, remain unchanged."
   ]
  },
  {
   "cell_type": "code",
   "execution_count": 38,
   "id": "488bdb8f-bd54-4001-bc26-56684f50b744",
   "metadata": {},
   "outputs": [
    {
     "name": "stdout",
     "output_type": "stream",
     "text": [
      "{1, 2, 3, 4, 5}\n"
     ]
    }
   ],
   "source": [
    "set1.update(set2)\n",
    "print(set1)"
   ]
  },
  {
   "cell_type": "markdown",
   "id": "163a36c4-0f12-4ef0-b700-28a4ce7069f3",
   "metadata": {},
   "source": [
    "The update() method is called on set1 with set2 as the argument. It adds all the unique elements from set2 into set1, modifying set1 in-place. After the update, set1 contains all the unique elements from both set1 and set2."
   ]
  },
  {
   "cell_type": "markdown",
   "id": "05f46fa1-e92b-4957-b28b-dabbc9b57bca",
   "metadata": {},
   "source": [
    "#### 5) In Python, a dictionary is a collection of key-value pairs. It is an unordered and mutable data structure that allows to store, retrieve, and manipulate data based on the keys. Each key in a dictionary is unique, and it is used to access its associated value.\n"
   ]
  },
  {
   "cell_type": "code",
   "execution_count": 39,
   "id": "624671f9-acbf-4d2d-9381-27419f985ec4",
   "metadata": {},
   "outputs": [
    {
     "name": "stdout",
     "output_type": "stream",
     "text": [
      "{'name': 'praju', 'age': 20, 'university': 'SPPU'}\n"
     ]
    }
   ],
   "source": [
    "### e.g \n",
    "dict={\"name\":\"praju\", \"age\":20,\"university\":\"SPPU\"}\n",
    "print(dict)"
   ]
  },
  {
   "cell_type": "markdown",
   "id": "ca5d5e92-4ca3-4960-aa59-adf0bd10ee63",
   "metadata": {},
   "source": [
    "Dictionaries are unordered, which means that the elements do not have a specific order. The order in which the key-value pairs are added to the dictionary may not be preserved. "
   ]
  },
  {
   "cell_type": "markdown",
   "id": "51a14316-a861-40eb-83dd-074fbbdfd0fa",
   "metadata": {},
   "source": [
    "#### 6) Yes, we can create nested dictionaries in Python. A nested dictionary is a dictionary that contains another dictionary as a value for one or more of its keys. This allows us to create a hierarchical structure for storing and organizing data."
   ]
  },
  {
   "cell_type": "code",
   "execution_count": 40,
   "id": "896c8e05-bbe9-4ee4-b100-571c2304a6c1",
   "metadata": {},
   "outputs": [
    {
     "name": "stdout",
     "output_type": "stream",
     "text": [
      "{'name': 'praju', 'age': 20, 'contact': {'email': 'praju@gmail.com', 'phone': 234567}}\n"
     ]
    }
   ],
   "source": [
    "### e.g \n",
    "dict1={\"name\":\"praju\",\"age\":20, \"contact\":{\"email\":\"praju@gmail.com\",\"phone\":234567}}\n",
    "print(dict1)"
   ]
  },
  {
   "cell_type": "markdown",
   "id": "1f844349-ec9c-4f6d-b49a-380eeb637802",
   "metadata": {},
   "source": [
    "7) "
   ]
  },
  {
   "cell_type": "code",
   "execution_count": 41,
   "id": "3157a909-481a-4037-a7a7-1237a33ab99c",
   "metadata": {},
   "outputs": [
    {
     "name": "stdout",
     "output_type": "stream",
     "text": [
      "{'language': 'Python', 'course': 'Data Science Masters', 'topics': ['Python', 'Machine Learning', 'Deep Learning']}\n"
     ]
    }
   ],
   "source": [
    "dict1= {\"language\" : \"Python\", \"course\": \"Data Science Masters\"}\n",
    "lst= [\"Python\", \"Machine Learning\", \"Deep Learning\"]\n",
    "final= dict1.setdefault(\"topics\", lst)\n",
    "print(dict1)"
   ]
  },
  {
   "cell_type": "markdown",
   "id": "263507ca-7721-44ec-80ac-a8d7868d2f84",
   "metadata": {},
   "source": [
    "### 8) In Python dictionaries, there are three view objects :- "
   ]
  },
  {
   "cell_type": "markdown",
   "id": "7fbe79e8-b160-48ef-9946-0183eecf3423",
   "metadata": {},
   "source": [
    "dict_keys : It represents a view of the dictionary's keys.\n",
    "\n",
    "dict_values : It represents a view of the dictionary's values.\n",
    "\n",
    "dict_items : It represents a view of the dictionary's key-value pairs."
   ]
  },
  {
   "cell_type": "code",
   "execution_count": 42,
   "id": "e82cd330-7f0a-4df1-a909-52bb11cf3f62",
   "metadata": {},
   "outputs": [],
   "source": [
    "dict1 = {'Sport': 'Cricket' , 'Teams': ['India', 'Australia', 'England', 'South Africa', 'Sri Lanka', 'New Zealand']}"
   ]
  },
  {
   "cell_type": "code",
   "execution_count": 43,
   "id": "a16840f8-08df-4a16-84db-c5411c251ffd",
   "metadata": {},
   "outputs": [],
   "source": [
    "keys=dict1.keys()\n",
    "values=dict1.values()\n",
    "items=dict1.items()"
   ]
  },
  {
   "cell_type": "code",
   "execution_count": 44,
   "id": "b7d1b604-71f5-4391-a543-21546cd96344",
   "metadata": {},
   "outputs": [
    {
     "name": "stdout",
     "output_type": "stream",
     "text": [
      "keys: dict_keys(['Sport', 'Teams'])\n"
     ]
    }
   ],
   "source": [
    "print(\"keys:\",keys)"
   ]
  },
  {
   "cell_type": "code",
   "execution_count": 45,
   "id": "3a0458b7-ca3c-4faf-9210-23a7f632178f",
   "metadata": {},
   "outputs": [
    {
     "name": "stdout",
     "output_type": "stream",
     "text": [
      "values: dict_values(['Cricket', ['India', 'Australia', 'England', 'South Africa', 'Sri Lanka', 'New Zealand']])\n"
     ]
    }
   ],
   "source": [
    "print(\"values:\",values)"
   ]
  },
  {
   "cell_type": "code",
   "execution_count": 46,
   "id": "a3418461-e323-40a6-82fc-a393e9c8ca09",
   "metadata": {},
   "outputs": [
    {
     "name": "stdout",
     "output_type": "stream",
     "text": [
      "items: dict_items([('Sport', 'Cricket'), ('Teams', ['India', 'Australia', 'England', 'South Africa', 'Sri Lanka', 'New Zealand'])])\n"
     ]
    }
   ],
   "source": [
    "print(\"items:\",items)"
   ]
  },
  {
   "cell_type": "code",
   "execution_count": null,
   "id": "a46fffba-959d-4e43-9243-e6c6b8cb5584",
   "metadata": {},
   "outputs": [],
   "source": []
  }
 ],
 "metadata": {
  "kernelspec": {
   "display_name": "Python 3 (ipykernel)",
   "language": "python",
   "name": "python3"
  },
  "language_info": {
   "codemirror_mode": {
    "name": "ipython",
    "version": 3
   },
   "file_extension": ".py",
   "mimetype": "text/x-python",
   "name": "python",
   "nbconvert_exporter": "python",
   "pygments_lexer": "ipython3",
   "version": "3.10.8"
  }
 },
 "nbformat": 4,
 "nbformat_minor": 5
}
