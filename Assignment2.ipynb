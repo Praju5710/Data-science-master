{
 "cells": [
  {
   "cell_type": "markdown",
   "id": "d6ca1d3c-78df-4cc5-87d0-fd70457e1adc",
   "metadata": {},
   "source": [
    "1) "
   ]
  },
  {
   "cell_type": "code",
   "execution_count": 13,
   "id": "46eb2f5a-d6d2-4819-a281-fb7e51eea6b3",
   "metadata": {},
   "outputs": [
    {
     "name": "stdin",
     "output_type": "stream",
     "text": [
      "Enter the marks 75\n"
     ]
    },
    {
     "name": "stdout",
     "output_type": "stream",
     "text": [
      " grade = C \n"
     ]
    }
   ],
   "source": [
    "marks=float(input(\"Enter the marks\"))\n",
    "if marks>90: \n",
    "    print(\" grade = A \")\n",
    "elif marks>80 and   marks<=90 :\n",
    "    print( \" grade = B \")\n",
    "elif marks>=60 and   marks<=80 :\n",
    "    print( \" grade = C \")\n",
    "else :\n",
    "    print( \" grade = D \")   "
   ]
  },
  {
   "cell_type": "markdown",
   "id": "8f160892-9d13-46a3-b4bc-2cf8aec32304",
   "metadata": {},
   "source": [
    "2) "
   ]
  },
  {
   "cell_type": "code",
   "execution_count": 14,
   "id": "c0314fef-0e87-4478-984c-a011d0dcc265",
   "metadata": {},
   "outputs": [
    {
     "name": "stdin",
     "output_type": "stream",
     "text": [
      "Enter the price 78000\n"
     ]
    },
    {
     "name": "stdout",
     "output_type": "stream",
     "text": [
      "The road tax to be paid is : 7800.0\n"
     ]
    }
   ],
   "source": [
    "cost_price=float(input(\"Enter the price\")) \n",
    "if cost_price>100000:\n",
    "    print(f\"The road tax to be paid is : {cost_price*0.15}\")\n",
    "elif cost_price>50000 and  cost_price<=100000:\n",
    "    print(f\"The road tax to be paid is : {cost_price*0.10}\") \n",
    "else:\n",
    "    print(f\"The road tax to be paid is : {cost_price*0.05}\")   "
   ]
  },
  {
   "cell_type": "markdown",
   "id": "c36adbef-58d1-43b5-ac51-4eeedccb2e8b",
   "metadata": {},
   "source": [
    "3) "
   ]
  },
  {
   "cell_type": "code",
   "execution_count": 15,
   "id": "c83ab3b0-18fa-45cb-af80-54b41ac11030",
   "metadata": {},
   "outputs": [],
   "source": [
    "city=[\"Delhi\",\"Agra\",\"Jaipur\"]\n",
    "Monuments=[\"Red Fort\",\"Taj Mahal\",\"Jal Mahal\"]"
   ]
  },
  {
   "cell_type": "code",
   "execution_count": 16,
   "id": "1de4aea8-5407-4fb7-abea-f3ea81a4754a",
   "metadata": {},
   "outputs": [
    {
     "name": "stdin",
     "output_type": "stream",
     "text": [
      "Enter the city Agra\n"
     ]
    },
    {
     "name": "stdout",
     "output_type": "stream",
     "text": [
      "Monument = Taj Mahal\n"
     ]
    }
   ],
   "source": [
    "city=input(\"Enter the city\")   \n",
    "if city==\"Delhi\":\n",
    "        print(\"Monument = Red Fort\")\n",
    "if city==\"Agra\":\n",
    "        print(\"Monument = Taj Mahal\")   \n",
    "if city==\"Jaipur\":\n",
    "        print(\"Monument = Jal Mahal\")"
   ]
  },
  {
   "cell_type": "markdown",
   "id": "8138f919-f88d-4a3b-893f-87855bce3f3d",
   "metadata": {},
   "source": [
    "4) "
   ]
  },
  {
   "cell_type": "code",
   "execution_count": 17,
   "id": "8bffd7e4-b097-4dec-8128-b306db511afe",
   "metadata": {},
   "outputs": [
    {
     "name": "stdin",
     "output_type": "stream",
     "text": [
      "Enter the number 90\n"
     ]
    },
    {
     "name": "stdout",
     "output_type": "stream",
     "text": [
      "number can be divided by 3 = 1\n",
      "number can be divided by 3 = 2\n"
     ]
    }
   ],
   "source": [
    "count=0\n",
    "number=int(input(\"Enter the number\"))\n",
    "while number>10:\n",
    "    number = number /3\n",
    "    count = count+1\n",
    "    print(\"number can be divided by 3\",\"=\",count)"
   ]
  },
  {
   "cell_type": "markdown",
   "id": "963731cb-1d48-4bab-af65-0d1b1907f561",
   "metadata": {},
   "source": [
    "### 5) \n",
    "A while loop in Python is used when we want to repeatedly execute a block of code as long as a given condition remains true. It allows you to create a loop that continues until the specified condition evaluates to False.\n",
    "\n",
    "The condition is evaluated before each iteration of the loop. If the condition is true, the code block is executed, and then the condition is re-evaluated. This process continues until the condition becomes false, at which point the loop terminates, and the program moves on to the next statement after the loop."
   ]
  },
  {
   "cell_type": "code",
   "execution_count": 18,
   "id": "ac5d1cd8-e01d-4afd-b3d7-088c59d4af38",
   "metadata": {},
   "outputs": [
    {
     "name": "stdout",
     "output_type": "stream",
     "text": [
      "10\n",
      "11\n",
      "12\n",
      "13\n",
      "14\n",
      "15\n",
      "16\n",
      "17\n",
      "18\n",
      "eligible to vote\n"
     ]
    }
   ],
   "source": [
    "age=10\n",
    "while age<=18:\n",
    "    print(age)\n",
    "    age=age+1\n",
    "else:\n",
    "    print(\"eligible to vote\")"
   ]
  },
  {
   "cell_type": "markdown",
   "id": "ac3bb047-d2e9-4020-8579-66e558e35fb1",
   "metadata": {},
   "source": [
    "#### 6) Nested while loops to print 3 different patterns:-"
   ]
  },
  {
   "cell_type": "code",
   "execution_count": 12,
   "id": "363681a6-f4df-49f2-87d5-eb84ac22c931",
   "metadata": {},
   "outputs": [
    {
     "name": "stdout",
     "output_type": "stream",
     "text": [
      "*\n",
      "**\n",
      "***\n",
      "****\n",
      "*****\n"
     ]
    }
   ],
   "source": [
    "# pattern 1:-\n",
    "row = 1\n",
    "while row <= 5:\n",
    "    column = 1\n",
    "    while column <= row:\n",
    "        print(\"*\", end=\"\")\n",
    "        column += 1\n",
    "    print()\n",
    "    row +=1"
   ]
  },
  {
   "cell_type": "code",
   "execution_count": 19,
   "id": "e449d68d-b984-47a9-bc0a-04b5899225f7",
   "metadata": {},
   "outputs": [
    {
     "name": "stdout",
     "output_type": "stream",
     "text": [
      "*****\n",
      "****\n",
      "***\n",
      "**\n",
      "*\n"
     ]
    }
   ],
   "source": [
    "## pattern 2:-\n",
    "row = 5\n",
    "while row >= 1:\n",
    "    column = 1\n",
    "    while column <= row:\n",
    "        print(\"*\", end=\"\")\n",
    "        column += 1\n",
    "    print()\n",
    "    row -= 1"
   ]
  },
  {
   "cell_type": "code",
   "execution_count": 22,
   "id": "62b0397a-b4b3-421c-ac18-8adf1d1d8e27",
   "metadata": {},
   "outputs": [
    {
     "name": "stdout",
     "output_type": "stream",
     "text": [
      "1\n",
      "12\n",
      "123\n",
      "1234\n",
      "12345\n"
     ]
    }
   ],
   "source": [
    "## pattern 3:-\n",
    "row = 1\n",
    "while row <= 5:\n",
    "    column = 1\n",
    "    while column <= row:\n",
    "        print(column, end=\"\")\n",
    "        column += 1\n",
    "    print()\n",
    "    row += 1"
   ]
  },
  {
   "cell_type": "markdown",
   "id": "4b24d459-3f2c-4d1f-a248-53551110eea9",
   "metadata": {},
   "source": [
    "7) "
   ]
  },
  {
   "cell_type": "code",
   "execution_count": 21,
   "id": "9a98c587-184b-45b3-b6bb-402e33976ef3",
   "metadata": {},
   "outputs": [
    {
     "name": "stdout",
     "output_type": "stream",
     "text": [
      "10\n",
      "9\n",
      "8\n",
      "7\n",
      "6\n",
      "5\n",
      "4\n",
      "3\n",
      "2\n",
      "1\n"
     ]
    }
   ],
   "source": [
    "number=10\n",
    "\n",
    "while number>=1:\n",
    "    print(number)\n",
    "    number=number-1\n",
    "    "
   ]
  }
 ],
 "metadata": {
  "kernelspec": {
   "display_name": "Python 3 (ipykernel)",
   "language": "python",
   "name": "python3"
  },
  "language_info": {
   "codemirror_mode": {
    "name": "ipython",
    "version": 3
   },
   "file_extension": ".py",
   "mimetype": "text/x-python",
   "name": "python",
   "nbconvert_exporter": "python",
   "pygments_lexer": "ipython3",
   "version": "3.10.8"
  }
 },
 "nbformat": 4,
 "nbformat_minor": 5
}
