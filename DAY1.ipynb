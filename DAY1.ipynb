{
 "cells": [
  {
   "cell_type": "code",
   "execution_count": 1,
   "id": "5886192d-88a0-4c8e-96c3-34568b42f339",
   "metadata": {},
   "outputs": [],
   "source": [
    "a=10"
   ]
  },
  {
   "cell_type": "code",
   "execution_count": 2,
   "id": "7c5c9d8c-519c-426b-b28d-fdc2cdced8a0",
   "metadata": {},
   "outputs": [
    {
     "name": "stdout",
     "output_type": "stream",
     "text": [
      "10\n"
     ]
    }
   ],
   "source": [
    "print(a)"
   ]
  },
  {
   "cell_type": "code",
   "execution_count": 3,
   "id": "3bbc7280-cdde-4e8f-acfb-ac0504346986",
   "metadata": {},
   "outputs": [
    {
     "data": {
      "text/plain": [
       "10"
      ]
     },
     "execution_count": 3,
     "metadata": {},
     "output_type": "execute_result"
    }
   ],
   "source": [
    "a"
   ]
  },
  {
   "cell_type": "markdown",
   "id": "af226c63-ff08-45c7-8588-14a8ae27cdd0",
   "metadata": {},
   "source": [
    "# This is intro\n",
    "## This is first lec\n",
    "### This is jupyter "
   ]
  },
  {
   "cell_type": "code",
   "execution_count": 7,
   "id": "d6a8469e-4c80-4646-a951-064b0b6a1a5f",
   "metadata": {},
   "outputs": [
    {
     "data": {
      "text/plain": [
       "10"
      ]
     },
     "execution_count": 7,
     "metadata": {},
     "output_type": "execute_result"
    }
   ],
   "source": [
    "# commnts \n",
    "## This is comment\n",
    "# this is a function \n",
    "a=10\n",
    "a"
   ]
  },
  {
   "cell_type": "code",
   "execution_count": 47,
   "id": "1cb3edeb-8b64-43ad-ab9d-36bee66b2ad1",
   "metadata": {},
   "outputs": [
    {
     "name": "stdout",
     "output_type": "stream",
     "text": [
      "dev\n"
     ]
    }
   ],
   "source": [
    "\"\"\"\n",
    "example of multiline comments \n",
    "hello this is a example \n",
    "hsghjnckcl\n",
    "kkjruioofjfhui\n",
    "kdjhheoikdn\n",
    "\"\"\"\n",
    "print(\"dev\")"
   ]
  },
  {
   "cell_type": "markdown",
   "id": "9b776e3a-9281-44dd-900a-70e2f9d9dcef",
   "metadata": {},
   "source": [
    "# assignmnt \n",
    "w=2\n",
    "w"
   ]
  },
  {
   "cell_type": "code",
   "execution_count": 11,
   "id": "7d14d74b-b5c4-452c-896f-4aa35658446d",
   "metadata": {},
   "outputs": [
    {
     "data": {
      "text/plain": [
       "4"
      ]
     },
     "execution_count": 11,
     "metadata": {},
     "output_type": "execute_result"
    }
   ],
   "source": [
    "1+3"
   ]
  },
  {
   "cell_type": "code",
   "execution_count": 12,
   "id": "62cdac2e-eec3-4a15-b238-e5b2bf2017f7",
   "metadata": {},
   "outputs": [
    {
     "name": "stdout",
     "output_type": "stream",
     "text": [
      "5\n"
     ]
    }
   ],
   "source": [
    "print(1+4)"
   ]
  },
  {
   "cell_type": "code",
   "execution_count": 13,
   "id": "df923b7f-3053-4184-a7aa-60fffef11e61",
   "metadata": {},
   "outputs": [
    {
     "data": {
      "text/plain": [
       "5"
      ]
     },
     "execution_count": 13,
     "metadata": {},
     "output_type": "execute_result"
    }
   ],
   "source": [
    "a=5\n",
    "a"
   ]
  },
  {
   "cell_type": "code",
   "execution_count": 14,
   "id": "0b113643-a407-4ee0-b2bc-bf70fc8660eb",
   "metadata": {},
   "outputs": [
    {
     "name": "stdout",
     "output_type": "stream",
     "text": [
      "6\n"
     ]
    }
   ],
   "source": [
    "a=6\n",
    "print(a)"
   ]
  },
  {
   "cell_type": "code",
   "execution_count": 16,
   "id": "f3b3fe59-23a3-4b99-a69a-0f30d5d380b9",
   "metadata": {},
   "outputs": [
    {
     "ename": "SyntaxError",
     "evalue": "unterminated string literal (detected at line 1) (3125602070.py, line 1)",
     "output_type": "error",
     "traceback": [
      "\u001b[0;36m  Cell \u001b[0;32mIn[16], line 1\u001b[0;36m\u001b[0m\n\u001b[0;31m    print(\"hello world my name is prajakta\u001b[0m\n\u001b[0m          ^\u001b[0m\n\u001b[0;31mSyntaxError\u001b[0m\u001b[0;31m:\u001b[0m unterminated string literal (detected at line 1)\n"
     ]
    }
   ],
   "source": [
    "print(\"hello world my name is prajakta \n",
    "      i am a student\")"
   ]
  },
  {
   "cell_type": "code",
   "execution_count": 18,
   "id": "5ea0aa7f-1b60-40d0-893c-553a78f539fd",
   "metadata": {},
   "outputs": [
    {
     "name": "stdout",
     "output_type": "stream",
     "text": [
      "hello i am prajakta \n",
      " i am a student\n"
     ]
    }
   ],
   "source": [
    "print(\"hello i am prajakta \\n i am a student\")"
   ]
  },
  {
   "cell_type": "markdown",
   "id": "55e90548-1103-4170-93e7-4f08a912b092",
   "metadata": {},
   "source": [
    "## variables assignment "
   ]
  },
  {
   "cell_type": "code",
   "execution_count": 22,
   "id": "1ba25497-a160-4630-8647-401d00b76e48",
   "metadata": {},
   "outputs": [],
   "source": [
    "name=\"krish\"\n",
    "company=\"PW skills\""
   ]
  },
  {
   "cell_type": "code",
   "execution_count": 23,
   "id": "a2f1e057-d61c-46de-b926-3594181fc2df",
   "metadata": {},
   "outputs": [
    {
     "data": {
      "text/plain": [
       "'PW skills'"
      ]
     },
     "execution_count": 23,
     "metadata": {},
     "output_type": "execute_result"
    }
   ],
   "source": [
    "company"
   ]
  },
  {
   "cell_type": "code",
   "execution_count": 24,
   "id": "20391b89-f279-4e96-9b65-335b7258df50",
   "metadata": {},
   "outputs": [
    {
     "data": {
      "text/plain": [
       "'krish'"
      ]
     },
     "execution_count": 24,
     "metadata": {},
     "output_type": "execute_result"
    }
   ],
   "source": [
    "name"
   ]
  },
  {
   "cell_type": "code",
   "execution_count": 26,
   "id": "9fe1da49-f6b0-4f81-afbb-d4d248a95901",
   "metadata": {},
   "outputs": [
    {
     "data": {
      "text/plain": [
       "'bala'"
      ]
     },
     "execution_count": 26,
     "metadata": {},
     "output_type": "execute_result"
    }
   ],
   "source": [
    "name=\"bala\"\n",
    "name"
   ]
  },
  {
   "cell_type": "code",
   "execution_count": 27,
   "id": "b42c62a9-bff4-4ed0-a579-ab39f24148d8",
   "metadata": {},
   "outputs": [
    {
     "data": {
      "text/plain": [
       "str"
      ]
     },
     "execution_count": 27,
     "metadata": {},
     "output_type": "execute_result"
    }
   ],
   "source": [
    "type(\"\")"
   ]
  },
  {
   "cell_type": "code",
   "execution_count": 28,
   "id": "927c3bd8-5a9b-4805-9086-c8bda6c4770e",
   "metadata": {},
   "outputs": [
    {
     "data": {
      "text/plain": [
       "str"
      ]
     },
     "execution_count": 28,
     "metadata": {},
     "output_type": "execute_result"
    }
   ],
   "source": [
    "type(name)"
   ]
  },
  {
   "cell_type": "code",
   "execution_count": 30,
   "id": "58beb41e-01f2-4ce2-9ca4-41d1afddb3c8",
   "metadata": {},
   "outputs": [
    {
     "data": {
      "text/plain": [
       "10"
      ]
     },
     "execution_count": 30,
     "metadata": {},
     "output_type": "execute_result"
    }
   ],
   "source": [
    "number=10\n",
    "number"
   ]
  },
  {
   "cell_type": "code",
   "execution_count": 31,
   "id": "58d4bad1-687d-4fd9-80f8-84841d3c2085",
   "metadata": {},
   "outputs": [
    {
     "data": {
      "text/plain": [
       "int"
      ]
     },
     "execution_count": 31,
     "metadata": {},
     "output_type": "execute_result"
    }
   ],
   "source": [
    "type(number)"
   ]
  },
  {
   "cell_type": "code",
   "execution_count": 33,
   "id": "312350d1-b88b-41ef-b0c6-a671055f6aee",
   "metadata": {},
   "outputs": [],
   "source": [
    "decimal_no=3.66"
   ]
  },
  {
   "cell_type": "code",
   "execution_count": 34,
   "id": "a70873ee-67f1-4dd5-b5e4-31adaf1e180d",
   "metadata": {},
   "outputs": [
    {
     "data": {
      "text/plain": [
       "3.66"
      ]
     },
     "execution_count": 34,
     "metadata": {},
     "output_type": "execute_result"
    }
   ],
   "source": [
    "decimal_no"
   ]
  },
  {
   "cell_type": "code",
   "execution_count": 35,
   "id": "75e6a9d4-fe2b-4062-9c47-6a56b3f36ae9",
   "metadata": {},
   "outputs": [
    {
     "data": {
      "text/plain": [
       "float"
      ]
     },
     "execution_count": 35,
     "metadata": {},
     "output_type": "execute_result"
    }
   ],
   "source": [
    "type(decimal_no)"
   ]
  },
  {
   "cell_type": "code",
   "execution_count": 36,
   "id": "693e8a50-e79b-47f8-815b-706767e2b7aa",
   "metadata": {},
   "outputs": [
    {
     "data": {
      "text/plain": [
       "complex"
      ]
     },
     "execution_count": 36,
     "metadata": {},
     "output_type": "execute_result"
    }
   ],
   "source": [
    "type(1+2j)"
   ]
  },
  {
   "cell_type": "code",
   "execution_count": 38,
   "id": "e47a39c4-7f98-4c9f-967a-2750b9ec91bb",
   "metadata": {},
   "outputs": [
    {
     "data": {
      "text/plain": [
       "20"
      ]
     },
     "execution_count": 38,
     "metadata": {},
     "output_type": "execute_result"
    }
   ],
   "source": [
    "number1=20\n",
    "number1"
   ]
  },
  {
   "cell_type": "code",
   "execution_count": 41,
   "id": "d263442d-460d-4b9a-81d1-813b9bbe5588",
   "metadata": {},
   "outputs": [
    {
     "name": "stdout",
     "output_type": "stream",
     "text": [
      "iNeuron\n",
      "PWskills\n"
     ]
    }
   ],
   "source": [
    "#variables are case sensitive\n",
    "company='iNeuron'\n",
    "Company='PWskills'\n",
    "print(company)\n",
    "print(Company)"
   ]
  },
  {
   "cell_type": "code",
   "execution_count": 44,
   "id": "df0c8c57-900b-4972-aaa0-69d9fb78d72d",
   "metadata": {},
   "outputs": [
    {
     "data": {
      "text/plain": [
       "'\\nint,float,len,complex,bool,str,return,yield\\n'"
      ]
     },
     "execution_count": 44,
     "metadata": {},
     "output_type": "execute_result"
    }
   ],
   "source": [
    "# reserved keywords\n",
    "\"\"\"\n",
    "int,float,len,complex,bool,str,return,yield\n",
    "\"\"\""
   ]
  },
  {
   "cell_type": "code",
   "execution_count": 48,
   "id": "cb201753-ea60-4af8-8683-b7efa23e6868",
   "metadata": {},
   "outputs": [
    {
     "data": {
      "text/plain": [
       "True"
      ]
     },
     "execution_count": 48,
     "metadata": {},
     "output_type": "execute_result"
    }
   ],
   "source": [
    "True"
   ]
  },
  {
   "cell_type": "code",
   "execution_count": 50,
   "id": "7dddfc28-cfc6-4eed-8088-71154ccae994",
   "metadata": {},
   "outputs": [
    {
     "data": {
      "text/plain": [
       "False"
      ]
     },
     "execution_count": 50,
     "metadata": {},
     "output_type": "execute_result"
    }
   ],
   "source": [
    "False"
   ]
  },
  {
   "cell_type": "code",
   "execution_count": 51,
   "id": "eb285d8d-62aa-4cd7-8c7b-4f9d1afd7d46",
   "metadata": {},
   "outputs": [
    {
     "data": {
      "text/plain": [
       "False"
      ]
     },
     "execution_count": 51,
     "metadata": {},
     "output_type": "execute_result"
    }
   ],
   "source": [
    "not True"
   ]
  },
  {
   "cell_type": "code",
   "execution_count": 52,
   "id": "9e654251-2b22-4f5b-9e5b-c6ade23e1d60",
   "metadata": {},
   "outputs": [
    {
     "data": {
      "text/plain": [
       "bool"
      ]
     },
     "execution_count": 52,
     "metadata": {},
     "output_type": "execute_result"
    }
   ],
   "source": [
    "type(not True)"
   ]
  },
  {
   "cell_type": "code",
   "execution_count": 53,
   "id": "f721fc17-2876-42e7-b98b-1f26340ff4c0",
   "metadata": {},
   "outputs": [
    {
     "data": {
      "text/plain": [
       "False"
      ]
     },
     "execution_count": 53,
     "metadata": {},
     "output_type": "execute_result"
    }
   ],
   "source": [
    "bool(0)"
   ]
  },
  {
   "cell_type": "code",
   "execution_count": 59,
   "id": "3dac0f29-7e4c-451e-980f-453490d244ca",
   "metadata": {},
   "outputs": [
    {
     "data": {
      "text/plain": [
       "'23'"
      ]
     },
     "execution_count": 59,
     "metadata": {},
     "output_type": "execute_result"
    }
   ],
   "source": [
    "str(23)"
   ]
  },
  {
   "cell_type": "code",
   "execution_count": 60,
   "id": "190bca4c-9c9f-4bea-b185-7d794ca26e0d",
   "metadata": {},
   "outputs": [
    {
     "data": {
      "text/plain": [
       "23"
      ]
     },
     "execution_count": 60,
     "metadata": {},
     "output_type": "execute_result"
    }
   ],
   "source": [
    "int(23)"
   ]
  },
  {
   "cell_type": "code",
   "execution_count": 61,
   "id": "a336330b-f918-4617-89dc-ea4f8203013d",
   "metadata": {},
   "outputs": [
    {
     "data": {
      "text/plain": [
       "int"
      ]
     },
     "execution_count": 61,
     "metadata": {},
     "output_type": "execute_result"
    }
   ],
   "source": [
    "type(int(23))"
   ]
  },
  {
   "cell_type": "code",
   "execution_count": 54,
   "id": "ec5606c6-0087-4da5-9525-416749710a6a",
   "metadata": {},
   "outputs": [
    {
     "data": {
      "text/plain": [
       "True"
      ]
     },
     "execution_count": 54,
     "metadata": {},
     "output_type": "execute_result"
    }
   ],
   "source": [
    "bool(1)"
   ]
  },
  {
   "cell_type": "code",
   "execution_count": 78,
   "id": "908fe9f5-b594-4109-9485-ed2203a2b6d7",
   "metadata": {},
   "outputs": [
    {
     "data": {
      "text/plain": [
       "True"
      ]
     },
     "execution_count": 78,
     "metadata": {},
     "output_type": "execute_result"
    }
   ],
   "source": [
    "bool(-1)"
   ]
  },
  {
   "cell_type": "code",
   "execution_count": 77,
   "id": "0870624b-413b-4cc9-aa2d-c9ddefd0c976",
   "metadata": {},
   "outputs": [
    {
     "data": {
      "text/plain": [
       "True"
      ]
     },
     "execution_count": 77,
     "metadata": {},
     "output_type": "execute_result"
    }
   ],
   "source": [
    "bool(2)"
   ]
  },
  {
   "cell_type": "code",
   "execution_count": 58,
   "id": "110aee3e-0cbc-465b-adfa-123ef25363ad",
   "metadata": {},
   "outputs": [
    {
     "name": "stdout",
     "output_type": "stream",
     "text": [
      "True\n"
     ]
    }
   ],
   "source": [
    "a=1\n",
    "if bool(a)==True:\n",
    "    \n",
    "    print(\"True\")"
   ]
  },
  {
   "cell_type": "markdown",
   "id": "6d1a8880-2a67-4a2a-89dc-9a9b2cd4e44c",
   "metadata": {},
   "source": [
    "# Dynamic typing"
   ]
  },
  {
   "cell_type": "code",
   "execution_count": 67,
   "id": "137e0ca6-ebae-4b29-ab3d-265df5bcec62",
   "metadata": {},
   "outputs": [],
   "source": [
    "a=12\n",
    "a=\"var\""
   ]
  },
  {
   "cell_type": "code",
   "execution_count": 65,
   "id": "6d285124-0e3e-4dd9-9d51-feda696f41dc",
   "metadata": {},
   "outputs": [
    {
     "name": "stdout",
     "output_type": "stream",
     "text": [
      "<class 'str'>\n"
     ]
    }
   ],
   "source": [
    "print(type(a))"
   ]
  },
  {
   "cell_type": "code",
   "execution_count": 68,
   "id": "f5e70976-d1b4-461b-9ce1-58e797cf5efc",
   "metadata": {},
   "outputs": [
    {
     "data": {
      "text/plain": [
       "1"
      ]
     },
     "execution_count": 68,
     "metadata": {},
     "output_type": "execute_result"
    }
   ],
   "source": [
    "int(1.54)"
   ]
  },
  {
   "cell_type": "code",
   "execution_count": null,
   "id": "9e107118-db7b-4c55-a2ec-341fa5adaf81",
   "metadata": {},
   "outputs": [],
   "source": [
    "# concatenation bet different types"
   ]
  },
  {
   "cell_type": "code",
   "execution_count": 70,
   "id": "14992d6f-d4d3-4c76-8b30-b9628601cc6c",
   "metadata": {},
   "outputs": [
    {
     "data": {
      "text/plain": [
       "'12'"
      ]
     },
     "execution_count": 70,
     "metadata": {},
     "output_type": "execute_result"
    }
   ],
   "source": [
    "\"1\"+\"2\""
   ]
  },
  {
   "cell_type": "code",
   "execution_count": 71,
   "id": "a37b2802-a25f-4908-ae4a-f7b0812198fe",
   "metadata": {},
   "outputs": [
    {
     "data": {
      "text/plain": [
       "4"
      ]
     },
     "execution_count": 71,
     "metadata": {},
     "output_type": "execute_result"
    }
   ],
   "source": [
    "int(\"1\")+int(\"3\")"
   ]
  },
  {
   "cell_type": "code",
   "execution_count": 72,
   "id": "edc38385-f6c2-4745-9227-0602d590f36f",
   "metadata": {},
   "outputs": [
    {
     "ename": "TypeError",
     "evalue": "can't multiply sequence by non-int of type 'str'",
     "output_type": "error",
     "traceback": [
      "\u001b[0;31m---------------------------------------------------------------------------\u001b[0m",
      "\u001b[0;31mTypeError\u001b[0m                                 Traceback (most recent call last)",
      "Cell \u001b[0;32mIn[72], line 1\u001b[0m\n\u001b[0;32m----> 1\u001b[0m \u001b[38;5;124;43m\"\u001b[39;49m\u001b[38;5;124;43m1\u001b[39;49m\u001b[38;5;124;43m\"\u001b[39;49m\u001b[38;5;241;43m*\u001b[39;49m\u001b[38;5;124;43m\"\u001b[39;49m\u001b[38;5;124;43m1\u001b[39;49m\u001b[38;5;124;43m\"\u001b[39;49m\n",
      "\u001b[0;31mTypeError\u001b[0m: can't multiply sequence by non-int of type 'str'"
     ]
    }
   ],
   "source": [
    "\"1\"*\"1\""
   ]
  },
  {
   "cell_type": "code",
   "execution_count": 73,
   "id": "d51dede6-90b0-41aa-8c9c-ad8cb695fe9a",
   "metadata": {},
   "outputs": [
    {
     "data": {
      "text/plain": [
       "'1111111111111111111111111111111111111111111111111111111111111111111111111111111111111111111111111111'"
      ]
     },
     "execution_count": 73,
     "metadata": {},
     "output_type": "execute_result"
    }
   ],
   "source": [
    "\"1\"*100"
   ]
  },
  {
   "cell_type": "code",
   "execution_count": 74,
   "id": "554a4987-ef74-49ea-8d11-ffb7694e8af5",
   "metadata": {},
   "outputs": [
    {
     "ename": "TypeError",
     "evalue": "unsupported operand type(s) for +: 'int' and 'str'",
     "output_type": "error",
     "traceback": [
      "\u001b[0;31m---------------------------------------------------------------------------\u001b[0m",
      "\u001b[0;31mTypeError\u001b[0m                                 Traceback (most recent call last)",
      "Cell \u001b[0;32mIn[74], line 1\u001b[0m\n\u001b[0;32m----> 1\u001b[0m \u001b[38;5;28;43mint\u001b[39;49m\u001b[43m(\u001b[49m\u001b[38;5;124;43m\"\u001b[39;49m\u001b[38;5;124;43m1\u001b[39;49m\u001b[38;5;124;43m\"\u001b[39;49m\u001b[43m)\u001b[49m\u001b[38;5;241;43m+\u001b[39;49m\u001b[38;5;124;43m\"\u001b[39;49m\u001b[38;5;124;43m1\u001b[39;49m\u001b[38;5;124;43m\"\u001b[39;49m\n",
      "\u001b[0;31mTypeError\u001b[0m: unsupported operand type(s) for +: 'int' and 'str'"
     ]
    }
   ],
   "source": [
    "int(\"1\")+\"1\""
   ]
  },
  {
   "cell_type": "code",
   "execution_count": 75,
   "id": "f869503f-e4d6-4d09-8345-954231ec5dd5",
   "metadata": {},
   "outputs": [
    {
     "data": {
      "text/plain": [
       "'1'"
      ]
     },
     "execution_count": 75,
     "metadata": {},
     "output_type": "execute_result"
    }
   ],
   "source": [
    "int(\"1\")*\"1\""
   ]
  },
  {
   "cell_type": "code",
   "execution_count": 84,
   "id": "ac51c3a2-5b20-4b24-9559-8e1c556e7468",
   "metadata": {},
   "outputs": [],
   "source": [
    "type=bool(-2)"
   ]
  },
  {
   "cell_type": "code",
   "execution_count": null,
   "id": "ce9d7d54-fb72-4ace-a6d2-84a87f616a61",
   "metadata": {},
   "outputs": [],
   "source": []
  },
  {
   "cell_type": "code",
   "execution_count": null,
   "id": "05142244-0d93-4a15-b552-3d3bada59602",
   "metadata": {},
   "outputs": [],
   "source": []
  }
 ],
 "metadata": {
  "kernelspec": {
   "display_name": "Python 3 (ipykernel)",
   "language": "python",
   "name": "python3"
  },
  "language_info": {
   "codemirror_mode": {
    "name": "ipython",
    "version": 3
   },
   "file_extension": ".py",
   "mimetype": "text/x-python",
   "name": "python",
   "nbconvert_exporter": "python",
   "pygments_lexer": "ipython3",
   "version": "3.10.8"
  }
 },
 "nbformat": 4,
 "nbformat_minor": 5
}
