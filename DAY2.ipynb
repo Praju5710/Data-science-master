{
 "cells": [
  {
   "cell_type": "code",
   "execution_count": 1,
   "id": "81d76d29-6387-402d-8fa2-65d74c0850b1",
   "metadata": {},
   "outputs": [
    {
     "data": {
      "text/plain": [
       "str"
      ]
     },
     "execution_count": 1,
     "metadata": {},
     "output_type": "execute_result"
    }
   ],
   "source": [
    "type(\"a\")"
   ]
  },
  {
   "cell_type": "code",
   "execution_count": 2,
   "id": "34e98798-57ad-40d9-9896-7f79fb967262",
   "metadata": {},
   "outputs": [
    {
     "data": {
      "text/plain": [
       "str"
      ]
     },
     "execution_count": 2,
     "metadata": {},
     "output_type": "execute_result"
    }
   ],
   "source": [
    "a='c'\n",
    "type(a)"
   ]
  },
  {
   "cell_type": "code",
   "execution_count": 3,
   "id": "d6dac6f7-e5d8-4bf8-99bd-bd2acdca13e4",
   "metadata": {},
   "outputs": [
    {
     "data": {
      "text/plain": [
       "133"
      ]
     },
     "execution_count": 3,
     "metadata": {},
     "output_type": "execute_result"
    }
   ],
   "source": [
    "int('133')"
   ]
  },
  {
   "cell_type": "code",
   "execution_count": 4,
   "id": "f28b3143-690a-4820-881e-a38754abb23e",
   "metadata": {},
   "outputs": [
    {
     "ename": "ValueError",
     "evalue": "invalid literal for int() with base 10: 'abc'",
     "output_type": "error",
     "traceback": [
      "\u001b[0;31m---------------------------------------------------------------------------\u001b[0m",
      "\u001b[0;31mValueError\u001b[0m                                Traceback (most recent call last)",
      "Cell \u001b[0;32mIn[4], line 1\u001b[0m\n\u001b[0;32m----> 1\u001b[0m \u001b[38;5;28;43mint\u001b[39;49m\u001b[43m(\u001b[49m\u001b[38;5;124;43m'\u001b[39;49m\u001b[38;5;124;43mabc\u001b[39;49m\u001b[38;5;124;43m'\u001b[39;49m\u001b[43m)\u001b[49m\n",
      "\u001b[0;31mValueError\u001b[0m: invalid literal for int() with base 10: 'abc'"
     ]
    }
   ],
   "source": [
    "int('abc')"
   ]
  },
  {
   "cell_type": "code",
   "execution_count": 5,
   "id": "1234d7c0-c5af-4dc5-84d3-f3e4c2bf2d79",
   "metadata": {},
   "outputs": [
    {
     "name": "stdout",
     "output_type": "stream",
     "text": [
      "hello world\n"
     ]
    }
   ],
   "source": [
    "print(\"hello world\")"
   ]
  },
  {
   "cell_type": "code",
   "execution_count": 6,
   "id": "08e510c0-a04e-4251-a912-458400d3eb32",
   "metadata": {},
   "outputs": [
    {
     "name": "stdout",
     "output_type": "stream",
     "text": [
      "123\n"
     ]
    }
   ],
   "source": [
    "print(123)"
   ]
  },
  {
   "cell_type": "code",
   "execution_count": 9,
   "id": "5548c5fd-a583-4d4a-8e70-2a87e7e65291",
   "metadata": {},
   "outputs": [
    {
     "name": "stdout",
     "output_type": "stream",
     "text": [
      "my age is : 22\n"
     ]
    }
   ],
   "source": [
    "age=22\n",
    "print(\"my age is :\",age)"
   ]
  },
  {
   "cell_type": "code",
   "execution_count": 11,
   "id": "9288f6fd-0ba0-4a9c-b90a-bb9052f4cc88",
   "metadata": {},
   "outputs": [
    {
     "name": "stdout",
     "output_type": "stream",
     "text": [
      "my age is:{age}\n"
     ]
    }
   ],
   "source": [
    "print(\"my age is:{age}\")"
   ]
  },
  {
   "cell_type": "code",
   "execution_count": 12,
   "id": "b04137ec-6692-4305-850a-fec306230760",
   "metadata": {},
   "outputs": [
    {
     "name": "stdout",
     "output_type": "stream",
     "text": [
      "my age is:22\n"
     ]
    }
   ],
   "source": [
    "## f(format) string\n",
    "print(f\"my age is:{age}\")"
   ]
  },
  {
   "cell_type": "code",
   "execution_count": 13,
   "id": "6d95d612-18d1-4699-a0eb-7bb8d0254da4",
   "metadata": {},
   "outputs": [
    {
     "name": "stdout",
     "output_type": "stream",
     "text": [
      "my name is prajakta and age is 22\n"
     ]
    }
   ],
   "source": [
    "## format()\n",
    "name=\"prajakta\"\n",
    "age=22\n",
    "print(\"my name is {} and age is {}\".format(name,age))"
   ]
  },
  {
   "cell_type": "code",
   "execution_count": 14,
   "id": "4c2b015e-afc7-49dd-8fb0-2cba2b7053a8",
   "metadata": {},
   "outputs": [
    {
     "name": "stdout",
     "output_type": "stream",
     "text": [
      "my name is prajakta and age is 22\n"
     ]
    }
   ],
   "source": [
    "## placeholder\n",
    "print(\"my name is {firstname} and age is {firstage}\".format(firstage=age,firstname=name))"
   ]
  },
  {
   "cell_type": "code",
   "execution_count": 15,
   "id": "4d4d73a6-91a8-45e4-930e-c5f81c2dafe3",
   "metadata": {},
   "outputs": [
    {
     "name": "stdout",
     "output_type": "stream",
     "text": [
      "my age is 22 and i have completed: my degree of B.Sc with the name of prajakta madane\n"
     ]
    }
   ],
   "source": [
    "name=\"prajakta madane\"\n",
    "age=22\n",
    "degree=\"B.Sc\"\n",
    "\"my age is 22 and i have completed: my degree of B.Sc with the name of prajakta madane\"\n",
    "print(\"my age is {} and i have completed: my degree of {} with the name of {}\".format(age,degree,name)) "
   ]
  },
  {
   "cell_type": "code",
   "execution_count": 17,
   "id": "d16154bf-f274-4291-9b04-10dd31490352",
   "metadata": {},
   "outputs": [
    {
     "name": "stdout",
     "output_type": "stream",
     "text": [
      "my age is 22 and i have completed : my degree of B.Sc with the name of prajakta madane\n"
     ]
    }
   ],
   "source": [
    "print(f\"my age is {age} and i have completed : my degree of {degree} with the name of {name}\")"
   ]
  },
  {
   "cell_type": "markdown",
   "id": "e8e739ef-fa67-471e-a0e1-b3f89704621e",
   "metadata": {},
   "source": [
    "## control flow \n"
   ]
  },
  {
   "cell_type": "code",
   "execution_count": 18,
   "id": "4ca8e7de-3e8f-4ee5-be85-748066346c79",
   "metadata": {},
   "outputs": [
    {
     "name": "stdout",
     "output_type": "stream",
     "text": [
      "you are eligible to vote\n"
     ]
    }
   ],
   "source": [
    "# if statements\n",
    "age=18\n",
    "if age>=18:\n",
    "    print(\"you are eligible to vote\")"
   ]
  },
  {
   "cell_type": "code",
   "execution_count": 19,
   "id": "f8972780-28ff-465e-9765-bbe8fc05b747",
   "metadata": {},
   "outputs": [],
   "source": [
    "age=18\n",
    "if age<18:\n",
    "    print(\"you are not eligible to vote\")"
   ]
  },
  {
   "cell_type": "code",
   "execution_count": 20,
   "id": "38c4e762-8f80-4db0-8a67-7d2981141fa7",
   "metadata": {},
   "outputs": [
    {
     "name": "stdout",
     "output_type": "stream",
     "text": [
      "you are not eligible to vote\n"
     ]
    }
   ],
   "source": [
    "age=16\n",
    "if age<18:\n",
    "    print(\"you are not eligible to vote\")"
   ]
  },
  {
   "cell_type": "code",
   "execution_count": 21,
   "id": "f15cdf6d-1f20-420d-8589-46a0f54509c0",
   "metadata": {},
   "outputs": [
    {
     "name": "stdin",
     "output_type": "stream",
     "text": [
      "Enter the name prajakta madane\n"
     ]
    }
   ],
   "source": [
    "name=input(\"Enter the name\")"
   ]
  },
  {
   "cell_type": "code",
   "execution_count": 22,
   "id": "9c87bcb3-650a-4ab7-abb0-0afb4dd5047c",
   "metadata": {},
   "outputs": [
    {
     "data": {
      "text/plain": [
       "'prajakta madane'"
      ]
     },
     "execution_count": 22,
     "metadata": {},
     "output_type": "execute_result"
    }
   ],
   "source": [
    "name"
   ]
  },
  {
   "cell_type": "code",
   "execution_count": 25,
   "id": "02476990-3540-42ef-988b-2bd29d295c2c",
   "metadata": {},
   "outputs": [
    {
     "name": "stdin",
     "output_type": "stream",
     "text": [
      "Enter the age 22\n"
     ]
    }
   ],
   "source": [
    "age=int(input(\"Enter the age\"))"
   ]
  },
  {
   "cell_type": "code",
   "execution_count": 26,
   "id": "a4cd462a-8907-4b31-835b-523bc09b68aa",
   "metadata": {},
   "outputs": [
    {
     "data": {
      "text/plain": [
       "22"
      ]
     },
     "execution_count": 26,
     "metadata": {},
     "output_type": "execute_result"
    }
   ],
   "source": [
    "age"
   ]
  },
  {
   "cell_type": "code",
   "execution_count": 27,
   "id": "aa562625-5036-4183-9fbf-2521dd14b5a1",
   "metadata": {},
   "outputs": [
    {
     "data": {
      "text/plain": [
       "int"
      ]
     },
     "execution_count": 27,
     "metadata": {},
     "output_type": "execute_result"
    }
   ],
   "source": [
    "type(age)"
   ]
  },
  {
   "cell_type": "code",
   "execution_count": 37,
   "id": "bab97d35-736f-49db-95ec-d3f5cbf161c4",
   "metadata": {},
   "outputs": [
    {
     "name": "stdout",
     "output_type": "stream",
     "text": [
      "you are young blood\n"
     ]
    }
   ],
   "source": [
    "# check whether age>=18 and age<=45 you are young blood\n",
    "age=25\n",
    "if 18<=age<=45:\n",
    "   print(\"you are young blood\")"
   ]
  },
  {
   "cell_type": "code",
   "execution_count": 43,
   "id": "90989f60-a061-4d4f-8f17-acfaa1078621",
   "metadata": {},
   "outputs": [
    {
     "name": "stdin",
     "output_type": "stream",
     "text": [
      "Enter the age 30\n"
     ]
    },
    {
     "name": "stdout",
     "output_type": "stream",
     "text": [
      "you are young blood\n"
     ]
    }
   ],
   "source": [
    "age=int(input(\"Enter the age\"))\n",
    "if age>=18 and age<=45:\n",
    "   print(\"you are young blood\")"
   ]
  },
  {
   "cell_type": "code",
   "execution_count": 44,
   "id": "727e7f9f-0cdc-4355-bcff-a719c61cf32d",
   "metadata": {},
   "outputs": [
    {
     "name": "stdin",
     "output_type": "stream",
     "text": [
      "Enter the age 56\n"
     ]
    },
    {
     "name": "stdout",
     "output_type": "stream",
     "text": [
      "Thank you we will let you know\n"
     ]
    }
   ],
   "source": [
    "## if else statement\n",
    "age=int(input(\"Enter the age\"))\n",
    "if age>=18 and age<=45:\n",
    "   print(\"you are young blood\")\n",
    "else:\n",
    "    print(\"Thank you we will let you know\")"
   ]
  },
  {
   "cell_type": "code",
   "execution_count": 48,
   "id": "2f927ec6-b46d-4266-b7cb-bd897fe899ed",
   "metadata": {},
   "outputs": [
    {
     "name": "stdin",
     "output_type": "stream",
     "text": [
      "Enter the price 5000\n"
     ]
    },
    {
     "name": "stdout",
     "output_type": "stream",
     "text": [
      "The price of product is 4000.0\n"
     ]
    }
   ],
   "source": [
    "## another e.g\n",
    "# product>1000 rs u get 20% off \n",
    "# print the product price after removing discount\n",
    "# product<=1000 rs you get 30% off\n",
    "# print the product price after removing dicount\n",
    "prod_price=int(input(\"Enter the price\"))\n",
    "if prod_price>1000:\n",
    "    print(\"The price of product is {}\".format(prod_price*0.8))\n",
    "else:\n",
    "     print(\"The price of product is {}\".format(prod_price*0.7))"
   ]
  },
  {
   "cell_type": "code",
   "execution_count": 49,
   "id": "43f08300-db81-40ad-b429-f7ae5fd19ac4",
   "metadata": {},
   "outputs": [
    {
     "name": "stdin",
     "output_type": "stream",
     "text": [
      "Enter the price 5000\n"
     ]
    },
    {
     "name": "stdout",
     "output_type": "stream",
     "text": [
      "The price of product is 4000.0\n"
     ]
    }
   ],
   "source": [
    "prod_price=int(input(\"Enter the price\"))\n",
    "if prod_price>1000:\n",
    "    print(f\"The price of product is {prod_price*0.8}\")\n",
    "else:\n",
    "     print(f\"The price of product is {prod_price*0.7}\")"
   ]
  },
  {
   "cell_type": "code",
   "execution_count": 54,
   "id": "104c0ad3-50b4-4402-8f2d-24f632594828",
   "metadata": {},
   "outputs": [
    {
     "name": "stdin",
     "output_type": "stream",
     "text": [
      "Enter the price 500\n"
     ]
    },
    {
     "name": "stdout",
     "output_type": "stream",
     "text": [
      "The price of product is 300.0\n"
     ]
    }
   ],
   "source": [
    "# product>3000 rs u get 20% off \n",
    "# print the product price after removing discount\n",
    "# product>=2000 rs and <=3000 you get 30% off\n",
    "# print the product price after removing dicount\n",
    "# product<=1000 rs and <=2000 you get 40% off\n",
    "# print the product price after removing dicount\n",
    "prod_price=int(input(\"Enter the price\"))\n",
    "if prod_price>3000:\n",
    "    print(f\"The price of product is {prod_price*0.8}\")\n",
    "elif prod_price>=2000 and prod_price<=3000:\n",
    "    print(f\"The price of product is {prod_price*0.7}\")\n",
    "else:\n",
    "     print(f\"The price of product is {prod_price*0.6}\")"
   ]
  },
  {
   "cell_type": "code",
   "execution_count": 57,
   "id": "2922def4-d2ff-41f1-8651-ee95f173364e",
   "metadata": {},
   "outputs": [
    {
     "name": "stdin",
     "output_type": "stream",
     "text": [
      "Enter the price 55\n"
     ]
    },
    {
     "name": "stdout",
     "output_type": "stream",
     "text": [
      "lets drink tea\n"
     ]
    }
   ],
   "source": [
    "# product>3000 rs u get 20% off \n",
    "# print the product price after removing discount\n",
    "# product>=2000 rs and <=3000 you get 30% off\n",
    "# print the product price after removing dicount\n",
    "# product>=100rs and <=2000 you get 40% off\n",
    "# print the product price after removing dicount\n",
    "prod_price=int(input(\"Enter the price\"))\n",
    "if prod_price>3000:\n",
    "    print(f\"The price of product is {prod_price*0.8}\")\n",
    "elif prod_price>=2000 and prod_price<=3000:\n",
    "    print(f\"The price of product is {prod_price*0.7}\")\n",
    "elif prod_price>=100 and prod_price<=2000:\n",
    "    print(f\"The price of product is {prod_price*0.6}\")\n",
    "else:\n",
    "     print(\"lets drink tea\")"
   ]
  },
  {
   "cell_type": "code",
   "execution_count": 65,
   "id": "906a5342-e65f-4d44-8920-1a38e9c194e0",
   "metadata": {},
   "outputs": [
    {
     "name": "stdin",
     "output_type": "stream",
     "text": [
      "Enter the price 2999\n"
     ]
    },
    {
     "name": "stdout",
     "output_type": "stream",
     "text": [
      "congrates you get an additional gift\n",
      "The price of product is 2099.2999999999997\n"
     ]
    }
   ],
   "source": [
    "#nested if \n",
    "prod_price=int(input(\"Enter the price\"))\n",
    "if prod_price>3000:\n",
    "    print(f\"The price of product is {prod_price*0.8}\")\n",
    "elif prod_price>=2000 and prod_price<=3000:\n",
    "    if prod_price==2999:\n",
    "         print(\"congrates you get an additional gift\")\n",
    "    print(f\"The price of product is {prod_price*0.7}\")\n",
    "elif prod_price>=100 and prod_price<=2000:\n",
    "      print(f\"The price of product is {prod_price*0.6}\")\n",
    "else:\n",
    "     print(\"lets drink tea\")"
   ]
  },
  {
   "cell_type": "code",
   "execution_count": 3,
   "id": "bad6e315-c3a4-44a2-b6d5-5873927cc72a",
   "metadata": {},
   "outputs": [
    {
     "name": "stdin",
     "output_type": "stream",
     "text": [
      "Enter the price 4000\n"
     ]
    },
    {
     "name": "stdout",
     "output_type": "stream",
     "text": [
      "congrates you get a goa trip\n",
      "The price of product is 3200.0\n"
     ]
    }
   ],
   "source": [
    "prod_price=int(input(\"Enter the price\"))\n",
    "if prod_price>3000:\n",
    "    if prod_price==4000:\n",
    "       print(\"congrates you get a goa trip\")\n",
    "    print(f\"The price of product is {prod_price*0.8}\")\n",
    "elif prod_price>=2000 and prod_price<=3000:\n",
    "    if prod_price==2999:\n",
    "         print(\"congrates you get an additional gift\")\n",
    "    print(f\"The price of product is {prod_price*0.7}\")\n",
    "elif prod_price>=100 and prod_price<2000:\n",
    "      print(f\"The price of product is {prod_price*0.6}\")\n",
    "else:\n",
    "     print(\"lets drink tea\")"
   ]
  },
  {
   "cell_type": "code",
   "execution_count": 7,
   "id": "bf8daede-a62b-4274-8369-1eba9832dfeb",
   "metadata": {},
   "outputs": [
    {
     "name": "stdin",
     "output_type": "stream",
     "text": [
      "Enter the number 1200\n"
     ]
    },
    {
     "name": "stdout",
     "output_type": "stream",
     "text": [
      "Go home\n"
     ]
    }
   ],
   "source": [
    "# single statement\n",
    "val=int(input(\"Enter the number\"))\n",
    "if (val<=999):\n",
    "        print(\"value is less than equal to 999\")\n",
    "else:\n",
    "     print(\"Go home\")"
   ]
  },
  {
   "cell_type": "markdown",
   "id": "ca043a09-7ea8-4df4-ac61-c24b7b95fc43",
   "metadata": {},
   "source": [
    "## Loops statements\n",
    "1. while loop\n",
    "2. for loop\n",
    "3. nested loop\n",
    "4. loop control(break,continue,pass)"
   ]
  },
  {
   "cell_type": "markdown",
   "id": "961918f3-44e4-4153-86bc-90c23ec6cb04",
   "metadata": {},
   "source": [
    "# while loop"
   ]
  },
  {
   "cell_type": "code",
   "execution_count": 12,
   "id": "27aa8b7d-53c9-4c37-b190-a4f41c90ea88",
   "metadata": {},
   "outputs": [
    {
     "name": "stdout",
     "output_type": "stream",
     "text": [
      "41\n",
      "42\n",
      "43\n",
      "44\n",
      "45\n",
      "46\n",
      "47\n",
      "48\n",
      "49\n",
      "50\n",
      "51\n",
      "52\n",
      "53\n",
      "54\n",
      "55\n",
      "56\n",
      "57\n",
      "58\n",
      "59\n",
      "60\n",
      "61\n",
      "Its time for retirement\n"
     ]
    }
   ],
   "source": [
    "# while loop\n",
    "joining_age=40\n",
    "while joining_age<=60:\n",
    "    joining_age=joining_age+1\n",
    "    print(joining_age)\n",
    "else:\n",
    "    print(\"Its time for retirement\")\n"
   ]
  },
  {
   "cell_type": "code",
   "execution_count": 13,
   "id": "33cc6dea-c1b8-45eb-99e6-aa1c96efc151",
   "metadata": {},
   "outputs": [
    {
     "name": "stdout",
     "output_type": "stream",
     "text": [
      "1000\n",
      "900\n",
      "800\n",
      "700\n",
      "600\n",
      "500\n",
      "400\n",
      "300\n",
      "200\n",
      "100\n",
      "Put more money bank people\n"
     ]
    }
   ],
   "source": [
    "### ATM machine with 1000rs\n",
    "total_amount=1000\n",
    "while total_amount!=0:\n",
    "    print(total_amount)\n",
    "    total_amount=total_amount-100\n",
    "else:\n",
    "    print(\"Put more money bank people\")\n",
    "    "
   ]
  },
  {
   "cell_type": "markdown",
   "id": "4969bcb6-5c09-4923-850a-c8602d2a37aa",
   "metadata": {},
   "source": [
    "# for loop"
   ]
  },
  {
   "cell_type": "code",
   "execution_count": 19,
   "id": "7cf27613-4f31-4953-a65e-2ab975aac49f",
   "metadata": {},
   "outputs": [
    {
     "data": {
      "text/plain": [
       "['prajakta', 1, 2, 3, 'apple']"
      ]
     },
     "execution_count": 19,
     "metadata": {},
     "output_type": "execute_result"
    }
   ],
   "source": [
    "lst=[\"prajakta\",1,2,3,\"apple\"]\n",
    "lst"
   ]
  },
  {
   "cell_type": "code",
   "execution_count": 15,
   "id": "2f6c0518-3f03-4529-a245-f02888de83e9",
   "metadata": {},
   "outputs": [
    {
     "data": {
      "text/plain": [
       "list"
      ]
     },
     "execution_count": 15,
     "metadata": {},
     "output_type": "execute_result"
    }
   ],
   "source": [
    "type(lst)"
   ]
  },
  {
   "cell_type": "code",
   "execution_count": 16,
   "id": "17fc6c52-3c52-4417-8055-0e0d50c5011e",
   "metadata": {},
   "outputs": [
    {
     "data": {
      "text/plain": [
       "'prajakta'"
      ]
     },
     "execution_count": 16,
     "metadata": {},
     "output_type": "execute_result"
    }
   ],
   "source": [
    "lst[0]"
   ]
  },
  {
   "cell_type": "code",
   "execution_count": 17,
   "id": "05e15626-d3ae-4d2a-97d8-763ac99ae314",
   "metadata": {},
   "outputs": [
    {
     "data": {
      "text/plain": [
       "'apple'"
      ]
     },
     "execution_count": 17,
     "metadata": {},
     "output_type": "execute_result"
    }
   ],
   "source": [
    "lst[4]"
   ]
  },
  {
   "cell_type": "code",
   "execution_count": 20,
   "id": "65fcfbc5-c561-4a81-bd86-1ac765c3eccd",
   "metadata": {},
   "outputs": [
    {
     "name": "stdout",
     "output_type": "stream",
     "text": [
      "prajakta\n",
      "1\n",
      "2\n",
      "3\n",
      "apple\n"
     ]
    }
   ],
   "source": [
    "for x in lst:\n",
    "    print(x)"
   ]
  },
  {
   "cell_type": "code",
   "execution_count": 24,
   "id": "c70f2a73-f885-48e0-a9ab-d97793805b30",
   "metadata": {},
   "outputs": [
    {
     "data": {
      "text/plain": [
       "['banana', 'mango', 'apple', 'cherry', 'papaya']"
      ]
     },
     "execution_count": 24,
     "metadata": {},
     "output_type": "execute_result"
    }
   ],
   "source": [
    "fruits_list=[\"banana\",\"mango\",\"apple\",\"cherry\",\"papaya\"]\n",
    "fruits_list"
   ]
  },
  {
   "cell_type": "code",
   "execution_count": 25,
   "id": "9760c804-89e5-46a7-9f37-5b71545ddd1c",
   "metadata": {},
   "outputs": [
    {
     "name": "stdout",
     "output_type": "stream",
     "text": [
      "banana\n",
      "mango\n",
      "apple\n",
      "cherry\n",
      " The fruit is cherry\n",
      "papaya\n"
     ]
    }
   ],
   "source": [
    "for a in fruits_list:\n",
    "    print(a)\n",
    "    if a==\"cherry\":\n",
    "     print(\" The fruit is cherry\")"
   ]
  },
  {
   "cell_type": "code",
   "execution_count": 26,
   "id": "6c21ad79-ad99-47e1-b2fc-b9bffd135dd4",
   "metadata": {},
   "outputs": [
    {
     "name": "stdout",
     "output_type": "stream",
     "text": [
      "m\n",
      "a\n",
      "n\n",
      "g\n",
      "o\n"
     ]
    }
   ],
   "source": [
    "fruit=\"mango\"\n",
    "for x in fruit:\n",
    "    print(x)"
   ]
  },
  {
   "cell_type": "code",
   "execution_count": 27,
   "id": "bdb05fa4-9459-4dfb-934e-4f4a94e961d5",
   "metadata": {},
   "outputs": [
    {
     "name": "stdout",
     "output_type": "stream",
     "text": [
      "mango"
     ]
    }
   ],
   "source": [
    "fruit=\"mango\"\n",
    "for x in fruit:\n",
    "    print(x,end='')"
   ]
  },
  {
   "cell_type": "code",
   "execution_count": 28,
   "id": "e2ddff0c-2a78-4a09-b682-77ef7b8938d1",
   "metadata": {},
   "outputs": [
    {
     "name": "stdout",
     "output_type": "stream",
     "text": [
      "1\n",
      "2\n",
      "3\n",
      "4\n",
      "5\n"
     ]
    }
   ],
   "source": [
    "for i in range(1,6):\n",
    "    print(i)"
   ]
  },
  {
   "cell_type": "code",
   "execution_count": 29,
   "id": "a5b831a3-93e7-4839-ab96-d99d1dcf3d34",
   "metadata": {},
   "outputs": [
    {
     "name": "stdout",
     "output_type": "stream",
     "text": [
      "1\n",
      "4\n",
      "7\n"
     ]
    }
   ],
   "source": [
    "for i in range(1,10,3):\n",
    "    print(i)"
   ]
  },
  {
   "cell_type": "markdown",
   "id": "bfe01547-7f37-4f02-a291-59e3f73d9776",
   "metadata": {},
   "source": [
    "# nested loops"
   ]
  },
  {
   "cell_type": "code",
   "execution_count": 30,
   "id": "796fa073-fb71-4f29-9200-a2e00f8f5511",
   "metadata": {},
   "outputs": [
    {
     "name": "stdout",
     "output_type": "stream",
     "text": [
      "****************************"
     ]
    }
   ],
   "source": [
    "n=7\n",
    "for i in range(0,n):\n",
    "    for j in range(0,i+1):\n",
    "        print(\"*\",end=\"\")\n",
    "        "
   ]
  },
  {
   "cell_type": "code",
   "execution_count": 31,
   "id": "3ca07194-46a8-497d-8f6a-7edd1e21aa45",
   "metadata": {},
   "outputs": [
    {
     "name": "stdout",
     "output_type": "stream",
     "text": [
      "*\n",
      "*\n",
      "*\n",
      "*\n",
      "*\n",
      "*\n",
      "*\n",
      "*\n",
      "*\n",
      "*\n",
      "*\n",
      "*\n",
      "*\n",
      "*\n",
      "*\n",
      "*\n",
      "*\n",
      "*\n",
      "*\n",
      "*\n",
      "*\n",
      "*\n",
      "*\n",
      "*\n",
      "*\n",
      "*\n",
      "*\n",
      "*\n"
     ]
    }
   ],
   "source": [
    "n=7\n",
    "for i in range(0,n):\n",
    "    for j in range(0,i+1):\n",
    "        print(\"*\",end=\"\\n\")"
   ]
  },
  {
   "cell_type": "code",
   "execution_count": 32,
   "id": "f4c2cabf-4125-45cc-a809-5cb5d1acadcd",
   "metadata": {},
   "outputs": [
    {
     "name": "stdout",
     "output_type": "stream",
     "text": [
      "*\n",
      "**\n",
      "***\n",
      "****\n",
      "*****\n",
      "******\n",
      "*******\n"
     ]
    }
   ],
   "source": [
    "n=7\n",
    "for i in range(0,n):\n",
    "    for j in range(0,i+1):\n",
    "        print(\"*\",end=\"\")\n",
    "    print(\"\\r\")"
   ]
  },
  {
   "cell_type": "code",
   "execution_count": 15,
   "id": "c121091d-1a42-4a0f-b523-dd8d62cfef2a",
   "metadata": {},
   "outputs": [
    {
     "name": "stdout",
     "output_type": "stream",
     "text": [
      "    * \n",
      "   * * \n",
      "  * * * \n",
      " * * * * \n",
      "* * * * * \n"
     ]
    }
   ],
   "source": [
    "n=5\n",
    "for i in range(0,n):\n",
    "    for j in range(0,n-i-1):\n",
    "          print(end=\" \")\n",
    "    for j in range(0,i+1):\n",
    "           print(\"*\",end=\" \")\n",
    "    print()"
   ]
  },
  {
   "cell_type": "code",
   "execution_count": 14,
   "id": "9719517e-f99f-4d7a-933c-c5a0943a67a3",
   "metadata": {},
   "outputs": [
    {
     "name": "stdout",
     "output_type": "stream",
     "text": [
      "* * * * \n",
      "* * * \n",
      "* * \n",
      "* \n",
      "\n"
     ]
    }
   ],
   "source": [
    "n=5\n",
    "for i in range(0,n):\n",
    "    for j in range(0,n-i-1):\n",
    "          print(\"*\",end=\" \")\n",
    "    print(\"\\r\")"
   ]
  },
  {
   "cell_type": "code",
   "execution_count": 5,
   "id": "59abca2e-a7ea-458d-be15-b8265bab3862",
   "metadata": {},
   "outputs": [
    {
     "name": "stdout",
     "output_type": "stream",
     "text": [
      "*\n",
      "\n",
      "**\n",
      "\n",
      "***\n",
      "\n",
      "****\n",
      "\n",
      "*****\n",
      "\n",
      "******\n",
      "\n",
      "*******\n",
      "\n"
     ]
    }
   ],
   "source": [
    "n=7\n",
    "for i in range(0,n):\n",
    "    for j in range(0,i+1):\n",
    "        print(\"*\",end=\"\")\n",
    "    print(\"\\n\")"
   ]
  },
  {
   "cell_type": "markdown",
   "id": "4505ce28-32b2-4a3a-896f-a8c759316d6d",
   "metadata": {},
   "source": [
    "## loop control "
   ]
  },
  {
   "cell_type": "code",
   "execution_count": 16,
   "id": "02351e77-f3a3-47d2-a6ad-ec366e4c30c7",
   "metadata": {},
   "outputs": [],
   "source": [
    "## break and continue\n",
    "fruits_list=[\"mango\",\"cherry\",\"apple\",\"papaya\",\"banana\"]"
   ]
  },
  {
   "cell_type": "code",
   "execution_count": 18,
   "id": "6bd52127-80b7-4384-a074-e301316807cc",
   "metadata": {},
   "outputs": [
    {
     "name": "stdout",
     "output_type": "stream",
     "text": [
      "mango\n",
      "cherry\n",
      "The fruit is apple\n"
     ]
    }
   ],
   "source": [
    "for i in fruits_list:\n",
    "    if i==\"apple\":\n",
    "        print(\"The fruit is apple\")\n",
    "        break \n",
    "    print(i)"
   ]
  },
  {
   "cell_type": "code",
   "execution_count": 19,
   "id": "672547e0-9c6d-4f5b-a027-c1b34a763741",
   "metadata": {},
   "outputs": [
    {
     "name": "stdout",
     "output_type": "stream",
     "text": [
      "mango\n",
      "cherry\n",
      "The fruit is apple\n",
      "apple\n",
      "papaya\n",
      "banana\n"
     ]
    }
   ],
   "source": [
    "for i in fruits_list:\n",
    "    if i==\"apple\":\n",
    "        print(\"The fruit is apple\")\n",
    "        pass \n",
    "    print(i)"
   ]
  },
  {
   "cell_type": "code",
   "execution_count": 20,
   "id": "d8b45a24-35bf-4a63-a87f-185343d53eda",
   "metadata": {},
   "outputs": [
    {
     "name": "stdout",
     "output_type": "stream",
     "text": [
      "mango\n",
      "cherry\n",
      "The fruit is apple\n",
      "papaya\n",
      "banana\n"
     ]
    }
   ],
   "source": [
    "for i in fruits_list:\n",
    "    if i==\"apple\":\n",
    "        print(\"The fruit is apple\")\n",
    "        continue \n",
    "    print(i)"
   ]
  },
  {
   "cell_type": "code",
   "execution_count": null,
   "id": "48feff63-838d-4445-9bd5-40e90d0cadcf",
   "metadata": {},
   "outputs": [],
   "source": []
  },
  {
   "cell_type": "code",
   "execution_count": null,
   "id": "46f506b9-a8fa-4a9a-ace2-ac35d6b62441",
   "metadata": {},
   "outputs": [],
   "source": []
  },
  {
   "cell_type": "code",
   "execution_count": null,
   "id": "20ee610d-9cc8-42d6-bd90-99f5d37beefb",
   "metadata": {},
   "outputs": [],
   "source": []
  }
 ],
 "metadata": {
  "kernelspec": {
   "display_name": "Python 3 (ipykernel)",
   "language": "python",
   "name": "python3"
  },
  "language_info": {
   "codemirror_mode": {
    "name": "ipython",
    "version": 3
   },
   "file_extension": ".py",
   "mimetype": "text/x-python",
   "name": "python",
   "nbconvert_exporter": "python",
   "pygments_lexer": "ipython3",
   "version": "3.10.8"
  }
 },
 "nbformat": 4,
 "nbformat_minor": 5
}
