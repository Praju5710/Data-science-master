{
 "cells": [
  {
   "cell_type": "code",
   "execution_count": null,
   "id": "f510bbfa-b463-4c7e-8dc0-8075dae40429",
   "metadata": {},
   "outputs": [],
   "source": []
  },
  {
   "cell_type": "markdown",
   "id": "e89aacb7-540e-4752-a6d6-b7e28e8b3d76",
   "metadata": {},
   "source": [
    "## logical operator \n",
    "1. and\n",
    "2. or\n",
    "3. not"
   ]
  },
  {
   "cell_type": "code",
   "execution_count": 1,
   "id": "1359687f-adf3-4059-a5b9-5fc421b52a6c",
   "metadata": {},
   "outputs": [
    {
     "data": {
      "text/plain": [
       "True"
      ]
     },
     "execution_count": 1,
     "metadata": {},
     "output_type": "execute_result"
    }
   ],
   "source": [
    "True and True"
   ]
  },
  {
   "cell_type": "code",
   "execution_count": 2,
   "id": "01fc5d8c-ba01-4715-a95e-c6c0f33652b5",
   "metadata": {},
   "outputs": [
    {
     "data": {
      "text/plain": [
       "True"
      ]
     },
     "execution_count": 2,
     "metadata": {},
     "output_type": "execute_result"
    }
   ],
   "source": [
    "True or False"
   ]
  },
  {
   "cell_type": "code",
   "execution_count": 4,
   "id": "e8e26fb4-bd94-4d87-97f0-f174eee7346c",
   "metadata": {},
   "outputs": [
    {
     "name": "stdout",
     "output_type": "stream",
     "text": [
      "defined value of start =True\n",
      "defined value of stop =False \n",
      "\n",
      "defined value of start =True\n",
      "value of stop by negating start = False\n",
      "\n",
      "value of start bt negating stop = True\n",
      "defined value of stop =False\n",
      "\n"
     ]
    }
   ],
   "source": [
    "start=True\n",
    "stop=False \n",
    "\n",
    "# print the values as it is \n",
    "print(f\"defined value of start ={start}\")\n",
    "print(f\"defined value of stop ={stop} \\n\")\n",
    "\n",
    "#if can also br written as\n",
    "print(f\"defined value of start ={start}\")\n",
    "print(f\"value of stop by negating start = {not start}\\n\")\n",
    "\n",
    "#alternatively\n",
    "print(f\"value of start bt negating stop = {not stop}\")\n",
    "print(f\"defined value of stop ={stop}\\n\")\n"
   ]
  },
  {
   "cell_type": "code",
   "execution_count": 5,
   "id": "b163b80f-ed3d-40e5-948f-995599c2e60d",
   "metadata": {},
   "outputs": [
    {
     "data": {
      "text/plain": [
       "True"
      ]
     },
     "execution_count": 5,
     "metadata": {},
     "output_type": "execute_result"
    }
   ],
   "source": [
    "not bool(0)"
   ]
  },
  {
   "cell_type": "code",
   "execution_count": 6,
   "id": "3cad4648-029d-4b54-bfb5-5092ad9a393e",
   "metadata": {},
   "outputs": [
    {
     "data": {
      "text/plain": [
       "True"
      ]
     },
     "execution_count": 6,
     "metadata": {},
     "output_type": "execute_result"
    }
   ],
   "source": [
    "not int(bool(0))"
   ]
  },
  {
   "cell_type": "code",
   "execution_count": 7,
   "id": "76197826-153b-4144-a880-3b633ea1e8fe",
   "metadata": {},
   "outputs": [
    {
     "data": {
      "text/plain": [
       "True"
      ]
     },
     "execution_count": 7,
     "metadata": {},
     "output_type": "execute_result"
    }
   ],
   "source": [
    "bool(1)"
   ]
  },
  {
   "cell_type": "code",
   "execution_count": 9,
   "id": "43aac7b5-594f-4c4d-8051-d9799664207a",
   "metadata": {},
   "outputs": [
    {
     "data": {
      "text/plain": [
       "1"
      ]
     },
     "execution_count": 9,
     "metadata": {},
     "output_type": "execute_result"
    }
   ],
   "source": [
    "int(bool(1))"
   ]
  },
  {
   "cell_type": "code",
   "execution_count": 8,
   "id": "c9171f11-943e-4471-8c22-dc8310ab0665",
   "metadata": {},
   "outputs": [
    {
     "data": {
      "text/plain": [
       "False"
      ]
     },
     "execution_count": 8,
     "metadata": {},
     "output_type": "execute_result"
    }
   ],
   "source": [
    "not int(bool(1))"
   ]
  },
  {
   "cell_type": "code",
   "execution_count": 10,
   "id": "b682888b-d8e6-490b-9859-533719cfd8fb",
   "metadata": {},
   "outputs": [
    {
     "data": {
      "text/plain": [
       "False"
      ]
     },
     "execution_count": 10,
     "metadata": {},
     "output_type": "execute_result"
    }
   ],
   "source": [
    "not 1"
   ]
  },
  {
   "cell_type": "code",
   "execution_count": 11,
   "id": "78a9f206-98f0-4145-9ca5-ad882de8c600",
   "metadata": {},
   "outputs": [
    {
     "data": {
      "text/plain": [
       "1"
      ]
     },
     "execution_count": 11,
     "metadata": {},
     "output_type": "execute_result"
    }
   ],
   "source": [
    "int(not(0))"
   ]
  },
  {
   "cell_type": "code",
   "execution_count": 5,
   "id": "43eaa9bb-9f77-4ec2-aa0a-cd7ee1d9701a",
   "metadata": {},
   "outputs": [
    {
     "name": "stdout",
     "output_type": "stream",
     "text": [
      "defined value of start =1\n",
      "defined value of stop =0 \n",
      "\n",
      "defined value of start =1\n",
      "value of stop by negating start = 0\n",
      "\n",
      "value of start bt negating stop = 1\n",
      "defined value of stop =0\n",
      "\n"
     ]
    }
   ],
   "source": [
    "start=1\n",
    "stop=0 \n",
    "\n",
    "# print the values as it is \n",
    "print(f\"defined value of start ={start}\")\n",
    "print(f\"defined value of stop ={stop} \\n\")\n",
    "\n",
    "#if can also br written as\n",
    "print(f\"defined value of start ={start}\")\n",
    "print(f\"value of stop by negating start = {int(not start)}\\n\")\n",
    "\n",
    "#alternatively\n",
    "print(f\"value of start bt negating stop = {int(not stop)}\")\n",
    "print(f\"defined value of stop ={stop}\\n\")"
   ]
  },
  {
   "cell_type": "code",
   "execution_count": 6,
   "id": "8f0351d5-92b6-4406-bf76-574a26aa3ad3",
   "metadata": {},
   "outputs": [
    {
     "name": "stdout",
     "output_type": "stream",
     "text": [
      "boolean value of no.0 is False\n",
      "boolean value of no. 1 is True\n",
      "negation 0 is True and negation of 1 is False\n",
      "\n",
      "#---------------#\n",
      "\n"
     ]
    }
   ],
   "source": [
    "zero=0\n",
    "one=1\n",
    "print(f\"boolean value of no.{zero} is {bool(zero)}\")\n",
    "print(f\"boolean value of no. {one} is {bool(one)}\")\n",
    "print(f\"negation {zero} is {not zero} and negation of {one} is {not one}\")\n",
    "print(\"\\n#---------------#\\n\")"
   ]
  },
  {
   "cell_type": "code",
   "execution_count": 7,
   "id": "80f9ef56-f48c-477e-a37c-29dbed820199",
   "metadata": {},
   "outputs": [
    {
     "name": "stdout",
     "output_type": "stream",
     "text": [
      "boolean value of no.-5 is True\n",
      "boolean value of no.5 is True\n",
      "negation of -5 is False\n",
      "\n",
      "#--------#\n",
      "\n"
     ]
    }
   ],
   "source": [
    "some_negative_integer= -5\n",
    "some_positive_integer= 5\n",
    "\n",
    "print(f\"boolean value of no.{some_negative_integer} is {bool(some_negative_integer)}\")\n",
    "print(f\"boolean value of no.{some_positive_integer} is {bool(some_positive_integer)}\")\n",
    "print(f\"negation of {some_negative_integer} is {not some_negative_integer}\")\n",
    "print(\"\\n#--------#\\n\")"
   ]
  },
  {
   "cell_type": "markdown",
   "id": "c1b90ddc-5ab7-43af-afed-db7930d43901",
   "metadata": {},
   "source": [
    "## logical and"
   ]
  },
  {
   "cell_type": "code",
   "execution_count": 10,
   "id": "4e9947cf-9733-416c-ba72-4953fb7eb949",
   "metadata": {},
   "outputs": [
    {
     "name": "stdout",
     "output_type": "stream",
     "text": [
      "Dish contains vegetables: True\n",
      "Dish contains salt: False\n",
      "Dish prepared was good: False\n",
      "\n"
     ]
    }
   ],
   "source": [
    "vegetables=True\n",
    "salt=False\n",
    "dish=vegetables and salt\n",
    "\n",
    "print(f\"Dish contains vegetables: {vegetables}\")\n",
    "print(f\"Dish contains salt: {salt}\")\n",
    "print(f\"Dish prepared was good: {dish}\\n\")"
   ]
  },
  {
   "cell_type": "code",
   "execution_count": 8,
   "id": "df16cf2d-b8a5-4ae5-bf35-e6746ed1d025",
   "metadata": {},
   "outputs": [
    {
     "data": {
      "text/plain": [
       "0"
      ]
     },
     "execution_count": 8,
     "metadata": {},
     "output_type": "execute_result"
    }
   ],
   "source": [
    "True *False"
   ]
  },
  {
   "cell_type": "code",
   "execution_count": 11,
   "id": "58fee564-3904-446c-95df-6daf71a97c53",
   "metadata": {},
   "outputs": [
    {
     "data": {
      "text/plain": [
       "True"
      ]
     },
     "execution_count": 11,
     "metadata": {},
     "output_type": "execute_result"
    }
   ],
   "source": [
    "not (False)*True"
   ]
  },
  {
   "cell_type": "code",
   "execution_count": 12,
   "id": "c3a492e1-c673-4121-a2db-4ad6d03e3a88",
   "metadata": {},
   "outputs": [
    {
     "data": {
      "text/plain": [
       "0"
      ]
     },
     "execution_count": 12,
     "metadata": {},
     "output_type": "execute_result"
    }
   ],
   "source": [
    "False*(not(False))"
   ]
  },
  {
   "cell_type": "code",
   "execution_count": 13,
   "id": "7f28509e-e0f0-4384-8941-3bb61374d4b2",
   "metadata": {},
   "outputs": [
    {
     "data": {
      "text/plain": [
       "9"
      ]
     },
     "execution_count": 13,
     "metadata": {},
     "output_type": "execute_result"
    }
   ],
   "source": [
    "(1+2)*3"
   ]
  },
  {
   "cell_type": "code",
   "execution_count": 15,
   "id": "d1a6cbc8-6c0b-4256-970a-dd7e3d8d2ed3",
   "metadata": {},
   "outputs": [
    {
     "data": {
      "text/plain": [
       "True"
      ]
     },
     "execution_count": 15,
     "metadata": {},
     "output_type": "execute_result"
    }
   ],
   "source": [
    "not (False)*False"
   ]
  },
  {
   "cell_type": "code",
   "execution_count": 16,
   "id": "0b4f1ecc-f849-4c8c-8c39-7ada0248a578",
   "metadata": {},
   "outputs": [
    {
     "data": {
      "text/plain": [
       "0"
      ]
     },
     "execution_count": 16,
     "metadata": {},
     "output_type": "execute_result"
    }
   ],
   "source": [
    "(not(False))*False"
   ]
  },
  {
   "cell_type": "code",
   "execution_count": 14,
   "id": "e4612c9f-093c-4147-8af7-c42674af24f1",
   "metadata": {},
   "outputs": [
    {
     "data": {
      "text/plain": [
       "14.0"
      ]
     },
     "execution_count": 14,
     "metadata": {},
     "output_type": "execute_result"
    }
   ],
   "source": [
    "2*3+40/5"
   ]
  },
  {
   "cell_type": "code",
   "execution_count": 17,
   "id": "9c156de6-3866-440b-be98-de323bd79dc7",
   "metadata": {},
   "outputs": [
    {
     "data": {
      "text/plain": [
       "0"
      ]
     },
     "execution_count": 17,
     "metadata": {},
     "output_type": "execute_result"
    }
   ],
   "source": [
    "False*True"
   ]
  },
  {
   "cell_type": "code",
   "execution_count": 18,
   "id": "99004fab-8e3d-4474-941a-dd6fc40a8e3a",
   "metadata": {},
   "outputs": [
    {
     "data": {
      "text/plain": [
       "True"
      ]
     },
     "execution_count": 18,
     "metadata": {},
     "output_type": "execute_result"
    }
   ],
   "source": [
    "not(False*True)"
   ]
  },
  {
   "cell_type": "code",
   "execution_count": 19,
   "id": "8a45cdfa-dfd7-4689-bf34-a928679453ef",
   "metadata": {},
   "outputs": [
    {
     "data": {
      "text/plain": [
       "True"
      ]
     },
     "execution_count": 19,
     "metadata": {},
     "output_type": "execute_result"
    }
   ],
   "source": [
    "not False*True==True"
   ]
  },
  {
   "cell_type": "code",
   "execution_count": 37,
   "id": "ab0043bb-1f90-4b35-9398-4445e5d4f7d4",
   "metadata": {},
   "outputs": [],
   "source": [
    "lst1=[1,2,3,4]\n",
    "lst2=[1,2,3,4]"
   ]
  },
  {
   "cell_type": "code",
   "execution_count": 38,
   "id": "53546579-3a55-47e0-8187-6f2e34989077",
   "metadata": {},
   "outputs": [
    {
     "name": "stdout",
     "output_type": "stream",
     "text": [
      "139893686363840\n",
      "139893686426368\n"
     ]
    }
   ],
   "source": [
    "## list address \n",
    "print(id(lst1))\n",
    "print(id(lst2))"
   ]
  },
  {
   "cell_type": "code",
   "execution_count": 39,
   "id": "6e95dd3e-d1ad-4dff-9800-0bc0c36e29d7",
   "metadata": {},
   "outputs": [
    {
     "data": {
      "text/plain": [
       "False"
      ]
     },
     "execution_count": 39,
     "metadata": {},
     "output_type": "execute_result"
    }
   ],
   "source": [
    "lst1 is lst2"
   ]
  },
  {
   "cell_type": "code",
   "execution_count": 40,
   "id": "831c6032-5aae-4902-b86b-2bf32778c91f",
   "metadata": {},
   "outputs": [],
   "source": [
    "lst1=[1,2,3,4,5]\n",
    "lst2=lst1"
   ]
  },
  {
   "cell_type": "code",
   "execution_count": 41,
   "id": "71b61838-9533-4645-8b72-f8b25ca6eea2",
   "metadata": {},
   "outputs": [
    {
     "name": "stdout",
     "output_type": "stream",
     "text": [
      "139893686363968\n",
      "139893686363968\n"
     ]
    }
   ],
   "source": [
    "print(id(lst1))\n",
    "print(id(lst2))"
   ]
  },
  {
   "cell_type": "code",
   "execution_count": 42,
   "id": "663bc24d-6418-4cb7-9cb3-5013e16e5c2f",
   "metadata": {},
   "outputs": [
    {
     "data": {
      "text/plain": [
       "True"
      ]
     },
     "execution_count": 42,
     "metadata": {},
     "output_type": "execute_result"
    }
   ],
   "source": [
    "lst1 is lst2"
   ]
  },
  {
   "cell_type": "code",
   "execution_count": 63,
   "id": "f689e513-9f9c-4323-904f-e236ef46bd19",
   "metadata": {},
   "outputs": [
    {
     "data": {
      "text/plain": [
       "True"
      ]
     },
     "execution_count": 63,
     "metadata": {},
     "output_type": "execute_result"
    }
   ],
   "source": [
    "lst1=[1,2,3,4]\n",
    "lst2=[1,2,3,4]\n",
    "lst1 is not lst2"
   ]
  },
  {
   "cell_type": "code",
   "execution_count": 64,
   "id": "f7c62054-b7b7-486e-a696-04fb8f7ee51e",
   "metadata": {},
   "outputs": [
    {
     "data": {
      "text/plain": [
       "True"
      ]
     },
     "execution_count": 64,
     "metadata": {},
     "output_type": "execute_result"
    }
   ],
   "source": [
    "lst1 == lst2"
   ]
  },
  {
   "cell_type": "code",
   "execution_count": 65,
   "id": "5b32d916-6a15-4c1a-b36f-e96eda5c3f97",
   "metadata": {},
   "outputs": [
    {
     "name": "stdout",
     "output_type": "stream",
     "text": [
      "139894034448656\n",
      "139894034448656\n"
     ]
    }
   ],
   "source": [
    "a=2\n",
    "b=2\n",
    "print(id(a))\n",
    "print(id(b))"
   ]
  },
  {
   "cell_type": "code",
   "execution_count": 66,
   "id": "63fc6288-4d8b-4f4c-840d-7c0b749a53df",
   "metadata": {},
   "outputs": [
    {
     "name": "stdout",
     "output_type": "stream",
     "text": [
      "139893686417200\n",
      "139893686417200\n"
     ]
    }
   ],
   "source": [
    "str1=\"praju\"\n",
    "str2=\"praju\"\n",
    "print(id(str1))\n",
    "print(id(str2))"
   ]
  },
  {
   "cell_type": "code",
   "execution_count": 67,
   "id": "2a69f8f0-e8d3-46f4-9111-3fc7a139423d",
   "metadata": {},
   "outputs": [
    {
     "name": "stdout",
     "output_type": "stream",
     "text": [
      "139893686417200\n",
      "139893686363056\n"
     ]
    }
   ],
   "source": [
    "str1=\"praju\"\n",
    "str2=\"praju1\"\n",
    "print(id(str1))\n",
    "print(id(str2))"
   ]
  },
  {
   "cell_type": "code",
   "execution_count": 68,
   "id": "99ac5bea-a72d-4927-babb-f0b45233edbf",
   "metadata": {},
   "outputs": [
    {
     "data": {
      "text/plain": [
       "[1, 2, 3, 4]"
      ]
     },
     "execution_count": 68,
     "metadata": {},
     "output_type": "execute_result"
    }
   ],
   "source": [
    "lst1"
   ]
  },
  {
   "cell_type": "code",
   "execution_count": 69,
   "id": "04b7a868-fe2c-44ac-81b6-1656f3320b2d",
   "metadata": {},
   "outputs": [],
   "source": [
    "lst1[0]=10"
   ]
  },
  {
   "cell_type": "code",
   "execution_count": 70,
   "id": "97b184c4-d2da-48ce-ad38-f6d9579448a6",
   "metadata": {},
   "outputs": [
    {
     "data": {
      "text/plain": [
       "[10, 2, 3, 4]"
      ]
     },
     "execution_count": 70,
     "metadata": {},
     "output_type": "execute_result"
    }
   ],
   "source": [
    "lst1"
   ]
  },
  {
   "cell_type": "code",
   "execution_count": 71,
   "id": "6dae0a89-e0a6-40cb-aad6-bca10a8bc6af",
   "metadata": {},
   "outputs": [
    {
     "ename": "TypeError",
     "evalue": "'str' object does not support item assignment",
     "output_type": "error",
     "traceback": [
      "\u001b[0;31m---------------------------------------------------------------------------\u001b[0m",
      "\u001b[0;31mTypeError\u001b[0m                                 Traceback (most recent call last)",
      "Cell \u001b[0;32mIn[71], line 1\u001b[0m\n\u001b[0;32m----> 1\u001b[0m \u001b[43mstr1\u001b[49m\u001b[43m[\u001b[49m\u001b[38;5;241;43m0\u001b[39;49m\u001b[43m]\u001b[49m\u001b[38;5;241m=\u001b[39m\u001b[38;5;124m'\u001b[39m\u001b[38;5;124mn\u001b[39m\u001b[38;5;124m'\u001b[39m\n",
      "\u001b[0;31mTypeError\u001b[0m: 'str' object does not support item assignment"
     ]
    }
   ],
   "source": [
    "## strings are immutable\n",
    "str1[0]='n'"
   ]
  },
  {
   "cell_type": "markdown",
   "id": "8343daa3-2cd2-4cf8-aa59-c288c99978c3",
   "metadata": {},
   "source": [
    "# comparision operation"
   ]
  },
  {
   "cell_type": "code",
   "execution_count": 78,
   "id": "1c0b7ae1-33ca-4e35-a91f-ccd29745a4f1",
   "metadata": {},
   "outputs": [
    {
     "name": "stdout",
     "output_type": "stream",
     "text": [
      "bike is faster than car:False\n"
     ]
    }
   ],
   "source": [
    "maximum_speed_of_bike=150\n",
    "max_speed_of_car=200\n",
    "print(f\"bike is faster than car:{maximum_speed_of_bike > max_speed_of_car}\")"
   ]
  },
  {
   "cell_type": "code",
   "execution_count": 79,
   "id": "52d047a1-f041-41c9-a6ff-6a0b52c7b6c2",
   "metadata": {},
   "outputs": [
    {
     "name": "stdout",
     "output_type": "stream",
     "text": [
      "bike is faster than car:True\n"
     ]
    }
   ],
   "source": [
    "maximum_speed_of_bike=150\n",
    "max_speed_of_car=200\n",
    "print(f\"bike is faster than car:{maximum_speed_of_bike < max_speed_of_car}\")"
   ]
  },
  {
   "cell_type": "markdown",
   "id": "a651535d-4939-45ee-bfbe-b4d108632102",
   "metadata": {},
   "source": [
    "# Arithmetic operation"
   ]
  },
  {
   "cell_type": "code",
   "execution_count": 80,
   "id": "3bbf9eb3-23e2-4459-8e99-64dafb501b30",
   "metadata": {},
   "outputs": [],
   "source": [
    "a=25\n",
    "b=101"
   ]
  },
  {
   "cell_type": "code",
   "execution_count": 81,
   "id": "8b3c3dfd-8eeb-486b-acc4-3eaa6d0cb740",
   "metadata": {},
   "outputs": [
    {
     "data": {
      "text/plain": [
       "0.24752475247524752"
      ]
     },
     "execution_count": 81,
     "metadata": {},
     "output_type": "execute_result"
    }
   ],
   "source": [
    "a/b"
   ]
  },
  {
   "cell_type": "code",
   "execution_count": 82,
   "id": "6e79c53d-4569-4d26-b090-fd188b99d9dd",
   "metadata": {},
   "outputs": [
    {
     "data": {
      "text/plain": [
       "126"
      ]
     },
     "execution_count": 82,
     "metadata": {},
     "output_type": "execute_result"
    }
   ],
   "source": [
    "a+b"
   ]
  },
  {
   "cell_type": "code",
   "execution_count": 83,
   "id": "48569046-56af-41e5-9d89-4d0981b80406",
   "metadata": {},
   "outputs": [
    {
     "data": {
      "text/plain": [
       "0"
      ]
     },
     "execution_count": 83,
     "metadata": {},
     "output_type": "execute_result"
    }
   ],
   "source": [
    "# integer\n",
    "a//b"
   ]
  },
  {
   "cell_type": "code",
   "execution_count": 84,
   "id": "b97db89c-47f6-4aaa-9786-11dabcad587e",
   "metadata": {},
   "outputs": [
    {
     "data": {
      "text/plain": [
       "4"
      ]
     },
     "execution_count": 84,
     "metadata": {},
     "output_type": "execute_result"
    }
   ],
   "source": [
    "b//a"
   ]
  },
  {
   "cell_type": "code",
   "execution_count": 87,
   "id": "519357d9-ce9e-469f-8f8b-73ecabee956a",
   "metadata": {},
   "outputs": [
    {
     "name": "stdout",
     "output_type": "stream",
     "text": [
      "25\n",
      "1\n"
     ]
    }
   ],
   "source": [
    "# remainder\n",
    "print(a%b)\n",
    "print(b%a)"
   ]
  },
  {
   "cell_type": "markdown",
   "id": "d5abb0c7-06e9-469a-b8e4-6fdc611a3eab",
   "metadata": {},
   "source": [
    "# Bitwise operators"
   ]
  },
  {
   "cell_type": "code",
   "execution_count": 88,
   "id": "afd61142-5b1f-427e-b086-d985ce493e90",
   "metadata": {},
   "outputs": [
    {
     "data": {
      "text/plain": [
       "'0b1010'"
      ]
     },
     "execution_count": 88,
     "metadata": {},
     "output_type": "execute_result"
    }
   ],
   "source": [
    "var=10\n",
    "bin(var)"
   ]
  },
  {
   "cell_type": "code",
   "execution_count": 89,
   "id": "642a683e-4057-486f-88c4-cf5c9b654380",
   "metadata": {},
   "outputs": [
    {
     "data": {
      "text/plain": [
       "-11"
      ]
     },
     "execution_count": 89,
     "metadata": {},
     "output_type": "execute_result"
    }
   ],
   "source": [
    "# bitwise complement\n",
    "~var"
   ]
  },
  {
   "cell_type": "code",
   "execution_count": 90,
   "id": "296abc1b-e0ab-46b4-932d-be34a48313ab",
   "metadata": {},
   "outputs": [
    {
     "data": {
      "text/plain": [
       "True"
      ]
     },
     "execution_count": 90,
     "metadata": {},
     "output_type": "execute_result"
    }
   ],
   "source": [
    "True | False"
   ]
  },
  {
   "cell_type": "code",
   "execution_count": 91,
   "id": "5f874ee8-4d2b-4bda-b78d-01d71e03a9b8",
   "metadata": {},
   "outputs": [
    {
     "data": {
      "text/plain": [
       "False"
      ]
     },
     "execution_count": 91,
     "metadata": {},
     "output_type": "execute_result"
    }
   ],
   "source": [
    "True & False"
   ]
  },
  {
   "cell_type": "code",
   "execution_count": 92,
   "id": "2f786266-9085-440c-ba21-c0d4e6dc0b58",
   "metadata": {},
   "outputs": [
    {
     "data": {
      "text/plain": [
       "20"
      ]
     },
     "execution_count": 92,
     "metadata": {},
     "output_type": "execute_result"
    }
   ],
   "source": [
    "## shift 1 to left\n",
    "var <<1"
   ]
  },
  {
   "cell_type": "code",
   "execution_count": 93,
   "id": "a5a203f1-4ec1-40ca-a57c-c995a7e32898",
   "metadata": {},
   "outputs": [
    {
     "data": {
      "text/plain": [
       "5"
      ]
     },
     "execution_count": 93,
     "metadata": {},
     "output_type": "execute_result"
    }
   ],
   "source": [
    "## shift 1 to right\n",
    "var >>1"
   ]
  },
  {
   "cell_type": "markdown",
   "id": "f93fb41f-653b-46b2-954f-a56a7d14dea4",
   "metadata": {},
   "source": [
    "# Strings"
   ]
  },
  {
   "cell_type": "code",
   "execution_count": 94,
   "id": "364c9bc8-d241-4391-9c49-c4da6da229b1",
   "metadata": {},
   "outputs": [
    {
     "data": {
      "text/plain": [
       "' Welcome to data science masters'"
      ]
     },
     "execution_count": 94,
     "metadata": {},
     "output_type": "execute_result"
    }
   ],
   "source": [
    "\" Welcome to data science masters\""
   ]
  },
  {
   "cell_type": "code",
   "execution_count": 95,
   "id": "5be0f92e-26ce-4001-a11d-aebfbce7128c",
   "metadata": {},
   "outputs": [],
   "source": [
    "str=\" Welcome to data science masters\""
   ]
  },
  {
   "cell_type": "code",
   "execution_count": 96,
   "id": "7099b2f5-e729-40a9-9cfe-a44c8c905210",
   "metadata": {},
   "outputs": [
    {
     "data": {
      "text/plain": [
       "str"
      ]
     },
     "execution_count": 96,
     "metadata": {},
     "output_type": "execute_result"
    }
   ],
   "source": [
    "type(str)"
   ]
  },
  {
   "cell_type": "code",
   "execution_count": 97,
   "id": "fe52d469-a474-4db7-ba4e-52c4cc3c9ceb",
   "metadata": {},
   "outputs": [
    {
     "ename": "TypeError",
     "evalue": "'str' object does not support item assignment",
     "output_type": "error",
     "traceback": [
      "\u001b[0;31m---------------------------------------------------------------------------\u001b[0m",
      "\u001b[0;31mTypeError\u001b[0m                                 Traceback (most recent call last)",
      "Cell \u001b[0;32mIn[97], line 2\u001b[0m\n\u001b[1;32m      1\u001b[0m \u001b[38;5;66;03m## immutable\u001b[39;00m\n\u001b[0;32m----> 2\u001b[0m \u001b[38;5;28;43mstr\u001b[39;49m\u001b[43m[\u001b[49m\u001b[38;5;241;43m0\u001b[39;49m\u001b[43m]\u001b[49m\u001b[38;5;241m=\u001b[39m\u001b[38;5;241m12\u001b[39m\n",
      "\u001b[0;31mTypeError\u001b[0m: 'str' object does not support item assignment"
     ]
    }
   ],
   "source": [
    "## immutable\n",
    "str[0]=12"
   ]
  },
  {
   "cell_type": "code",
   "execution_count": 98,
   "id": "35edff4f-3f20-4cc2-a69f-41ee731a02e3",
   "metadata": {},
   "outputs": [
    {
     "data": {
      "text/plain": [
       "'praju madane'"
      ]
     },
     "execution_count": 98,
     "metadata": {},
     "output_type": "execute_result"
    }
   ],
   "source": [
    "str=\"praju madane\"\n",
    "str"
   ]
  },
  {
   "cell_type": "code",
   "execution_count": 1,
   "id": "b858117e-aa28-4893-9278-76d31741a8ea",
   "metadata": {},
   "outputs": [],
   "source": [
    "string=\"pw skills data science\""
   ]
  },
  {
   "cell_type": "code",
   "execution_count": 2,
   "id": "16e48fc3-f7df-480b-96b6-b6637748786a",
   "metadata": {},
   "outputs": [
    {
     "data": {
      "text/plain": [
       "'i'"
      ]
     },
     "execution_count": 2,
     "metadata": {},
     "output_type": "execute_result"
    }
   ],
   "source": [
    "string[5]"
   ]
  },
  {
   "cell_type": "code",
   "execution_count": 3,
   "id": "40948ba4-07dc-4ff3-82f2-50d5ad99a0bb",
   "metadata": {},
   "outputs": [
    {
     "data": {
      "text/plain": [
       "'ills data science'"
      ]
     },
     "execution_count": 3,
     "metadata": {},
     "output_type": "execute_result"
    }
   ],
   "source": [
    "string[5:]"
   ]
  },
  {
   "cell_type": "code",
   "execution_count": 5,
   "id": "0217439e-6d81-4877-a864-ff33b3762fe7",
   "metadata": {},
   "outputs": [
    {
     "data": {
      "text/plain": [
       "'ills d'"
      ]
     },
     "execution_count": 5,
     "metadata": {},
     "output_type": "execute_result"
    }
   ],
   "source": [
    "string[5:11]"
   ]
  },
  {
   "cell_type": "code",
   "execution_count": 108,
   "id": "b80fce01-6eb0-4f22-bf96-4f47e99de66d",
   "metadata": {},
   "outputs": [
    {
     "data": {
      "text/plain": [
       "'e'"
      ]
     },
     "execution_count": 108,
     "metadata": {},
     "output_type": "execute_result"
    }
   ],
   "source": [
    "string[-1]"
   ]
  },
  {
   "cell_type": "code",
   "execution_count": 109,
   "id": "ab453952-811c-46f5-ab48-3f67603efb70",
   "metadata": {},
   "outputs": [
    {
     "data": {
      "text/plain": [
       "'e'"
      ]
     },
     "execution_count": 109,
     "metadata": {},
     "output_type": "execute_result"
    }
   ],
   "source": [
    "string[-1:]"
   ]
  },
  {
   "cell_type": "code",
   "execution_count": 111,
   "id": "d18fba8b-7f1f-444c-90bd-0cb74c35c661",
   "metadata": {},
   "outputs": [
    {
     "data": {
      "text/plain": [
       "'nce'"
      ]
     },
     "execution_count": 111,
     "metadata": {},
     "output_type": "execute_result"
    }
   ],
   "source": [
    "string[-3:]"
   ]
  },
  {
   "cell_type": "code",
   "execution_count": 112,
   "id": "904b58cf-1102-4bf5-a68e-83d26f6f31c0",
   "metadata": {},
   "outputs": [
    {
     "data": {
      "text/plain": [
       "'scie'"
      ]
     },
     "execution_count": 112,
     "metadata": {},
     "output_type": "execute_result"
    }
   ],
   "source": [
    "string[-7:-3]"
   ]
  },
  {
   "cell_type": "code",
   "execution_count": 113,
   "id": "5fb561ff-5aba-4df0-8f8e-2b7538042d04",
   "metadata": {},
   "outputs": [
    {
     "data": {
      "text/plain": [
       "''"
      ]
     },
     "execution_count": 113,
     "metadata": {},
     "output_type": "execute_result"
    }
   ],
   "source": [
    "string[-7:5]"
   ]
  },
  {
   "cell_type": "code",
   "execution_count": 114,
   "id": "643f310b-b20f-45e5-b262-80b8bf5d033a",
   "metadata": {},
   "outputs": [
    {
     "data": {
      "text/plain": [
       "''"
      ]
     },
     "execution_count": 114,
     "metadata": {},
     "output_type": "execute_result"
    }
   ],
   "source": [
    "string[7:5]"
   ]
  },
  {
   "cell_type": "code",
   "execution_count": 115,
   "id": "0fbaf7bc-6bcb-40bb-844f-a14a3a41c5d7",
   "metadata": {},
   "outputs": [
    {
     "data": {
      "text/plain": [
       "'pw skills data scienc'"
      ]
     },
     "execution_count": 115,
     "metadata": {},
     "output_type": "execute_result"
    }
   ],
   "source": [
    "string[:-1]"
   ]
  },
  {
   "cell_type": "code",
   "execution_count": 116,
   "id": "36f03d0a-110d-4de3-8ec2-c271f64449d2",
   "metadata": {},
   "outputs": [
    {
     "data": {
      "text/plain": [
       "'pw skills data science'"
      ]
     },
     "execution_count": 116,
     "metadata": {},
     "output_type": "execute_result"
    }
   ],
   "source": [
    "string[:]"
   ]
  },
  {
   "cell_type": "code",
   "execution_count": 118,
   "id": "0d658c6b-7628-45a0-8888-12375ae471cb",
   "metadata": {},
   "outputs": [
    {
     "data": {
      "text/plain": [
       "'art'"
      ]
     },
     "execution_count": 118,
     "metadata": {},
     "output_type": "execute_result"
    }
   ],
   "source": [
    "name=\"kartik\"\n",
    "name[-5:4]"
   ]
  },
  {
   "cell_type": "code",
   "execution_count": 119,
   "id": "ffad7245-0ec4-4928-8269-a722052c0ee5",
   "metadata": {},
   "outputs": [
    {
     "data": {
      "text/plain": [
       "'pw skills data science'"
      ]
     },
     "execution_count": 119,
     "metadata": {},
     "output_type": "execute_result"
    }
   ],
   "source": [
    "string"
   ]
  },
  {
   "cell_type": "code",
   "execution_count": 6,
   "id": "d8ba52fe-3987-40db-bb31-9066cc322abf",
   "metadata": {},
   "outputs": [
    {
     "data": {
      "text/plain": [
       "'ecneics atad slliks wp'"
      ]
     },
     "execution_count": 6,
     "metadata": {},
     "output_type": "execute_result"
    }
   ],
   "source": [
    "string[::-1]"
   ]
  },
  {
   "cell_type": "code",
   "execution_count": 7,
   "id": "2d0bb3a7-c903-43a0-8ed2-fcfbc7be6687",
   "metadata": {},
   "outputs": [
    {
     "data": {
      "text/plain": [
       "'enisaa lisw'"
      ]
     },
     "execution_count": 7,
     "metadata": {},
     "output_type": "execute_result"
    }
   ],
   "source": [
    "string[::-2]"
   ]
  },
  {
   "cell_type": "code",
   "execution_count": 8,
   "id": "cd065246-0cec-49f2-aad2-9e35af196c01",
   "metadata": {},
   "outputs": [
    {
     "data": {
      "text/plain": [
       "'liks wp'"
      ]
     },
     "execution_count": 8,
     "metadata": {},
     "output_type": "execute_result"
    }
   ],
   "source": [
    "string[6::-1]"
   ]
  },
  {
   "cell_type": "code",
   "execution_count": 9,
   "id": "353d6d05-4e86-4480-88b0-37a1fae8d8b2",
   "metadata": {},
   "outputs": [
    {
     "data": {
      "text/plain": [
       "'ecalw'"
      ]
     },
     "execution_count": 9,
     "metadata": {},
     "output_type": "execute_result"
    }
   ],
   "source": [
    "string[::-5]"
   ]
  },
  {
   "cell_type": "code",
   "execution_count": 11,
   "id": "a72a4217-99d2-4706-ba3a-ee74567990d2",
   "metadata": {},
   "outputs": [
    {
     "data": {
      "text/plain": [
       "'eest lsp'"
      ]
     },
     "execution_count": 11,
     "metadata": {},
     "output_type": "execute_result"
    }
   ],
   "source": [
    "string[::-3]"
   ]
  },
  {
   "cell_type": "code",
   "execution_count": 1,
   "id": "e9aee786-6abb-49c5-bdfd-88c7d4365d49",
   "metadata": {},
   "outputs": [],
   "source": [
    "name=\"krish\""
   ]
  },
  {
   "cell_type": "code",
   "execution_count": 2,
   "id": "8c1d74fd-f0ae-4484-af4a-103b99240330",
   "metadata": {},
   "outputs": [
    {
     "data": {
      "text/plain": [
       "'hik'"
      ]
     },
     "execution_count": 2,
     "metadata": {},
     "output_type": "execute_result"
    }
   ],
   "source": [
    "name[::-2]"
   ]
  },
  {
   "cell_type": "code",
   "execution_count": 3,
   "id": "02154ac4-dbfd-476a-901d-c07884ad0c47",
   "metadata": {},
   "outputs": [
    {
     "data": {
      "text/plain": [
       "'hik'"
      ]
     },
     "execution_count": 3,
     "metadata": {},
     "output_type": "execute_result"
    }
   ],
   "source": [
    "name[4::-2]"
   ]
  },
  {
   "cell_type": "code",
   "execution_count": 4,
   "id": "1ce45643-7ee8-4325-985f-7b1b65517069",
   "metadata": {},
   "outputs": [
    {
     "data": {
      "text/plain": [
       "'sirk'"
      ]
     },
     "execution_count": 4,
     "metadata": {},
     "output_type": "execute_result"
    }
   ],
   "source": [
    "name[3::-1]"
   ]
  },
  {
   "cell_type": "code",
   "execution_count": 6,
   "id": "6d1f0d4d-f86a-4b6a-8498-5507125c4dcf",
   "metadata": {},
   "outputs": [
    {
     "data": {
      "text/plain": [
       "'si'"
      ]
     },
     "execution_count": 6,
     "metadata": {},
     "output_type": "execute_result"
    }
   ],
   "source": [
    "name[3:1:-1]"
   ]
  },
  {
   "cell_type": "code",
   "execution_count": 16,
   "id": "ad9b2fb2-a8f2-4086-bfb9-382af0189cb0",
   "metadata": {},
   "outputs": [],
   "source": [
    "course_name=\"Data Science Masters\""
   ]
  },
  {
   "cell_type": "code",
   "execution_count": 17,
   "id": "51d0771a-4dc4-4301-b64e-c433bc925b9b",
   "metadata": {},
   "outputs": [
    {
     "data": {
      "text/plain": [
       "'ecneicS'"
      ]
     },
     "execution_count": 17,
     "metadata": {},
     "output_type": "execute_result"
    }
   ],
   "source": [
    "course_name[11:4:-1]"
   ]
  },
  {
   "cell_type": "code",
   "execution_count": 18,
   "id": "00e4eb82-f636-437e-a948-5abca0a963dd",
   "metadata": {},
   "outputs": [
    {
     "data": {
      "text/plain": [
       "'Science'"
      ]
     },
     "execution_count": 18,
     "metadata": {},
     "output_type": "execute_result"
    }
   ],
   "source": [
    "course_name[5:12]"
   ]
  },
  {
   "cell_type": "code",
   "execution_count": 19,
   "id": "839ec0ab-1430-4d1a-a276-93b8937972a6",
   "metadata": {},
   "outputs": [
    {
     "data": {
      "text/plain": [
       "'Data Science Masterscourse'"
      ]
     },
     "execution_count": 19,
     "metadata": {},
     "output_type": "execute_result"
    }
   ],
   "source": [
    "course_name+\"course\""
   ]
  },
  {
   "cell_type": "code",
   "execution_count": 32,
   "id": "0f798a08-7815-48c7-861a-14accd69fae7",
   "metadata": {},
   "outputs": [
    {
     "name": "stdout",
     "output_type": "stream",
     "text": [
      "hellocourse\n"
     ]
    }
   ],
   "source": [
    "print(\"hello\"+\"course\")"
   ]
  },
  {
   "cell_type": "code",
   "execution_count": 34,
   "id": "ce27060d-5be1-4e7a-b6d5-8d80bf3e824d",
   "metadata": {},
   "outputs": [
    {
     "data": {
      "text/plain": [
       "'Data Science MastersData Science MastersData Science MastersData Science MastersData Science Masters'"
      ]
     },
     "execution_count": 34,
     "metadata": {},
     "output_type": "execute_result"
    }
   ],
   "source": [
    "course_name*5"
   ]
  },
  {
   "cell_type": "code",
   "execution_count": 35,
   "id": "751d3710-5fe4-490a-aff6-95a8e6cf459f",
   "metadata": {},
   "outputs": [
    {
     "data": {
      "text/plain": [
       "20"
      ]
     },
     "execution_count": 35,
     "metadata": {},
     "output_type": "execute_result"
    }
   ],
   "source": [
    "len(course_name)"
   ]
  },
  {
   "cell_type": "code",
   "execution_count": 36,
   "id": "8c647844-67c2-4705-b449-f170b95c2a3d",
   "metadata": {},
   "outputs": [
    {
     "data": {
      "text/plain": [
       "9"
      ]
     },
     "execution_count": 36,
     "metadata": {},
     "output_type": "execute_result"
    }
   ],
   "source": [
    "course_name.find(\"n\")"
   ]
  },
  {
   "cell_type": "code",
   "execution_count": 37,
   "id": "7455ee30-ed6b-4a96-b5f2-5ab3c22ca96b",
   "metadata": {},
   "outputs": [
    {
     "data": {
      "text/plain": [
       "1"
      ]
     },
     "execution_count": 37,
     "metadata": {},
     "output_type": "execute_result"
    }
   ],
   "source": [
    "course_name.find(\"a\")"
   ]
  },
  {
   "cell_type": "code",
   "execution_count": 38,
   "id": "68f3fb2c-84ba-4b49-91da-f394afb3aca9",
   "metadata": {},
   "outputs": [
    {
     "data": {
      "text/plain": [
       "3"
      ]
     },
     "execution_count": 38,
     "metadata": {},
     "output_type": "execute_result"
    }
   ],
   "source": [
    "course_name.find(\"a\",2,10)"
   ]
  },
  {
   "cell_type": "code",
   "execution_count": 39,
   "id": "097ce6e4-5401-4929-93be-b3f33cd5903d",
   "metadata": {},
   "outputs": [
    {
     "data": {
      "text/plain": [
       "-1"
      ]
     },
     "execution_count": 39,
     "metadata": {},
     "output_type": "execute_result"
    }
   ],
   "source": [
    "course_name.find(\"z\")"
   ]
  },
  {
   "cell_type": "code",
   "execution_count": 40,
   "id": "4c483921-da1b-45d8-82e5-743c1dd44ec1",
   "metadata": {},
   "outputs": [
    {
     "data": {
      "text/plain": [
       "3"
      ]
     },
     "execution_count": 40,
     "metadata": {},
     "output_type": "execute_result"
    }
   ],
   "source": [
    "## count\n",
    "course_name.count(\"a\")"
   ]
  },
  {
   "cell_type": "code",
   "execution_count": 41,
   "id": "a8773a75-ec65-467e-bb5e-c1c39dc72589",
   "metadata": {},
   "outputs": [
    {
     "data": {
      "text/plain": [
       "2"
      ]
     },
     "execution_count": 41,
     "metadata": {},
     "output_type": "execute_result"
    }
   ],
   "source": [
    "## to find spaces in sentence\n",
    "course_name.count(\" \")"
   ]
  },
  {
   "cell_type": "code",
   "execution_count": 42,
   "id": "39f4bb35-18a5-44ee-b424-99b7ee93c6ba",
   "metadata": {},
   "outputs": [
    {
     "data": {
      "text/plain": [
       "21"
      ]
     },
     "execution_count": 42,
     "metadata": {},
     "output_type": "execute_result"
    }
   ],
   "source": [
    "course_name.count(\"\")"
   ]
  },
  {
   "cell_type": "markdown",
   "id": "5316a207-bd26-48a0-ad2f-1a16c05ce58d",
   "metadata": {},
   "source": [
    "### String split function"
   ]
  },
  {
   "cell_type": "code",
   "execution_count": 45,
   "id": "7ddae1f3-28a0-4dc9-a0ad-c925c8d76c68",
   "metadata": {},
   "outputs": [
    {
     "data": {
      "text/plain": [
       "['Data', 'Science', 'Masters']"
      ]
     },
     "execution_count": 45,
     "metadata": {},
     "output_type": "execute_result"
    }
   ],
   "source": [
    "course_name.split(\" \")"
   ]
  },
  {
   "cell_type": "code",
   "execution_count": 47,
   "id": "01862144-6cfb-4157-82f9-5a7813657741",
   "metadata": {},
   "outputs": [
    {
     "data": {
      "text/plain": [
       "['Data ', 'cience Masters']"
      ]
     },
     "execution_count": 47,
     "metadata": {},
     "output_type": "execute_result"
    }
   ],
   "source": [
    "course_name.split(\"S\")"
   ]
  },
  {
   "cell_type": "code",
   "execution_count": 49,
   "id": "f3417bbb-564e-4d9c-931e-7a87b2cdfcd2",
   "metadata": {},
   "outputs": [
    {
     "data": {
      "text/plain": [
       "['Data Science Ma', 'ter', '']"
      ]
     },
     "execution_count": 49,
     "metadata": {},
     "output_type": "execute_result"
    }
   ],
   "source": [
    "course_name.split(\"s\")"
   ]
  },
  {
   "cell_type": "code",
   "execution_count": 48,
   "id": "0712b045-a41a-4bc1-aef5-cdbad18372f7",
   "metadata": {},
   "outputs": [
    {
     "data": {
      "text/plain": [
       "('Data ', 'S', 'cience Masters')"
      ]
     },
     "execution_count": 48,
     "metadata": {},
     "output_type": "execute_result"
    }
   ],
   "source": [
    "course_name.partition(\"S\")"
   ]
  },
  {
   "cell_type": "code",
   "execution_count": 50,
   "id": "ce3f7ce2-a7c6-4a54-96d3-e94f45ae36f2",
   "metadata": {},
   "outputs": [
    {
     "data": {
      "text/plain": [
       "('Data Science Ma', 's', 'ters')"
      ]
     },
     "execution_count": 50,
     "metadata": {},
     "output_type": "execute_result"
    }
   ],
   "source": [
    "course_name.partition(\"s\")"
   ]
  },
  {
   "cell_type": "markdown",
   "id": "f5e9602b-07d6-47fc-9b67-fcd750736bb2",
   "metadata": {},
   "source": [
    "### String upper and lower case"
   ]
  },
  {
   "cell_type": "code",
   "execution_count": 52,
   "id": "a31274d7-2a1f-4ac0-8cf4-50b47eed362d",
   "metadata": {},
   "outputs": [
    {
     "data": {
      "text/plain": [
       "'data science masters'"
      ]
     },
     "execution_count": 52,
     "metadata": {},
     "output_type": "execute_result"
    }
   ],
   "source": [
    "course_name.lower()"
   ]
  },
  {
   "cell_type": "code",
   "execution_count": 54,
   "id": "9d05bb3c-cdcd-4e1d-84c6-737eaea87fbc",
   "metadata": {},
   "outputs": [
    {
     "data": {
      "text/plain": [
       "'DATA SCIENCE MASTERS'"
      ]
     },
     "execution_count": 54,
     "metadata": {},
     "output_type": "execute_result"
    }
   ],
   "source": [
    "course_name.upper()"
   ]
  },
  {
   "cell_type": "code",
   "execution_count": 55,
   "id": "70e2149f-befd-455c-9be1-e59fb0d79417",
   "metadata": {},
   "outputs": [
    {
     "data": {
      "text/plain": [
       "'dATA sCIENCE mASTERS'"
      ]
     },
     "execution_count": 55,
     "metadata": {},
     "output_type": "execute_result"
    }
   ],
   "source": [
    "course_name.swapcase()"
   ]
  },
  {
   "cell_type": "code",
   "execution_count": 56,
   "id": "eedacf4e-fece-4648-aab3-87fbee24b75f",
   "metadata": {},
   "outputs": [
    {
     "data": {
      "text/plain": [
       "'Data Science Masters'"
      ]
     },
     "execution_count": 56,
     "metadata": {},
     "output_type": "execute_result"
    }
   ],
   "source": [
    "course_name.title()"
   ]
  },
  {
   "cell_type": "code",
   "execution_count": 57,
   "id": "e72a2607-b6a8-4fe5-bb33-77f89844221b",
   "metadata": {},
   "outputs": [],
   "source": [
    "name=\"krish naik\""
   ]
  },
  {
   "cell_type": "code",
   "execution_count": 58,
   "id": "cd99df92-9e4c-471f-9cce-8b5bf8136b01",
   "metadata": {},
   "outputs": [
    {
     "data": {
      "text/plain": [
       "'Krish Naik'"
      ]
     },
     "execution_count": 58,
     "metadata": {},
     "output_type": "execute_result"
    }
   ],
   "source": [
    "name.title()"
   ]
  },
  {
   "cell_type": "code",
   "execution_count": null,
   "id": "c4df1c21-405a-4841-978b-dc82739a86b5",
   "metadata": {},
   "outputs": [],
   "source": []
  },
  {
   "cell_type": "code",
   "execution_count": null,
   "id": "ad801a16-ffc3-4f69-8f53-da473cc7c044",
   "metadata": {},
   "outputs": [],
   "source": []
  },
  {
   "cell_type": "code",
   "execution_count": null,
   "id": "4180588a-e9d6-4450-85d3-7286b965a9a7",
   "metadata": {},
   "outputs": [],
   "source": []
  },
  {
   "cell_type": "code",
   "execution_count": null,
   "id": "7504b649-826d-4262-9b47-af002e0e36a3",
   "metadata": {},
   "outputs": [],
   "source": []
  },
  {
   "cell_type": "code",
   "execution_count": null,
   "id": "2bbe2814-f524-4c0d-ac14-15fcac1f307b",
   "metadata": {},
   "outputs": [],
   "source": []
  }
 ],
 "metadata": {
  "kernelspec": {
   "display_name": "Python 3 (ipykernel)",
   "language": "python",
   "name": "python3"
  },
  "language_info": {
   "codemirror_mode": {
    "name": "ipython",
    "version": 3
   },
   "file_extension": ".py",
   "mimetype": "text/x-python",
   "name": "python",
   "nbconvert_exporter": "python",
   "pygments_lexer": "ipython3",
   "version": "3.10.8"
  }
 },
 "nbformat": 4,
 "nbformat_minor": 5
}
