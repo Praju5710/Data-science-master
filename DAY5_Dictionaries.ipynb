{
 "cells": [
  {
   "cell_type": "code",
   "execution_count": 1,
   "id": "66fd8cc5-798d-4c90-8aea-4c2ec2ed636a",
   "metadata": {},
   "outputs": [],
   "source": [
    "d={}"
   ]
  },
  {
   "cell_type": "code",
   "execution_count": 3,
   "id": "5c0f3019-6d07-46f0-9bcc-2e11d3d45b63",
   "metadata": {},
   "outputs": [
    {
     "data": {
      "text/plain": [
       "dict"
      ]
     },
     "execution_count": 3,
     "metadata": {},
     "output_type": "execute_result"
    }
   ],
   "source": [
    "type(d)"
   ]
  },
  {
   "cell_type": "code",
   "execution_count": 4,
   "id": "2b7041d8-8ab2-4457-9391-73d77eab7f49",
   "metadata": {},
   "outputs": [
    {
     "data": {
      "text/plain": [
       "{'name': 'sudh', 'email_id': 'ss@gmail.com', 'no': 123}"
      ]
     },
     "execution_count": 4,
     "metadata": {},
     "output_type": "execute_result"
    }
   ],
   "source": [
    "d1={\"name\":\"sudh\",\"email_id\":\"ss@gmail.com\",\"no\":123}\n",
    "d1"
   ]
  },
  {
   "cell_type": "code",
   "execution_count": 6,
   "id": "7552ceaa-f3f6-4912-85d9-959475e7b23b",
   "metadata": {},
   "outputs": [
    {
     "data": {
      "text/plain": [
       "dict"
      ]
     },
     "execution_count": 6,
     "metadata": {},
     "output_type": "execute_result"
    }
   ],
   "source": [
    "type(d1)"
   ]
  },
  {
   "cell_type": "code",
   "execution_count": 8,
   "id": "ece3d85f-23d6-4b4f-83bc-f26a32c77fcf",
   "metadata": {},
   "outputs": [
    {
     "data": {
      "text/plain": [
       "{'name': 'sudhanshu'}"
      ]
     },
     "execution_count": 8,
     "metadata": {},
     "output_type": "execute_result"
    }
   ],
   "source": [
    "d2={\"name\":\"sudh\",\"name\":\"sudhanshu\"}\n",
    "d2"
   ]
  },
  {
   "cell_type": "code",
   "execution_count": 9,
   "id": "421abd49-ada0-4e24-8169-e80b5900e8cb",
   "metadata": {},
   "outputs": [],
   "source": [
    "d3={234234:\"abc\"}"
   ]
  },
  {
   "cell_type": "code",
   "execution_count": 10,
   "id": "7f771da1-61f4-4190-a20f-93f1318cacea",
   "metadata": {},
   "outputs": [
    {
     "data": {
      "text/plain": [
       "{234234: 'abc'}"
      ]
     },
     "execution_count": 10,
     "metadata": {},
     "output_type": "execute_result"
    }
   ],
   "source": [
    "d3"
   ]
  },
  {
   "cell_type": "code",
   "execution_count": 11,
   "id": "9143a20e-b307-46b2-868f-aac1da4c0028",
   "metadata": {},
   "outputs": [
    {
     "data": {
      "text/plain": [
       "{234.567: 'abc'}"
      ]
     },
     "execution_count": 11,
     "metadata": {},
     "output_type": "execute_result"
    }
   ],
   "source": [
    "d4={234.567:\"abc\"}\n",
    "d4"
   ]
  },
  {
   "cell_type": "code",
   "execution_count": 12,
   "id": "fc4910d6-acff-4536-8727-10b65dd86457",
   "metadata": {},
   "outputs": [
    {
     "data": {
      "text/plain": [
       "{True: 'abc'}"
      ]
     },
     "execution_count": 12,
     "metadata": {},
     "output_type": "execute_result"
    }
   ],
   "source": [
    "d5={True:\"abc\"}\n",
    "d5"
   ]
  },
  {
   "cell_type": "code",
   "execution_count": 13,
   "id": "bc247fe9-0c12-4bbb-885b-7294a7905508",
   "metadata": {},
   "outputs": [
    {
     "ename": "SyntaxError",
     "evalue": "incomplete input (2938278252.py, line 2)",
     "output_type": "error",
     "traceback": [
      "\u001b[0;36m  Cell \u001b[0;32mIn[13], line 2\u001b[0;36m\u001b[0m\n\u001b[0;31m    d6\u001b[0m\n\u001b[0m      ^\u001b[0m\n\u001b[0;31mSyntaxError\u001b[0m\u001b[0;31m:\u001b[0m incomplete input\n"
     ]
    }
   ],
   "source": [
    "d6={#:\"abc\"}\n",
    "d6"
   ]
  },
  {
   "cell_type": "code",
   "execution_count": 14,
   "id": "1150fa25-ea51-476f-977a-0b7f87132318",
   "metadata": {},
   "outputs": [
    {
     "ename": "SyntaxError",
     "evalue": "invalid syntax (98492098.py, line 1)",
     "output_type": "error",
     "traceback": [
      "\u001b[0;36m  Cell \u001b[0;32mIn[14], line 1\u001b[0;36m\u001b[0m\n\u001b[0;31m    d7={@:\"abc\"}\u001b[0m\n\u001b[0m        ^\u001b[0m\n\u001b[0;31mSyntaxError\u001b[0m\u001b[0;31m:\u001b[0m invalid syntax\n"
     ]
    }
   ],
   "source": [
    "d7={@:\"abc\"}\n",
    "d7"
   ]
  },
  {
   "cell_type": "code",
   "execution_count": 15,
   "id": "ee3a7459-d03e-4d43-8eeb-1c9a279bfb74",
   "metadata": {},
   "outputs": [
    {
     "ename": "TypeError",
     "evalue": "unhashable type: 'list'",
     "output_type": "error",
     "traceback": [
      "\u001b[0;31m---------------------------------------------------------------------------\u001b[0m",
      "\u001b[0;31mTypeError\u001b[0m                                 Traceback (most recent call last)",
      "Cell \u001b[0;32mIn[15], line 1\u001b[0m\n\u001b[0;32m----> 1\u001b[0m d8\u001b[38;5;241m=\u001b[39m{[\u001b[38;5;241m1\u001b[39m,\u001b[38;5;241m2\u001b[39m,\u001b[38;5;241m3\u001b[39m]:\u001b[38;5;124m\"\u001b[39m\u001b[38;5;124mabc\u001b[39m\u001b[38;5;124m\"\u001b[39m}\n",
      "\u001b[0;31mTypeError\u001b[0m: unhashable type: 'list'"
     ]
    }
   ],
   "source": [
    "d8={[1,2,3]:\"abc\"}"
   ]
  },
  {
   "cell_type": "code",
   "execution_count": 17,
   "id": "d0297735-6553-4737-a47d-244e0d441a30",
   "metadata": {},
   "outputs": [
    {
     "data": {
      "text/plain": [
       "{(1, 2, 3): 'abc'}"
      ]
     },
     "execution_count": 17,
     "metadata": {},
     "output_type": "execute_result"
    }
   ],
   "source": [
    "d9={(1,2,3):\"abc\"}\n",
    "d9"
   ]
  },
  {
   "cell_type": "code",
   "execution_count": 18,
   "id": "ce2f3808-6781-4357-aa78-3daaa699f59c",
   "metadata": {},
   "outputs": [
    {
     "ename": "TypeError",
     "evalue": "unhashable type: 'set'",
     "output_type": "error",
     "traceback": [
      "\u001b[0;31m---------------------------------------------------------------------------\u001b[0m",
      "\u001b[0;31mTypeError\u001b[0m                                 Traceback (most recent call last)",
      "Cell \u001b[0;32mIn[18], line 1\u001b[0m\n\u001b[0;32m----> 1\u001b[0m d10\u001b[38;5;241m=\u001b[39m{{\u001b[38;5;241m1\u001b[39m,\u001b[38;5;241m2\u001b[39m,\u001b[38;5;241m3\u001b[39m}:\u001b[38;5;124m\"\u001b[39m\u001b[38;5;124mabc\u001b[39m\u001b[38;5;124m\"\u001b[39m}\n",
      "\u001b[0;31mTypeError\u001b[0m: unhashable type: 'set'"
     ]
    }
   ],
   "source": [
    "d10={{1,2,3}:\"abc\"}"
   ]
  },
  {
   "cell_type": "code",
   "execution_count": 20,
   "id": "c1d8ce2a-95b0-4705-8cc9-03e70d07240d",
   "metadata": {},
   "outputs": [
    {
     "ename": "TypeError",
     "evalue": "unhashable type: 'dict'",
     "output_type": "error",
     "traceback": [
      "\u001b[0;31m---------------------------------------------------------------------------\u001b[0m",
      "\u001b[0;31mTypeError\u001b[0m                                 Traceback (most recent call last)",
      "Cell \u001b[0;32mIn[20], line 1\u001b[0m\n\u001b[0;32m----> 1\u001b[0m d11\u001b[38;5;241m=\u001b[39m{{\u001b[38;5;124m\"\u001b[39m\u001b[38;5;124mkey\u001b[39m\u001b[38;5;124m\"\u001b[39m:\u001b[38;5;241m234\u001b[39m} :\u001b[38;5;124m\"\u001b[39m\u001b[38;5;124mabc\u001b[39m\u001b[38;5;124m\"\u001b[39m}\n",
      "\u001b[0;31mTypeError\u001b[0m: unhashable type: 'dict'"
     ]
    }
   ],
   "source": [
    "d11={{\"key\":234} :\"abc\"}"
   ]
  },
  {
   "cell_type": "code",
   "execution_count": 21,
   "id": "27978ed8-fabe-4168-b743-8e4098539341",
   "metadata": {},
   "outputs": [
    {
     "data": {
      "text/plain": [
       "{'course_name': ['data science', 'web dev', 'java with data']}"
      ]
     },
     "execution_count": 21,
     "metadata": {},
     "output_type": "execute_result"
    }
   ],
   "source": [
    "d12={\"course_name\":[\"data science\",\"web dev\",\"java with data\"]}\n",
    "d12"
   ]
  },
  {
   "cell_type": "code",
   "execution_count": 22,
   "id": "957e21cc-67a4-41cb-b67b-b4bb8f60ae9c",
   "metadata": {},
   "outputs": [
    {
     "data": {
      "text/plain": [
       "{'key': (1, 2, 3, 4)}"
      ]
     },
     "execution_count": 22,
     "metadata": {},
     "output_type": "execute_result"
    }
   ],
   "source": [
    "d13={\"key\":(1,2,3,4)}\n",
    "d13"
   ]
  },
  {
   "cell_type": "code",
   "execution_count": 23,
   "id": "cbd1f3fe-25e1-4890-be66-a4a9122503be",
   "metadata": {},
   "outputs": [
    {
     "data": {
      "text/plain": [
       "{'key': {1, 2, 3, 4}}"
      ]
     },
     "execution_count": 23,
     "metadata": {},
     "output_type": "execute_result"
    }
   ],
   "source": [
    "d14={\"key\":{1,2,3,4}}\n",
    "d14"
   ]
  },
  {
   "cell_type": "code",
   "execution_count": 24,
   "id": "d969b0d2-21b7-4f9d-a9f1-3a5466f71862",
   "metadata": {},
   "outputs": [
    {
     "data": {
      "text/plain": [
       "{'key': {'name': 'sudh', 'class': 'dsh'}}"
      ]
     },
     "execution_count": 24,
     "metadata": {},
     "output_type": "execute_result"
    }
   ],
   "source": [
    "d15={\"key\":{\"name\":\"sudh\",\"class\":\"dsh\"}}\n",
    "d15"
   ]
  },
  {
   "cell_type": "code",
   "execution_count": 62,
   "id": "d1dfcf79-c2e8-427f-b1f0-405b307ac835",
   "metadata": {},
   "outputs": [
    {
     "data": {
      "text/plain": [
       "{'batch': ['data science', 'web dev', 'dsh'],\n",
       " 'start_date': (28, 13, 21),\n",
       " 'mentor_name': {'krish', 'sudhanshu'}}"
      ]
     },
     "execution_count": 62,
     "metadata": {},
     "output_type": "execute_result"
    }
   ],
   "source": [
    "d16={\"batch\":[\"data science\",\"web dev\",\"dsh\"],\"start_date\":(28,13,21),\"mentor_name\":{\"krish\",\"sudhanshu\"}}\n",
    "d16"
   ]
  },
  {
   "cell_type": "code",
   "execution_count": 63,
   "id": "9a13e21f-7b03-48b0-b85d-322bb3dfc8b7",
   "metadata": {},
   "outputs": [
    {
     "data": {
      "text/plain": [
       "{'batch': ['data science', 'web dev', 'dsh'],\n",
       " 'start_date': (28, 13, 21),\n",
       " 'mentor_name': {'krish', 'sudhanshu'},\n",
       " 'timing': (8, 8, 8)}"
      ]
     },
     "execution_count": 63,
     "metadata": {},
     "output_type": "execute_result"
    }
   ],
   "source": [
    "d16[\"timing\"]=(8,8,8)\n",
    "d16"
   ]
  },
  {
   "cell_type": "code",
   "execution_count": 27,
   "id": "9568aa4e-8185-4ec4-a6e1-3ba748ba0d01",
   "metadata": {},
   "outputs": [
    {
     "data": {
      "text/plain": [
       "['data science', 'web dev', 'dsh']"
      ]
     },
     "execution_count": 27,
     "metadata": {},
     "output_type": "execute_result"
    }
   ],
   "source": [
    "d16[\"batch\"]"
   ]
  },
  {
   "cell_type": "code",
   "execution_count": 28,
   "id": "c8a49d09-edf7-4f7d-8a75-c0a7c9442a35",
   "metadata": {},
   "outputs": [
    {
     "data": {
      "text/plain": [
       "{'krish', 'sudhanshu'}"
      ]
     },
     "execution_count": 28,
     "metadata": {},
     "output_type": "execute_result"
    }
   ],
   "source": [
    "d16[\"mentor_name\"]"
   ]
  },
  {
   "cell_type": "code",
   "execution_count": 29,
   "id": "ed28b5dd-1057-46c4-9dbc-943d31e6cc99",
   "metadata": {},
   "outputs": [
    {
     "data": {
      "text/plain": [
       "set"
      ]
     },
     "execution_count": 29,
     "metadata": {},
     "output_type": "execute_result"
    }
   ],
   "source": [
    "type(d16[\"mentor_name\"])"
   ]
  },
  {
   "cell_type": "code",
   "execution_count": 30,
   "id": "361e67af-5525-4668-98f2-22ac67ad7025",
   "metadata": {},
   "outputs": [
    {
     "ename": "KeyError",
     "evalue": "'key'",
     "output_type": "error",
     "traceback": [
      "\u001b[0;31m---------------------------------------------------------------------------\u001b[0m",
      "\u001b[0;31mKeyError\u001b[0m                                  Traceback (most recent call last)",
      "Cell \u001b[0;32mIn[30], line 1\u001b[0m\n\u001b[0;32m----> 1\u001b[0m \u001b[43md16\u001b[49m\u001b[43m[\u001b[49m\u001b[38;5;124;43m\"\u001b[39;49m\u001b[38;5;124;43mkey\u001b[39;49m\u001b[38;5;124;43m\"\u001b[39;49m\u001b[43m]\u001b[49m\n",
      "\u001b[0;31mKeyError\u001b[0m: 'key'"
     ]
    }
   ],
   "source": [
    "d16[\"key\"]"
   ]
  },
  {
   "cell_type": "code",
   "execution_count": 64,
   "id": "b345c57a-2c4b-42da-a1bf-e87a1bb77afa",
   "metadata": {},
   "outputs": [],
   "source": [
    "d16[\"name\"]=\"praju\""
   ]
  },
  {
   "cell_type": "code",
   "execution_count": 35,
   "id": "ce55c4a8-5388-4615-9745-241fdb937406",
   "metadata": {},
   "outputs": [
    {
     "data": {
      "text/plain": [
       "'PRAJU'"
      ]
     },
     "execution_count": 35,
     "metadata": {},
     "output_type": "execute_result"
    }
   ],
   "source": [
    "d16[\"name\"].upper()"
   ]
  },
  {
   "cell_type": "code",
   "execution_count": 36,
   "id": "b2d89c35-458b-446b-b2d5-8068294c869b",
   "metadata": {},
   "outputs": [
    {
     "data": {
      "text/plain": [
       "{'key': {'name': 'sudh', 'class': 'dsh'}}"
      ]
     },
     "execution_count": 36,
     "metadata": {},
     "output_type": "execute_result"
    }
   ],
   "source": [
    "d15"
   ]
  },
  {
   "cell_type": "code",
   "execution_count": 37,
   "id": "d04c4282-ec05-4fbb-9ff4-ea80e582d0de",
   "metadata": {},
   "outputs": [
    {
     "data": {
      "text/plain": [
       "{'name': 'sudh', 'class': 'dsh'}"
      ]
     },
     "execution_count": 37,
     "metadata": {},
     "output_type": "execute_result"
    }
   ],
   "source": [
    "d15[\"key\"]"
   ]
  },
  {
   "cell_type": "code",
   "execution_count": 38,
   "id": "2889f58b-cbbc-4006-8e25-6894c81e0820",
   "metadata": {},
   "outputs": [
    {
     "data": {
      "text/plain": [
       "dict"
      ]
     },
     "execution_count": 38,
     "metadata": {},
     "output_type": "execute_result"
    }
   ],
   "source": [
    "type(d15[\"key\"])"
   ]
  },
  {
   "cell_type": "code",
   "execution_count": 39,
   "id": "a99d9b98-076c-4ec3-8d24-e3319b981903",
   "metadata": {},
   "outputs": [
    {
     "data": {
      "text/plain": [
       "'dsh'"
      ]
     },
     "execution_count": 39,
     "metadata": {},
     "output_type": "execute_result"
    }
   ],
   "source": [
    "d15[\"key\"][\"class\"]"
   ]
  },
  {
   "cell_type": "code",
   "execution_count": 40,
   "id": "58b35ca7-07c1-425e-9adc-b708059c1868",
   "metadata": {},
   "outputs": [],
   "source": [
    "d15[\"key1\"]=\"abvc\""
   ]
  },
  {
   "cell_type": "code",
   "execution_count": 41,
   "id": "e61524e9-ec2b-4574-a78b-2006df9d2bdf",
   "metadata": {},
   "outputs": [
    {
     "data": {
      "text/plain": [
       "{'key': {'name': 'sudh', 'class': 'dsh'}, 'key1': 'abvc'}"
      ]
     },
     "execution_count": 41,
     "metadata": {},
     "output_type": "execute_result"
    }
   ],
   "source": [
    "d15"
   ]
  },
  {
   "cell_type": "code",
   "execution_count": 42,
   "id": "34a59377-d790-4453-a08c-9452eb780ccb",
   "metadata": {},
   "outputs": [],
   "source": [
    "del d15[\"key1\"]"
   ]
  },
  {
   "cell_type": "code",
   "execution_count": 43,
   "id": "3f05c1c6-6fb4-4334-8072-81f2d3947466",
   "metadata": {},
   "outputs": [
    {
     "data": {
      "text/plain": [
       "{'key': {'name': 'sudh', 'class': 'dsh'}}"
      ]
     },
     "execution_count": 43,
     "metadata": {},
     "output_type": "execute_result"
    }
   ],
   "source": [
    "d15"
   ]
  },
  {
   "cell_type": "code",
   "execution_count": 44,
   "id": "a3c422c5-0495-4c5b-8104-7bb816b1eec2",
   "metadata": {},
   "outputs": [
    {
     "data": {
      "text/plain": [
       "{}"
      ]
     },
     "execution_count": 44,
     "metadata": {},
     "output_type": "execute_result"
    }
   ],
   "source": [
    "d15.clear()\n",
    "d15"
   ]
  },
  {
   "cell_type": "code",
   "execution_count": 45,
   "id": "8372b97a-37ac-40a3-9949-c5f08645c5af",
   "metadata": {},
   "outputs": [
    {
     "data": {
      "text/plain": [
       "5"
      ]
     },
     "execution_count": 45,
     "metadata": {},
     "output_type": "execute_result"
    }
   ],
   "source": [
    "len(d16)"
   ]
  },
  {
   "cell_type": "code",
   "execution_count": 46,
   "id": "3ea95430-6912-49b7-aee0-9d622c1831bd",
   "metadata": {},
   "outputs": [
    {
     "data": {
      "text/plain": [
       "{'batch': ['data science', 'web dev', 'dsh'],\n",
       " 'start_date': (28, 13, 21),\n",
       " 'mentor_name': {'krish', 'sudhanshu'},\n",
       " 'timing': (8, 8, 8),\n",
       " 'name': 'praju'}"
      ]
     },
     "execution_count": 46,
     "metadata": {},
     "output_type": "execute_result"
    }
   ],
   "source": [
    "d16"
   ]
  },
  {
   "cell_type": "code",
   "execution_count": 47,
   "id": "306a7cbe-9765-4498-a1c5-44d422b54b3d",
   "metadata": {},
   "outputs": [
    {
     "data": {
      "text/plain": [
       "dict_keys(['batch', 'start_date', 'mentor_name', 'timing', 'name'])"
      ]
     },
     "execution_count": 47,
     "metadata": {},
     "output_type": "execute_result"
    }
   ],
   "source": [
    "d16.keys()"
   ]
  },
  {
   "cell_type": "code",
   "execution_count": 48,
   "id": "c9808c92-c1f2-4818-8c7c-c79946c90e43",
   "metadata": {},
   "outputs": [
    {
     "data": {
      "text/plain": [
       "dict_values([['data science', 'web dev', 'dsh'], (28, 13, 21), {'krish', 'sudhanshu'}, (8, 8, 8), 'praju'])"
      ]
     },
     "execution_count": 48,
     "metadata": {},
     "output_type": "execute_result"
    }
   ],
   "source": [
    "d16.values()"
   ]
  },
  {
   "cell_type": "code",
   "execution_count": 49,
   "id": "812aff0f-a1b9-47ee-9cff-3be8446f9fd9",
   "metadata": {},
   "outputs": [
    {
     "data": {
      "text/plain": [
       "[['data science', 'web dev', 'dsh'],\n",
       " (28, 13, 21),\n",
       " {'krish', 'sudhanshu'},\n",
       " (8, 8, 8),\n",
       " 'praju']"
      ]
     },
     "execution_count": 49,
     "metadata": {},
     "output_type": "execute_result"
    }
   ],
   "source": [
    "list(d16.values())"
   ]
  },
  {
   "cell_type": "code",
   "execution_count": 50,
   "id": "d65e482a-3cec-433a-af43-67877ff2625f",
   "metadata": {},
   "outputs": [
    {
     "data": {
      "text/plain": [
       "['batch', 'start_date', 'mentor_name', 'timing', 'name']"
      ]
     },
     "execution_count": 50,
     "metadata": {},
     "output_type": "execute_result"
    }
   ],
   "source": [
    "list(d16.keys())"
   ]
  },
  {
   "cell_type": "code",
   "execution_count": 51,
   "id": "8a35989c-94af-436f-a9fa-77f79598acaa",
   "metadata": {},
   "outputs": [
    {
     "data": {
      "text/plain": [
       "dict_items([('batch', ['data science', 'web dev', 'dsh']), ('start_date', (28, 13, 21)), ('mentor_name', {'krish', 'sudhanshu'}), ('timing', (8, 8, 8)), ('name', 'praju')])"
      ]
     },
     "execution_count": 51,
     "metadata": {},
     "output_type": "execute_result"
    }
   ],
   "source": [
    "d16.items()"
   ]
  },
  {
   "cell_type": "code",
   "execution_count": 52,
   "id": "669d6f0c-c15a-4101-a36d-3f5292008692",
   "metadata": {},
   "outputs": [
    {
     "data": {
      "text/plain": [
       "[('batch', ['data science', 'web dev', 'dsh']),\n",
       " ('start_date', (28, 13, 21)),\n",
       " ('mentor_name', {'krish', 'sudhanshu'}),\n",
       " ('timing', (8, 8, 8)),\n",
       " ('name', 'praju')]"
      ]
     },
     "execution_count": 52,
     "metadata": {},
     "output_type": "execute_result"
    }
   ],
   "source": [
    "list(d16.items())"
   ]
  },
  {
   "cell_type": "code",
   "execution_count": 65,
   "id": "f791ab8b-401e-4c9a-a449-bf8feff9a1aa",
   "metadata": {},
   "outputs": [
    {
     "data": {
      "text/plain": [
       "{'batch': ['data science', 'web dev', 'dsh'],\n",
       " 'start_date': (28, 13, 21),\n",
       " 'mentor_name': {'krish', 'sudhanshu'},\n",
       " 'timing': (8, 8, 8),\n",
       " 'name': 'praju'}"
      ]
     },
     "execution_count": 65,
     "metadata": {},
     "output_type": "execute_result"
    }
   ],
   "source": [
    "d16"
   ]
  },
  {
   "cell_type": "code",
   "execution_count": 66,
   "id": "c0954ab3-2542-49b1-8ca2-98173e3d0481",
   "metadata": {},
   "outputs": [
    {
     "data": {
      "text/plain": [
       "{'batch': ['data science', 'web dev', 'dsh'],\n",
       " 'start_date': (28, 13, 21),\n",
       " 'mentor_name': {'krish', 'sudhanshu'},\n",
       " 'timing': (8, 8, 8),\n",
       " 'name': 'praju'}"
      ]
     },
     "execution_count": 66,
     "metadata": {},
     "output_type": "execute_result"
    }
   ],
   "source": [
    "d17=d16.copy()\n",
    "d17"
   ]
  },
  {
   "cell_type": "code",
   "execution_count": 67,
   "id": "713bfa6b-b6b5-4778-890b-a46b0f6f7bc5",
   "metadata": {},
   "outputs": [
    {
     "data": {
      "text/plain": [
       "{'batch': ['data science', 'web dev', 'dsh'],\n",
       " 'start_date': (28, 13, 21),\n",
       " 'mentor_name': {'krish', 'sudhanshu'},\n",
       " 'timing': (8, 8, 8)}"
      ]
     },
     "execution_count": 67,
     "metadata": {},
     "output_type": "execute_result"
    }
   ],
   "source": [
    "del d16[\"name\"]\n",
    "d16"
   ]
  },
  {
   "cell_type": "code",
   "execution_count": 57,
   "id": "9001f937-50d4-4486-905e-be4bd72049f5",
   "metadata": {},
   "outputs": [
    {
     "data": {
      "text/plain": [
       "{'batch': ['data science', 'web dev', 'dsh'],\n",
       " 'start_date': (28, 13, 21),\n",
       " 'mentor_name': {'krish', 'sudhanshu'},\n",
       " 'timing': (8, 8, 8),\n",
       " 'name': 'praju'}"
      ]
     },
     "execution_count": 57,
     "metadata": {},
     "output_type": "execute_result"
    }
   ],
   "source": [
    "d17"
   ]
  },
  {
   "cell_type": "code",
   "execution_count": 68,
   "id": "2b754b17-2870-4b71-a5ce-f9e1c6854f6e",
   "metadata": {},
   "outputs": [],
   "source": [
    "d18=d16\n"
   ]
  },
  {
   "cell_type": "code",
   "execution_count": 69,
   "id": "cbd34286-f5c1-4c9e-abdf-06b66d9c1023",
   "metadata": {},
   "outputs": [
    {
     "data": {
      "text/plain": [
       "{'batch': ['data science', 'web dev', 'dsh'],\n",
       " 'start_date': (28, 13, 21),\n",
       " 'mentor_name': {'krish', 'sudhanshu'},\n",
       " 'timing': (8, 8, 8)}"
      ]
     },
     "execution_count": 69,
     "metadata": {},
     "output_type": "execute_result"
    }
   ],
   "source": [
    "d18"
   ]
  },
  {
   "cell_type": "code",
   "execution_count": 70,
   "id": "4f898a45-06a8-4936-b9cb-626aa9d17d1d",
   "metadata": {},
   "outputs": [
    {
     "ename": "TypeError",
     "evalue": "pop expected at least 1 argument, got 0",
     "output_type": "error",
     "traceback": [
      "\u001b[0;31m---------------------------------------------------------------------------\u001b[0m",
      "\u001b[0;31mTypeError\u001b[0m                                 Traceback (most recent call last)",
      "Cell \u001b[0;32mIn[70], line 1\u001b[0m\n\u001b[0;32m----> 1\u001b[0m \u001b[43md16\u001b[49m\u001b[38;5;241;43m.\u001b[39;49m\u001b[43mpop\u001b[49m\u001b[43m(\u001b[49m\u001b[43m)\u001b[49m\n",
      "\u001b[0;31mTypeError\u001b[0m: pop expected at least 1 argument, got 0"
     ]
    }
   ],
   "source": [
    "d16.pop()"
   ]
  },
  {
   "cell_type": "code",
   "execution_count": 71,
   "id": "cfeea4c9-12ca-4887-8254-9a77ebacbfff",
   "metadata": {},
   "outputs": [
    {
     "data": {
      "text/plain": [
       "(8, 8, 8)"
      ]
     },
     "execution_count": 71,
     "metadata": {},
     "output_type": "execute_result"
    }
   ],
   "source": [
    "d16.pop(\"timing\")"
   ]
  },
  {
   "cell_type": "code",
   "execution_count": 72,
   "id": "4352f9db-f59d-402b-9e61-502cbe827246",
   "metadata": {},
   "outputs": [
    {
     "data": {
      "text/plain": [
       "{'batch': ['data science', 'web dev', 'dsh'],\n",
       " 'start_date': (28, 13, 21),\n",
       " 'mentor_name': {'krish', 'sudhanshu'}}"
      ]
     },
     "execution_count": 72,
     "metadata": {},
     "output_type": "execute_result"
    }
   ],
   "source": [
    "d16"
   ]
  },
  {
   "cell_type": "code",
   "execution_count": 73,
   "id": "d385fb1a-dfab-4671-b527-faf2d8310e69",
   "metadata": {},
   "outputs": [
    {
     "data": {
      "text/plain": [
       "{'batch': ['data science', 'web dev', 'dsh'], 'start_date': (28, 13, 21)}"
      ]
     },
     "execution_count": 73,
     "metadata": {},
     "output_type": "execute_result"
    }
   ],
   "source": [
    "d16.pop(\"mentor_name\")\n",
    "d16"
   ]
  },
  {
   "cell_type": "code",
   "execution_count": 74,
   "id": "3dc0b19f-2858-40e3-b71b-3fd9e574b73d",
   "metadata": {},
   "outputs": [
    {
     "data": {
      "text/plain": [
       "{1: ('a', 'b', 'c'), 2: ('a', 'b', 'c'), 3: ('a', 'b', 'c')}"
      ]
     },
     "execution_count": 74,
     "metadata": {},
     "output_type": "execute_result"
    }
   ],
   "source": [
    "d.fromkeys((1,2,3),('a','b','c'))"
   ]
  },
  {
   "cell_type": "code",
   "execution_count": 76,
   "id": "02143af9-4df4-49e3-b544-cf2839f2824c",
   "metadata": {},
   "outputs": [],
   "source": [
    "d19={'key1':'value','key2':'value2'}\n",
    "d20={'key3':'value3','key4':'value4'}"
   ]
  },
  {
   "cell_type": "code",
   "execution_count": 77,
   "id": "3dbfb70c-20e1-439e-a803-47153ee3b166",
   "metadata": {},
   "outputs": [
    {
     "data": {
      "text/plain": [
       "({'key1': 'value', 'key2': 'value2'}, {'key3': 'value3', 'key4': 'value4'})"
      ]
     },
     "execution_count": 77,
     "metadata": {},
     "output_type": "execute_result"
    }
   ],
   "source": [
    "(d19,d20)"
   ]
  },
  {
   "cell_type": "code",
   "execution_count": 78,
   "id": "759a0a9c-d0b3-4ee4-b695-41b4f9d51082",
   "metadata": {},
   "outputs": [],
   "source": [
    "d19.update(d20)"
   ]
  },
  {
   "cell_type": "code",
   "execution_count": 79,
   "id": "90a1cea0-1b92-43ed-a693-ff4e9cbe1144",
   "metadata": {},
   "outputs": [
    {
     "data": {
      "text/plain": [
       "{'key1': 'value', 'key2': 'value2', 'key3': 'value3', 'key4': 'value4'}"
      ]
     },
     "execution_count": 79,
     "metadata": {},
     "output_type": "execute_result"
    }
   ],
   "source": [
    "d19"
   ]
  },
  {
   "cell_type": "code",
   "execution_count": 80,
   "id": "6bf139f6-9ddf-44ef-a400-072784a2a786",
   "metadata": {},
   "outputs": [
    {
     "data": {
      "text/plain": [
       "{'key3': 'value3', 'key4': 'value4'}"
      ]
     },
     "execution_count": 80,
     "metadata": {},
     "output_type": "execute_result"
    }
   ],
   "source": [
    "d20"
   ]
  },
  {
   "cell_type": "code",
   "execution_count": 81,
   "id": "4dffb13e-187d-4c0b-9d19-e7d2c8ad5a3d",
   "metadata": {},
   "outputs": [],
   "source": [
    "d20.update(d19)"
   ]
  },
  {
   "cell_type": "code",
   "execution_count": 82,
   "id": "dd416551-fbf0-4d00-843a-1817aed8dc0c",
   "metadata": {},
   "outputs": [
    {
     "data": {
      "text/plain": [
       "{'key3': 'value3', 'key4': 'value4', 'key1': 'value', 'key2': 'value2'}"
      ]
     },
     "execution_count": 82,
     "metadata": {},
     "output_type": "execute_result"
    }
   ],
   "source": [
    "d20"
   ]
  },
  {
   "cell_type": "code",
   "execution_count": 83,
   "id": "b670ab82-2bb2-4ef6-8419-555830695456",
   "metadata": {},
   "outputs": [],
   "source": [
    "d20.get(\"sudh\")"
   ]
  },
  {
   "cell_type": "code",
   "execution_count": 84,
   "id": "75ee1814-b140-48aa-8ed1-0bb2a6eb857d",
   "metadata": {},
   "outputs": [
    {
     "data": {
      "text/plain": [
       "'value3'"
      ]
     },
     "execution_count": 84,
     "metadata": {},
     "output_type": "execute_result"
    }
   ],
   "source": [
    "d20.get(\"key3\")"
   ]
  },
  {
   "cell_type": "code",
   "execution_count": 86,
   "id": "6f982b61-985d-4a30-939f-19e047f33a5a",
   "metadata": {},
   "outputs": [
    {
     "data": {
      "text/plain": [
       "'value3'"
      ]
     },
     "execution_count": 86,
     "metadata": {},
     "output_type": "execute_result"
    }
   ],
   "source": [
    "d20[\"key3\"]"
   ]
  },
  {
   "cell_type": "code",
   "execution_count": 87,
   "id": "f2dde75f-d282-434c-a075-239a5b132196",
   "metadata": {},
   "outputs": [
    {
     "ename": "KeyError",
     "evalue": "'sudh'",
     "output_type": "error",
     "traceback": [
      "\u001b[0;31m---------------------------------------------------------------------------\u001b[0m",
      "\u001b[0;31mKeyError\u001b[0m                                  Traceback (most recent call last)",
      "Cell \u001b[0;32mIn[87], line 1\u001b[0m\n\u001b[0;32m----> 1\u001b[0m \u001b[43md20\u001b[49m\u001b[43m[\u001b[49m\u001b[38;5;124;43m\"\u001b[39;49m\u001b[38;5;124;43msudh\u001b[39;49m\u001b[38;5;124;43m\"\u001b[39;49m\u001b[43m]\u001b[49m\n",
      "\u001b[0;31mKeyError\u001b[0m: 'sudh'"
     ]
    }
   ],
   "source": [
    "d20[\"sudh\"]"
   ]
  },
  {
   "cell_type": "markdown",
   "id": "52f2a25a-9b32-49f0-9802-5b997d58b9b5",
   "metadata": {},
   "source": [
    "### Dictionary comprehension"
   ]
  },
  {
   "cell_type": "code",
   "execution_count": 89,
   "id": "6895a79e-d9c8-4b51-835f-18f472e2bae0",
   "metadata": {},
   "outputs": [
    {
     "data": {
      "text/plain": [
       "[1, 2, 3, 4, 5, 6, 7, 8, 9, 10]"
      ]
     },
     "execution_count": 89,
     "metadata": {},
     "output_type": "execute_result"
    }
   ],
   "source": [
    "list(range(1,11))"
   ]
  },
  {
   "cell_type": "code",
   "execution_count": 92,
   "id": "a885c5aa-68f1-4415-8ee7-8374b4e17e41",
   "metadata": {},
   "outputs": [
    {
     "data": {
      "text/plain": [
       "{1: 1, 2: 4, 3: 9, 4: 16, 5: 25, 6: 36, 7: 49, 8: 64, 9: 81, 10: 100}"
      ]
     },
     "execution_count": 92,
     "metadata": {},
     "output_type": "execute_result"
    }
   ],
   "source": [
    "{ i : i**2 for i in range(1,11)}"
   ]
  },
  {
   "cell_type": "code",
   "execution_count": 93,
   "id": "909c0a21-5880-47ee-aea6-e0e502527051",
   "metadata": {},
   "outputs": [
    {
     "data": {
      "text/plain": [
       "{1: 11, 2: 12, 3: 13, 4: 14, 5: 15, 6: 16, 7: 17, 8: 18, 9: 19, 10: 20}"
      ]
     },
     "execution_count": 93,
     "metadata": {},
     "output_type": "execute_result"
    }
   ],
   "source": [
    "{ i : i+10 for i in range(1,11)}"
   ]
  },
  {
   "cell_type": "code",
   "execution_count": 96,
   "id": "8f18e88e-4a9d-40e7-b809-d3d467e341b9",
   "metadata": {},
   "outputs": [
    {
     "data": {
      "text/plain": [
       "{1: 0.0,\n",
       " 2: 0.3010299956639812,\n",
       " 3: 0.47712125471966244,\n",
       " 4: 0.6020599913279624,\n",
       " 5: 0.6989700043360189,\n",
       " 6: 0.7781512503836436,\n",
       " 7: 0.8450980400142568,\n",
       " 8: 0.9030899869919435,\n",
       " 9: 0.9542425094393249,\n",
       " 10: 1.0}"
      ]
     },
     "execution_count": 96,
     "metadata": {},
     "output_type": "execute_result"
    }
   ],
   "source": [
    "import math\n",
    "d21={ i : math.log10(i) for i in range(1,11)}\n",
    "d21"
   ]
  },
  {
   "cell_type": "code",
   "execution_count": 94,
   "id": "eedd4bbd-217f-4600-bfef-40abf76259e5",
   "metadata": {},
   "outputs": [
    {
     "data": {
      "text/plain": [
       "{'batch': ['data science', 'web dev', 'dsh'], 'start_date': (28, 13, 21)}"
      ]
     },
     "execution_count": 94,
     "metadata": {},
     "output_type": "execute_result"
    }
   ],
   "source": [
    "d16"
   ]
  },
  {
   "cell_type": "code",
   "execution_count": 95,
   "id": "bf091a0b-6266-4e38-b684-39b45f6b938b",
   "metadata": {},
   "outputs": [
    {
     "data": {
      "text/plain": [
       "True"
      ]
     },
     "execution_count": 95,
     "metadata": {},
     "output_type": "execute_result"
    }
   ],
   "source": [
    "\"batch\" in d16"
   ]
  },
  {
   "cell_type": "code",
   "execution_count": 97,
   "id": "a2c25148-6849-4b16-a039-22041db2c092",
   "metadata": {},
   "outputs": [
    {
     "data": {
      "text/plain": [
       "dict_keys([1, 2, 3, 4, 5, 6, 7, 8, 9, 10])"
      ]
     },
     "execution_count": 97,
     "metadata": {},
     "output_type": "execute_result"
    }
   ],
   "source": [
    "d21.keys()"
   ]
  },
  {
   "cell_type": "code",
   "execution_count": 101,
   "id": "0a0dc0ab-6d6d-4621-9cd8-3d9e1a4c36e0",
   "metadata": {},
   "outputs": [
    {
     "name": "stdout",
     "output_type": "stream",
     "text": [
      "2 = 0.3010299956639812\n",
      "4 = 0.6020599913279624\n",
      "6 = 0.7781512503836436\n",
      "8 = 0.9030899869919435\n",
      "10 = 1.0\n"
     ]
    }
   ],
   "source": [
    "for i in d21.keys():\n",
    "    if i%2==0:\n",
    "        print(i,\"=\",d21[i])\n",
    "    "
   ]
  },
  {
   "cell_type": "code",
   "execution_count": null,
   "id": "0ff26ca4-bb80-4761-a3a9-99fc570e4bfd",
   "metadata": {},
   "outputs": [],
   "source": []
  },
  {
   "cell_type": "code",
   "execution_count": null,
   "id": "ee980f75-43b3-4302-9501-fa39e72bb397",
   "metadata": {},
   "outputs": [],
   "source": []
  },
  {
   "cell_type": "code",
   "execution_count": null,
   "id": "072fdcf5-4f66-43a1-b847-70af66ce45ac",
   "metadata": {},
   "outputs": [],
   "source": []
  },
  {
   "cell_type": "code",
   "execution_count": null,
   "id": "529450dc-8e1f-48b2-bb4e-7646d617dc2c",
   "metadata": {},
   "outputs": [],
   "source": []
  },
  {
   "cell_type": "code",
   "execution_count": null,
   "id": "61e2f00f-7e73-4218-a107-5b708ee9e4fe",
   "metadata": {},
   "outputs": [],
   "source": []
  },
  {
   "cell_type": "code",
   "execution_count": null,
   "id": "5553dfb9-2e4a-4414-9463-842daab4f6d9",
   "metadata": {},
   "outputs": [],
   "source": []
  },
  {
   "cell_type": "code",
   "execution_count": null,
   "id": "1062d2a6-9721-432c-b11b-1217f482d74c",
   "metadata": {},
   "outputs": [],
   "source": []
  },
  {
   "cell_type": "code",
   "execution_count": null,
   "id": "b5cd7a27-3080-402f-9467-ef803e15c747",
   "metadata": {},
   "outputs": [],
   "source": []
  },
  {
   "cell_type": "code",
   "execution_count": null,
   "id": "1c9e0f53-1f58-490e-8fbe-46347292737e",
   "metadata": {},
   "outputs": [],
   "source": []
  },
  {
   "cell_type": "code",
   "execution_count": null,
   "id": "87d71ecc-9511-425e-9e91-41229aa8f58d",
   "metadata": {},
   "outputs": [],
   "source": []
  }
 ],
 "metadata": {
  "kernelspec": {
   "display_name": "Python 3 (ipykernel)",
   "language": "python",
   "name": "python3"
  },
  "language_info": {
   "codemirror_mode": {
    "name": "ipython",
    "version": 3
   },
   "file_extension": ".py",
   "mimetype": "text/x-python",
   "name": "python",
   "nbconvert_exporter": "python",
   "pygments_lexer": "ipython3",
   "version": "3.10.8"
  }
 },
 "nbformat": 4,
 "nbformat_minor": 5
}
