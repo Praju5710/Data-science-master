{
 "cells": [
  {
   "cell_type": "markdown",
   "id": "d0b0ef90-8e34-4d16-93e1-cb9147b6f7bf",
   "metadata": {},
   "source": [
    "#### 1) Python Programming Language was developed by Guido van Rossum."
   ]
  },
  {
   "cell_type": "markdown",
   "id": "913806b4-f4f7-4bb6-88f3-4fea3f257e20",
   "metadata": {},
   "source": [
    "#### 2) Python is an interpreted programming language, supporting object-oriented, structured, and functional programming."
   ]
  },
  {
   "cell_type": "markdown",
   "id": "84b1795f-3604-4175-80f1-f2ca5d397373",
   "metadata": {},
   "source": [
    "#### 3) Yes. Case is always significant while dealing with identifiers in python."
   ]
  },
  {
   "cell_type": "markdown",
   "id": "82ebed27-6901-407a-afd9-9a268f82670a",
   "metadata": {},
   "source": [
    "#### 4) .py is the correct extension of the python file."
   ]
  },
  {
   "cell_type": "markdown",
   "id": "e56ad83f-519f-441e-a485-d93c8d93878a",
   "metadata": {},
   "source": [
    "#### 5) Yes. Python codes are both compiled as well as interpreted. "
   ]
  },
  {
   "cell_type": "markdown",
   "id": "90cd53a0-5e29-4212-b5dd-17bdc3c623bb",
   "metadata": {},
   "source": [
    "#### 6) Name of the few blocks of code used to define in python language :- i) Function definition block , ii) Looping block (for loop , while loop) , iii) Conditional statement block , etc. "
   ]
  },
  {
   "cell_type": "markdown",
   "id": "431d9921-ffe6-4f21-9d81-735d73aee21f",
   "metadata": {},
   "source": [
    "#### 7) Hash (#) character used to give single-line comments in python. "
   ]
  },
  {
   "cell_type": "markdown",
   "id": "8de9b114-fdcc-4eef-8493-94f63299678b",
   "metadata": {},
   "source": [
    "#### 8) The function sys. version can help us to find the version of python that we are currently working on."
   ]
  },
  {
   "cell_type": "markdown",
   "id": "e693c46f-16d4-467f-ac4d-c4e1c080e86a",
   "metadata": {},
   "source": [
    "#### 9) Python supports the creation of anonymous functions at runtime, using a construct called lambda. "
   ]
  },
  {
   "cell_type": "markdown",
   "id": "052225c0-a834-4361-9133-5c540818a82e",
   "metadata": {},
   "source": [
    "#### 10) pip ( stands for “pip Install Packages”) is the standard tool for installing Python packages and their dependencies in a secure manner."
   ]
  },
  {
   "cell_type": "markdown",
   "id": "f93b8752-7e1a-4b10-a3e4-80660934371b",
   "metadata": {},
   "source": [
    "#### 11) float(), dict(), list(), int(), len(), max(), print(), range(), str(), etc are built-in functions in python. "
   ]
  },
  {
   "cell_type": "markdown",
   "id": "b7a57f9a-9aae-4cb7-bb20-9bfb76a1a449",
   "metadata": {},
   "source": [
    "#### 12) An identifier can have a maximum possible length of 79 characters in Python."
   ]
  },
  {
   "cell_type": "markdown",
   "id": "839f3b71-caaf-4d94-9512-904d6c134165",
   "metadata": {},
   "source": [
    "#### 13) Benefits of using python are :- i) Open source and large active community base. ii) High-level language. iii) Versatile, easy to read, learn and write. iv) Extensive support libraries"
   ]
  },
  {
   "cell_type": "markdown",
   "id": "5822a55d-0fa3-4747-b03e-4d96a9f272e2",
   "metadata": {},
   "source": [
    "#### 14) Memory management in Python involves the management of a private heap. A private heap is a portion of memory that is exclusive to the Python process. All Python objects and data structures are stored in the private heap. The operating system cannot allocate this piece of memory to another process."
   ]
  },
  {
   "cell_type": "markdown",
   "id": "da6c9ea1-391b-48cc-bff7-5cfd552dd138",
   "metadata": {},
   "source": [
    "#### 15) To install Python on Windows and set up the necessary path variables, we can follow these steps:"
   ]
  },
  {
   "cell_type": "markdown",
   "id": "5277fc39-b579-4a8a-82b3-cc201df5db07",
   "metadata": {},
   "source": [
    "1) Download Python:\n",
    "Visit the official Python website at https://www.python.org.\n",
    "Go to the \"Downloads\" section and click on the \"Python x.x.x\" (replace \"x.x.x\" with the desired version) link.\n",
    "Scroll down and select the appropriate installer for your Windows operating system (32-bit or 64-bit).\n",
    "\n",
    "2) Run the Installer:\n",
    "Once the installer is downloaded, double-click on it to run it.\n",
    "Check the box that says \"Add Python x.x to PATH\" during the installation process. This will automatically set up the necessary path variables.\n",
    "Click \"Install Now\" and follow the instructions provided by the installer.\n",
    "\n",
    "3) Verify the Installation:\n",
    "Open the command prompt by pressing the Windows key, typing \"cmd,\" and selecting the \"Command Prompt\" app.\n",
    "Type python --version in the command prompt and press Enter. It should display the installed Python version.\n",
    "\n",
    "4) Set Up Path Variables (if not set during installation):\n",
    "Open the Start menu, right-click on \"This PC\" or \"My Computer,\" and select \"Properties.\"\n",
    "Click on \"Advanced system settings\" on the left-hand side.\n",
    "In the System Properties window, click on the \"Environment Variables\" button.\n",
    "In the Environment Variables window, under \"System variables,\" scroll down and select the \"Path\" variable.\n",
    "Click on \"Edit\" and then click on \"New\" to add a new entry.Type C:\\PythonXX\\ (replace \"XX\" with the installed Python version, e.g., 3.9) and click \"OK\" to save the changes.\n",
    "Click \"OK\" in the Environment Variables window and then \"OK\" in the System Properties window to close both.\n",
    "\n",
    "After completing these steps, you should have Python installed on your Windows system and the necessary path variables set up."
   ]
  },
  {
   "cell_type": "markdown",
   "id": "728d3e17-9c7b-435e-a8f3-641c14343a0f",
   "metadata": {},
   "source": [
    "#### 16) Yes. Indentation is important to Python, because it's how you determine scope. Scope is how Python knows what code belongs to what part of the program."
   ]
  },
  {
   "cell_type": "code",
   "execution_count": null,
   "id": "9b6b0438-b245-4de7-97e4-a9a4647abc34",
   "metadata": {},
   "outputs": [],
   "source": []
  }
 ],
 "metadata": {
  "kernelspec": {
   "display_name": "Python 3 (ipykernel)",
   "language": "python",
   "name": "python3"
  },
  "language_info": {
   "codemirror_mode": {
    "name": "ipython",
    "version": 3
   },
   "file_extension": ".py",
   "mimetype": "text/x-python",
   "name": "python",
   "nbconvert_exporter": "python",
   "pygments_lexer": "ipython3",
   "version": "3.10.8"
  }
 },
 "nbformat": 4,
 "nbformat_minor": 5
}
